{
 "cells": [
  {
   "cell_type": "markdown",
   "metadata": {
    "collapsed": true
   },
   "source": [
    "# Finding the Best _Star Wars_ Movie of the Franchise, According to Americans\n",
    "\n",
    "## Introduction\n",
    "\n",
    "_Star Wars_ is one of the most well-known, popular, and successful franchises of all time, watched and beloved around the world. But which movie within the franchise is the best? In this project, we attempt to identify America's favorite _Star Wars_ movie using the results of a survey of _Star Wars_ fans conducted by [FiveThirtyEight](https://fivethirtyeight.com). The original dataset can be found on the [fivethirtyeight GitHub repository](https://github.com/fivethirtyeight/data/tree/master/star-wars-survey), and the original story published from the survey results is available [here](https://fivethirtyeight.com/features/americas-favorite-star-wars-movies-and-least-favorite-characters/).\n",
    "\n",
    "The full data dictionary for all relevant columns in the survey dataset is provided below:\n",
    "- `RespondentID` - anonymous ID of survey respondent;\n",
    "- `Have you seen any of the 6 films in the Star Wars franchise?` - yes/no response indicating whether respondent has seen _Star Wars_;\n",
    "- `Do you consider yourself to be a fan of the Star Wars film franchise?` - yes/no response indicating whether respondent considers themselves a _Star Wars_ fan;\n",
    "- `Which of the following Star Wars films have you seen? Please select all that apply.` - checkbox response indicating whether respondent has seen each of six _Star Wars_ films in franchise; this column and the following five unnamed columns each correspond to one of the films in chronological order;\n",
    "- `Please rank the Star Wars films in order of preference with 1 being your favorite film in the franchise and 6 being your least favorite film.` - integer response (1-6) indicating respondent's ranking of each of six _Star Wars_ films in franchise from best to worst; this column and the following five unnamed columns each correspond to one of the films in chronological order;\n",
    "- `Please state whether you view the following characters favorably, unfavorably, or are unfamiliar with him/her.` - checkbox response indicating how respondent views individual Star Wars characters; this column and the following thirteen columns each correspond to a single character;\n",
    "- `Which character shot first?` - checkbox response indicating which character the respondent believes to have shot first (Han Solo or Greedo);\n",
    "- `Are you familiar with the Expanded Universe?` - yes/no response indicating whether respondent familiar with Star Wars expanded universe;\n",
    "- `Do you consider yourself to be a fan of the Expanded Universe?ÂÃ¦` - yes/no response indicating whether respondent a fan of Star Wars expanded universe;\n",
    "- `Do you consider yourself to be a fan of the Star Trek franchise?` - yes/no response indicating whether respondent considers themselves a _Star Trek_ fan;\n",
    "- `Gender` - gender of respondent;\n",
    "- `Age` - age of respondent;\n",
    "- `Household Income` - household income of respondent;\n",
    "- `Education` - education level of respondent;\n",
    "- `Location (Census Region)` - location of respondent;\n",
    "\n",
    "Our goal in this project is to clean and analyze the Star Wars survey results dataset in order to identify the most popular film in the franchise among the respondents and among different sections of the respondent population.\n",
    "\n",
    "### Summary of Results\n",
    "Based on our analysis, Episode V is the clear (and unexpected) favorite across all demographics. The full analysis is presented below."
   ]
  },
  {
   "cell_type": "markdown",
   "metadata": {},
   "source": [
    "## Cleaning the _Star Wars_ Survey Results Data\n",
    "\n",
    "The first step in our analysis is to clean the data. Immediately upon viewing the first ten rows of the dataset, we see that the first row is filled with column subheaders rather than survey responses. As long as we know what each column represents (and we do - see the data dictionary above), we can get rid of this first row so that our resulting dataset only contains actual data."
   ]
  },
  {
   "cell_type": "code",
   "execution_count": 1,
   "metadata": {
    "collapsed": true
   },
   "outputs": [],
   "source": [
    "# import pandas library and read in dataset\n",
    "import numpy as np\n",
    "import pandas as pd\n",
    "star_wars = pd.read_csv('star_wars.csv', encoding='ISO-8859-1')"
   ]
  },
  {
   "cell_type": "code",
   "execution_count": 2,
   "metadata": {
    "collapsed": false
   },
   "outputs": [
    {
     "name": "stdout",
     "output_type": "stream",
     "text": [
      "   RespondentID Have you seen any of the 6 films in the Star Wars franchise?  \\\n",
      "0           NaN                                           Response             \n",
      "1  3.292880e+09                                                Yes             \n",
      "2  3.292880e+09                                                 No             \n",
      "3  3.292765e+09                                                Yes             \n",
      "4  3.292763e+09                                                Yes             \n",
      "5  3.292731e+09                                                Yes             \n",
      "6  3.292719e+09                                                Yes             \n",
      "7  3.292685e+09                                                Yes             \n",
      "8  3.292664e+09                                                Yes             \n",
      "9  3.292654e+09                                                Yes             \n",
      "\n",
      "  Do you consider yourself to be a fan of the Star Wars film franchise?  \\\n",
      "0                                           Response                      \n",
      "1                                                Yes                      \n",
      "2                                                NaN                      \n",
      "3                                                 No                      \n",
      "4                                                Yes                      \n",
      "5                                                Yes                      \n",
      "6                                                Yes                      \n",
      "7                                                Yes                      \n",
      "8                                                Yes                      \n",
      "9                                                Yes                      \n",
      "\n",
      "  Which of the following Star Wars films have you seen? Please select all that apply.  \\\n",
      "0           Star Wars: Episode I  The Phantom Menace                                    \n",
      "1           Star Wars: Episode I  The Phantom Menace                                    \n",
      "2                                                NaN                                    \n",
      "3           Star Wars: Episode I  The Phantom Menace                                    \n",
      "4           Star Wars: Episode I  The Phantom Menace                                    \n",
      "5           Star Wars: Episode I  The Phantom Menace                                    \n",
      "6           Star Wars: Episode I  The Phantom Menace                                    \n",
      "7           Star Wars: Episode I  The Phantom Menace                                    \n",
      "8           Star Wars: Episode I  The Phantom Menace                                    \n",
      "9           Star Wars: Episode I  The Phantom Menace                                    \n",
      "\n",
      "                                    Unnamed: 4  \\\n",
      "0  Star Wars: Episode II  Attack of the Clones   \n",
      "1  Star Wars: Episode II  Attack of the Clones   \n",
      "2                                          NaN   \n",
      "3  Star Wars: Episode II  Attack of the Clones   \n",
      "4  Star Wars: Episode II  Attack of the Clones   \n",
      "5  Star Wars: Episode II  Attack of the Clones   \n",
      "6  Star Wars: Episode II  Attack of the Clones   \n",
      "7  Star Wars: Episode II  Attack of the Clones   \n",
      "8  Star Wars: Episode II  Attack of the Clones   \n",
      "9  Star Wars: Episode II  Attack of the Clones   \n",
      "\n",
      "                                    Unnamed: 5  \\\n",
      "0  Star Wars: Episode III  Revenge of the Sith   \n",
      "1  Star Wars: Episode III  Revenge of the Sith   \n",
      "2                                          NaN   \n",
      "3  Star Wars: Episode III  Revenge of the Sith   \n",
      "4  Star Wars: Episode III  Revenge of the Sith   \n",
      "5  Star Wars: Episode III  Revenge of the Sith   \n",
      "6  Star Wars: Episode III  Revenge of the Sith   \n",
      "7  Star Wars: Episode III  Revenge of the Sith   \n",
      "8  Star Wars: Episode III  Revenge of the Sith   \n",
      "9  Star Wars: Episode III  Revenge of the Sith   \n",
      "\n",
      "                          Unnamed: 6  \\\n",
      "0  Star Wars: Episode IV  A New Hope   \n",
      "1  Star Wars: Episode IV  A New Hope   \n",
      "2                                NaN   \n",
      "3                                NaN   \n",
      "4  Star Wars: Episode IV  A New Hope   \n",
      "5  Star Wars: Episode IV  A New Hope   \n",
      "6  Star Wars: Episode IV  A New Hope   \n",
      "7  Star Wars: Episode IV  A New Hope   \n",
      "8  Star Wars: Episode IV  A New Hope   \n",
      "9  Star Wars: Episode IV  A New Hope   \n",
      "\n",
      "                                     Unnamed: 7  \\\n",
      "0  Star Wars: Episode V The Empire Strikes Back   \n",
      "1  Star Wars: Episode V The Empire Strikes Back   \n",
      "2                                           NaN   \n",
      "3                                           NaN   \n",
      "4  Star Wars: Episode V The Empire Strikes Back   \n",
      "5  Star Wars: Episode V The Empire Strikes Back   \n",
      "6  Star Wars: Episode V The Empire Strikes Back   \n",
      "7  Star Wars: Episode V The Empire Strikes Back   \n",
      "8  Star Wars: Episode V The Empire Strikes Back   \n",
      "9  Star Wars: Episode V The Empire Strikes Back   \n",
      "\n",
      "                                 Unnamed: 8  \\\n",
      "0  Star Wars: Episode VI Return of the Jedi   \n",
      "1  Star Wars: Episode VI Return of the Jedi   \n",
      "2                                       NaN   \n",
      "3                                       NaN   \n",
      "4  Star Wars: Episode VI Return of the Jedi   \n",
      "5  Star Wars: Episode VI Return of the Jedi   \n",
      "6  Star Wars: Episode VI Return of the Jedi   \n",
      "7  Star Wars: Episode VI Return of the Jedi   \n",
      "8  Star Wars: Episode VI Return of the Jedi   \n",
      "9  Star Wars: Episode VI Return of the Jedi   \n",
      "\n",
      "  Please rank the Star Wars films in order of preference with 1 being your favorite film in the franchise and 6 being your least favorite film.  \\\n",
      "0           Star Wars: Episode I  The Phantom Menace                                                                                              \n",
      "1                                                  3                                                                                              \n",
      "2                                                NaN                                                                                              \n",
      "3                                                  1                                                                                              \n",
      "4                                                  5                                                                                              \n",
      "5                                                  5                                                                                              \n",
      "6                                                  1                                                                                              \n",
      "7                                                  6                                                                                              \n",
      "8                                                  4                                                                                              \n",
      "9                                                  5                                                                                              \n",
      "\n",
      "            ...                    Unnamed: 28  \\\n",
      "0           ...                           Yoda   \n",
      "1           ...                 Very favorably   \n",
      "2           ...                            NaN   \n",
      "3           ...               Unfamiliar (N/A)   \n",
      "4           ...                 Very favorably   \n",
      "5           ...             Somewhat favorably   \n",
      "6           ...                 Very favorably   \n",
      "7           ...                 Very favorably   \n",
      "8           ...                 Very favorably   \n",
      "9           ...             Somewhat favorably   \n",
      "\n",
      "        Which character shot first?  \\\n",
      "0                          Response   \n",
      "1  I don't understand this question   \n",
      "2                               NaN   \n",
      "3  I don't understand this question   \n",
      "4  I don't understand this question   \n",
      "5                            Greedo   \n",
      "6                               Han   \n",
      "7                               Han   \n",
      "8                               Han   \n",
      "9                               Han   \n",
      "\n",
      "  Are you familiar with the Expanded Universe?  \\\n",
      "0                                     Response   \n",
      "1                                          Yes   \n",
      "2                                          NaN   \n",
      "3                                           No   \n",
      "4                                           No   \n",
      "5                                          Yes   \n",
      "6                                          Yes   \n",
      "7                                          Yes   \n",
      "8                                           No   \n",
      "9                                           No   \n",
      "\n",
      "  Do you consider yourself to be a fan of the Expanded Universe?ÂÃ¦  \\\n",
      "0                                           Response                   \n",
      "1                                                 No                   \n",
      "2                                                NaN                   \n",
      "3                                                NaN                   \n",
      "4                                                NaN                   \n",
      "5                                                 No                   \n",
      "6                                                 No                   \n",
      "7                                                 No                   \n",
      "8                                                NaN                   \n",
      "9                                                NaN                   \n",
      "\n",
      "  Do you consider yourself to be a fan of the Star Trek franchise?    Gender  \\\n",
      "0                                           Response                Response   \n",
      "1                                                 No                    Male   \n",
      "2                                                Yes                    Male   \n",
      "3                                                 No                    Male   \n",
      "4                                                Yes                    Male   \n",
      "5                                                 No                    Male   \n",
      "6                                                Yes                    Male   \n",
      "7                                                 No                    Male   \n",
      "8                                                Yes                    Male   \n",
      "9                                                 No                    Male   \n",
      "\n",
      "        Age     Household Income                         Education  \\\n",
      "0  Response             Response                          Response   \n",
      "1     18-29                  NaN                High school degree   \n",
      "2     18-29         $0 - $24,999                   Bachelor degree   \n",
      "3     18-29         $0 - $24,999                High school degree   \n",
      "4     18-29  $100,000 - $149,999  Some college or Associate degree   \n",
      "5     18-29  $100,000 - $149,999  Some college or Associate degree   \n",
      "6     18-29    $25,000 - $49,999                   Bachelor degree   \n",
      "7     18-29                  NaN                High school degree   \n",
      "8     18-29                  NaN                High school degree   \n",
      "9     18-29         $0 - $24,999  Some college or Associate degree   \n",
      "\n",
      "  Location (Census Region)  \n",
      "0                 Response  \n",
      "1           South Atlantic  \n",
      "2       West South Central  \n",
      "3       West North Central  \n",
      "4       West North Central  \n",
      "5       West North Central  \n",
      "6          Middle Atlantic  \n",
      "7       East North Central  \n",
      "8           South Atlantic  \n",
      "9           South Atlantic  \n",
      "\n",
      "[10 rows x 38 columns]\n"
     ]
    }
   ],
   "source": [
    "# view first ten rows of dataset\n",
    "print(star_wars.head(10))"
   ]
  },
  {
   "cell_type": "code",
   "execution_count": 3,
   "metadata": {
    "collapsed": false
   },
   "outputs": [
    {
     "name": "stdout",
     "output_type": "stream",
     "text": [
      "RespondentID\n",
      "Have you seen any of the 6 films in the Star Wars franchise?\n",
      "Do you consider yourself to be a fan of the Star Wars film franchise?\n",
      "Which of the following Star Wars films have you seen? Please select all that apply.\n",
      "Unnamed: 4\n",
      "Unnamed: 5\n",
      "Unnamed: 6\n",
      "Unnamed: 7\n",
      "Unnamed: 8\n",
      "Please rank the Star Wars films in order of preference with 1 being your favorite film in the franchise and 6 being your least favorite film.\n",
      "Unnamed: 10\n",
      "Unnamed: 11\n",
      "Unnamed: 12\n",
      "Unnamed: 13\n",
      "Unnamed: 14\n",
      "Please state whether you view the following characters favorably, unfavorably, or are unfamiliar with him/her.\n",
      "Unnamed: 16\n",
      "Unnamed: 17\n",
      "Unnamed: 18\n",
      "Unnamed: 19\n",
      "Unnamed: 20\n",
      "Unnamed: 21\n",
      "Unnamed: 22\n",
      "Unnamed: 23\n",
      "Unnamed: 24\n",
      "Unnamed: 25\n",
      "Unnamed: 26\n",
      "Unnamed: 27\n",
      "Unnamed: 28\n",
      "Which character shot first?\n",
      "Are you familiar with the Expanded Universe?\n",
      "Do you consider yourself to be a fan of the Expanded Universe?ÂÃ¦\n",
      "Do you consider yourself to be a fan of the Star Trek franchise?\n",
      "Gender\n",
      "Age\n",
      "Household Income\n",
      "Education\n",
      "Location (Census Region)\n"
     ]
    }
   ],
   "source": [
    "# view column names\n",
    "for col in star_wars.columns:\n",
    "    print(col)"
   ]
  },
  {
   "cell_type": "code",
   "execution_count": 4,
   "metadata": {
    "collapsed": false
   },
   "outputs": [],
   "source": [
    "# remove first row from dataset\n",
    "star_wars = star_wars[1:]"
   ]
  },
  {
   "cell_type": "markdown",
   "metadata": {},
   "source": [
    "### Converting Yes/No Responses\n",
    "\n",
    "Next, we want to convert the columns containing responses to yes/no questions from string types to Boolean types, mapping `'Yes'` entries to `True` and `'No'` entries to `False`. Missing entries will remain as `NaN` values. The resulting Boolean entries will be easier to work with in our analysis. "
   ]
  },
  {
   "cell_type": "code",
   "execution_count": 5,
   "metadata": {
    "collapsed": false
   },
   "outputs": [],
   "source": [
    "# define dictionary to map 'yes'/'no' to bools\n",
    "yes_no = { 'Yes':True, 'No':False }\n",
    "# convert yes/no columns to bools\n",
    "yes_no_cols = [\n",
    "    'Have you seen any of the 6 films in the Star Wars franchise?',\n",
    "    'Do you consider yourself to be a fan of the Star Wars film franchise?',\n",
    "    'Are you familiar with the Expanded Universe?',\n",
    "    'Do you consider yourself to be a fan of the Expanded Universe?ÂÃ¦',\n",
    "    'Do you consider yourself to be a fan of the Star Trek franchise?'\n",
    "]\n",
    "for col in yes_no_cols:\n",
    "    star_wars[col] = star_wars[col].map(yes_no)"
   ]
  },
  {
   "cell_type": "code",
   "execution_count": 6,
   "metadata": {
    "collapsed": false
   },
   "outputs": [
    {
     "name": "stdout",
     "output_type": "stream",
     "text": [
      "    Have you seen any of the 6 films in the Star Wars franchise?  \\\n",
      "1                                                True              \n",
      "2                                               False              \n",
      "3                                                True              \n",
      "4                                                True              \n",
      "5                                                True              \n",
      "6                                                True              \n",
      "7                                                True              \n",
      "8                                                True              \n",
      "9                                                True              \n",
      "10                                               True              \n",
      "\n",
      "   Do you consider yourself to be a fan of the Star Wars film franchise?  \\\n",
      "1                                                True                      \n",
      "2                                                 NaN                      \n",
      "3                                               False                      \n",
      "4                                                True                      \n",
      "5                                                True                      \n",
      "6                                                True                      \n",
      "7                                                True                      \n",
      "8                                                True                      \n",
      "9                                                True                      \n",
      "10                                              False                      \n",
      "\n",
      "   Are you familiar with the Expanded Universe?  \\\n",
      "1                                          True   \n",
      "2                                           NaN   \n",
      "3                                         False   \n",
      "4                                         False   \n",
      "5                                          True   \n",
      "6                                          True   \n",
      "7                                          True   \n",
      "8                                         False   \n",
      "9                                         False   \n",
      "10                                        False   \n",
      "\n",
      "   Do you consider yourself to be a fan of the Expanded Universe?ÂÃ¦  \\\n",
      "1                                               False                   \n",
      "2                                                 NaN                   \n",
      "3                                                 NaN                   \n",
      "4                                                 NaN                   \n",
      "5                                               False                   \n",
      "6                                               False                   \n",
      "7                                               False                   \n",
      "8                                                 NaN                   \n",
      "9                                                 NaN                   \n",
      "10                                                NaN                   \n",
      "\n",
      "   Do you consider yourself to be a fan of the Star Trek franchise?  \n",
      "1                                               False                \n",
      "2                                                True                \n",
      "3                                               False                \n",
      "4                                                True                \n",
      "5                                               False                \n",
      "6                                                True                \n",
      "7                                               False                \n",
      "8                                                True                \n",
      "9                                               False                \n",
      "10                                              False                \n"
     ]
    }
   ],
   "source": [
    "# check changes\n",
    "print(star_wars[yes_no_cols].head(10))"
   ]
  },
  {
   "cell_type": "markdown",
   "metadata": {},
   "source": [
    "### Converting Checkbox Responses\n",
    "\n",
    "We also need to convert the columns containing responses to checkbox questions to more meaningful and easily readable types. Each checkbox question consists of a series of boxes the respondent can check off in answer to the question. Each box within the series is represented by an individual column. The first column in the series is named according to the survey checkbox question, and the remaining columns in the series, representing the remaining checkbox reponses for that question, are unnamed. We will need to rename the checkbox question columns to be more illuminating as to their contents and to convert the entries to new types and/or values to ease later analysis."
   ]
  },
  {
   "cell_type": "markdown",
   "metadata": {},
   "source": [
    "#### Cleaning the Seen Films Columns\n",
    "\n",
    "We'll first clean the columns associated to the question regarding which _Star Wars_ films the respondent has seen: `Which of the following Star Wars films have you seen? Please select all that apply.` There are six columns corresponding to this question that indicate whether the respondent has seen each individual episode of the _Star Wars_ franchise, as described below:\n",
    "- `Which of the following Star Wars films have you seen? Please select all that apply.` - whether or not the respondent has seen `Star Wars: Episode I The Phantom Menace`;\n",
    "- `Unnamed: 4` - whether or not the respondent has seen `Star Wars: Episode II Attack of the Clones`;\n",
    "- `Unnamed: 5` - whether or not the respondent has seen `Star Wars: Episode III Revenge of the Sith`;\n",
    "- `Unnamed: 6` - whether or not the respondent has seen `Star Wars: Episode IV A New Hope`;\n",
    "- `Unnamed: 7` - whether or not the respondent has seen `Star Wars: Episode V The Empire Strikes Back`;\n",
    "- `Unnamed: 8` - whether or not the respondent has seen `Star Wars: Episode VI Return of the Jedi`.\n",
    "\n",
    "Each of the above columns contains either the name of the corresponding movie, indicating the respondent saw that movie, or a value of `NaN`, indicating the respondent either did not see that movie or did not answer the question. For the purposes of the analysis, we assume an `NaN` entry indicates a negative response. \n",
    "\n",
    "Since each of these column entries represents a True/False value as to whether the respondent saw a specific movie, we can convert the entries to Boolean values using a mapping technique and rename the columns to indicate which movie each column corresponds to. "
   ]
  },
  {
   "cell_type": "code",
   "execution_count": 7,
   "metadata": {
    "collapsed": false
   },
   "outputs": [
    {
     "name": "stdout",
     "output_type": "stream",
     "text": [
      "Index(['seen_episode1', 'seen_episode2', 'seen_episode3', 'seen_episode4',\n",
      "       'seen_episode5', 'seen_episode6'],\n",
      "      dtype='object')\n"
     ]
    }
   ],
   "source": [
    "# rename seen films columns\n",
    "seen_cols = star_wars.columns[3:9]\n",
    "seen_cols_dict = {}\n",
    "for icol, col in enumerate(seen_cols):\n",
    "    seen_cols_dict[col] = 'seen_episode{}'.format(icol+1)\n",
    "star_wars = star_wars.rename(columns=seen_cols_dict)\n",
    "# check new column names\n",
    "print(star_wars.columns[3:9])"
   ]
  },
  {
   "cell_type": "code",
   "execution_count": 8,
   "metadata": {
    "collapsed": false
   },
   "outputs": [
    {
     "name": "stdout",
     "output_type": "stream",
     "text": [
      "seen_episode1    673\n",
      "seen_episode2    571\n",
      "seen_episode3    550\n",
      "seen_episode4    607\n",
      "seen_episode5    758\n",
      "seen_episode6    738\n",
      "dtype: int64\n"
     ]
    }
   ],
   "source": [
    "# define function to map seen film entries to True/False values\n",
    "def labelSeen(entry):\n",
    "    if type(entry) == str:\n",
    "        return True\n",
    "    else:\n",
    "        return False\n",
    "# reassign seen_cols to pick up new column names\n",
    "seen_cols = star_wars.columns[3:9]\n",
    "# check number of non-null seen film entries before column conversion\n",
    "print(star_wars[seen_cols].notnull().sum())"
   ]
  },
  {
   "cell_type": "code",
   "execution_count": 9,
   "metadata": {
    "collapsed": false
   },
   "outputs": [],
   "source": [
    "# convert seen film column entries to True/False values\n",
    "for col in seen_cols:\n",
    "    star_wars[col] = star_wars[col].map(labelSeen)"
   ]
  },
  {
   "cell_type": "code",
   "execution_count": 10,
   "metadata": {
    "collapsed": false,
    "scrolled": true
   },
   "outputs": [
    {
     "name": "stdout",
     "output_type": "stream",
     "text": [
      "seen_episode1    673\n",
      "seen_episode2    571\n",
      "seen_episode3    550\n",
      "seen_episode4    607\n",
      "seen_episode5    758\n",
      "seen_episode6    738\n",
      "dtype: int64\n"
     ]
    }
   ],
   "source": [
    "# check number of True seen film entries after column conversion\n",
    "print(star_wars[seen_cols].sum())"
   ]
  },
  {
   "cell_type": "markdown",
   "metadata": {},
   "source": [
    "#### Cleaning the Ranked Films Columns\n",
    "\n",
    "Next, we'll clean the columns associated to the question regarding the respondent's ranking of the individual _Star Wars_ films: `Please rank the Star Wars films in order of preference with 1 being your favorite film in the franchise and 6 being your least favorite film.` There are six columns corresponding to this question that indicate the order in which the respondent ranks each individual episode of the _Star Wars_ franchise from best (1) to worst (6), as described below:\n",
    "- `Please rank the Star Wars films in order of preference with 1 being your favorite film in the franchise and 6 being your least favorite film.` - the respondent ranking of `Star Wars: Episode I The Phantom Menace`;\n",
    "- `Unnamed: 10` - the respondent ranking of `Star Wars: Episode II Attack of the Clones`;\n",
    "- `Unnamed: 11` - the respondent ranking of `Star Wars: Episode III Revenge of the Sith`;\n",
    "- `Unnamed: 12` - the respondent ranking of `Star Wars: Episode IV A New Hope`;\n",
    "- `Unnamed: 13` - the respondent ranking of `Star Wars: Episode V The Empire Strikes Back`;\n",
    "- `Unnamed: 14` - the respondent ranking of `Star Wars: Episode VI Return of the Jedi`.\n",
    "\n",
    "Each of the entries in the above columns contains a number, in the form of a string, between one and six or a missing value (`1`, `2`, `3`, `4`, `5`, `6`, or `NaN`). To clean these data columns, we simply need to convert the entries to numeric types (we can leave the `NaN` values alone). Then, we can rename the columns accordingly to reflect their contents, as done for the seen film columns above."
   ]
  },
  {
   "cell_type": "code",
   "execution_count": 11,
   "metadata": {
    "collapsed": false
   },
   "outputs": [
    {
     "name": "stdout",
     "output_type": "stream",
     "text": [
      "Index(['ranking_episode1', 'ranking_episode2', 'ranking_episode3',\n",
      "       'ranking_episode4', 'ranking_episode5', 'ranking_episode6'],\n",
      "      dtype='object')\n"
     ]
    }
   ],
   "source": [
    "# rename ranked films columns\n",
    "rank_cols = star_wars.columns[9:15]\n",
    "rank_cols_dict = {}\n",
    "for icol, col in enumerate(rank_cols):\n",
    "    rank_cols_dict[col] = 'ranking_episode{}'.format(icol+1)\n",
    "star_wars = star_wars.rename(columns=rank_cols_dict)\n",
    "# check new column names\n",
    "print(star_wars.columns[9:15])"
   ]
  },
  {
   "cell_type": "code",
   "execution_count": 12,
   "metadata": {
    "collapsed": false
   },
   "outputs": [
    {
     "name": "stdout",
     "output_type": "stream",
     "text": [
      "ranking_episode1    835\n",
      "ranking_episode2    836\n",
      "ranking_episode3    835\n",
      "ranking_episode4    836\n",
      "ranking_episode5    836\n",
      "ranking_episode6    836\n",
      "dtype: int64\n"
     ]
    }
   ],
   "source": [
    "# reassign rank_cols to pick up new column names\n",
    "rank_cols = star_wars.columns[9:15]\n",
    "# check number of non-null ranked film entries before column conversion\n",
    "print(star_wars[rank_cols].notnull().sum())"
   ]
  },
  {
   "cell_type": "code",
   "execution_count": 13,
   "metadata": {
    "collapsed": true
   },
   "outputs": [],
   "source": [
    "# convert ranked film entries to numeric types\n",
    "star_wars[rank_cols] = star_wars[rank_cols].astype(float)"
   ]
  },
  {
   "cell_type": "code",
   "execution_count": 14,
   "metadata": {
    "collapsed": false
   },
   "outputs": [
    {
     "name": "stdout",
     "output_type": "stream",
     "text": [
      "ranking_episode1    835\n",
      "ranking_episode2    836\n",
      "ranking_episode3    835\n",
      "ranking_episode4    836\n",
      "ranking_episode5    836\n",
      "ranking_episode6    836\n",
      "dtype: int64\n",
      "ranking_episode1    float64\n",
      "ranking_episode2    float64\n",
      "ranking_episode3    float64\n",
      "ranking_episode4    float64\n",
      "ranking_episode5    float64\n",
      "ranking_episode6    float64\n",
      "dtype: object\n"
     ]
    }
   ],
   "source": [
    "# check number of non-null ranked film entries after column conversion\n",
    "print(star_wars[rank_cols].notnull().sum())\n",
    "# check new column data types\n",
    "print(star_wars[rank_cols].dtypes)"
   ]
  },
  {
   "cell_type": "markdown",
   "metadata": {},
   "source": [
    "#### Cleaning the Favorite Characters Columns\n",
    "\n",
    "Finally, we want to clean the columns associated to the question regarding the respondent's views towards various Star Wars characters: `Please state whether you view the following characters favorably, unfavorably, or are unfamiliar with him/her.` There are fourteen columns corresponding to this question that indicate how favorably the respondent views individual characters within the Star Wars universe, as described below:\n",
    "- `Please state whether you view the following characters favorably, unfavorably, or are unfamiliar with him/her.` - the respondent's view towards the character `Han Solo`;\n",
    "- `Unnamed: 16` - the respondent's view towards the character `Luke Skywalker`;\n",
    "- `Unnamed: 17` - the respondent's view towards the character `Princess Leia Organa`;\n",
    "- `Unnamed: 18` - the respondent's view towards the character `Anakin Skywalker`;\n",
    "- `Unnamed: 19` - the respondent's view towards the character `Obi Wan Kenobi`;\n",
    "- `Unnamed: 20` - the respondent's view towards the character `Emperor Palpatine`;\n",
    "- `Unnamed: 21` - the respondent's view towards the character `Darth Vader`;\n",
    "- `Unnamed: 22` - the respondent's view towards the character `L:ondo Calrissian`;\n",
    "- `Unnamed: 23` - the respondent's view towards the character `Boba Fett`;\n",
    "- `Unnamed: 24` - the respondent's view towards the character `C-3P0`;\n",
    "- `Unnamed: 25` - the respondent's view towards the character `R2 D2`;\n",
    "- `Unnamed: 26` - the respondent's view towards the character `Jar Jar Binks`;\n",
    "- `Unnamed: 27` - the respondent's view towards the character `Padme Amidala`;\n",
    "- `Unnamed: 28` - the respondent's view towards the character `Yoda`.\n",
    "\n",
    "Each entry in the above columns is one of a set of designated string values indicating how favorably the respondent views the corresponding character or an `NaN` value indicating a lack of response. The set of string values is as follows:\n",
    "- `Very favorably`\n",
    "- `Somewhat favorably`\n",
    "- `Somewhat unfavorably`\n",
    "- `Very unfavorably`\n",
    "- `Neither favorably nor unfavorably (neutral)`\n",
    "- `Unfamiliar (N/A)`\n",
    "\n",
    "We don't want to alter these entries, since there's no good way to convert them without losing some of their meaning. Instead, we will simply rename the columns to reflect the individual characters to which they correspond."
   ]
  },
  {
   "cell_type": "code",
   "execution_count": 15,
   "metadata": {
    "collapsed": false
   },
   "outputs": [
    {
     "name": "stdout",
     "output_type": "stream",
     "text": [
      "Index(['Character Favorability: Han Solo',\n",
      "       'Character Favorability: Luke Skywalker',\n",
      "       'Character Favorability: Princess Leia Organa',\n",
      "       'Character Favorability: Anakin Skywalker',\n",
      "       'Character Favorability: Obi Wan Kenobi',\n",
      "       'Character Favorability: Emperor Palpatine',\n",
      "       'Character Favorability: Darth Vader',\n",
      "       'Character Favorability: Lando Calrissian',\n",
      "       'Character Favorability: Boba Fett', 'Character Favorability: C-3P0',\n",
      "       'Character Favorability: R2 D2',\n",
      "       'Character Favorability: Jar Jar Binks',\n",
      "       'Character Favorability: Padme Amidala',\n",
      "       'Character Favorability: Yoda'],\n",
      "      dtype='object')\n"
     ]
    }
   ],
   "source": [
    "# rename character column\n",
    "char_cols = star_wars.columns[15:29]\n",
    "characters = ['Han Solo', \n",
    "              'Luke Skywalker', \n",
    "              'Princess Leia Organa',\n",
    "              'Anakin Skywalker', \n",
    "              'Obi Wan Kenobi', \n",
    "              'Emperor Palpatine', \n",
    "              'Darth Vader', \n",
    "              'Lando Calrissian',\n",
    "              'Boba Fett',\n",
    "              'C-3P0',\n",
    "              'R2 D2',\n",
    "              'Jar Jar Binks',\n",
    "              'Padme Amidala',\n",
    "              'Yoda']\n",
    "char_cols_dict = {}\n",
    "for icol, col in enumerate(char_cols):\n",
    "    char_cols_dict[col] = 'Character Favorability: ' + characters[icol]\n",
    "star_wars = star_wars.rename(columns=char_cols_dict)\n",
    "# check new column names\n",
    "print(star_wars.columns[15:29])"
   ]
  },
  {
   "cell_type": "markdown",
   "metadata": {},
   "source": [
    "## Analyzing the _Star Wars_ Survey Results Data\n",
    "\n",
    "Now that we've cleaned our dataset, we can begin analyzing it in order to answer our initial question: which _Star Wars_ movie is the best?\n",
    "\n",
    "### Finding the Highest-Ranked Movie\n",
    "\n",
    "We start by identifying the highest-ranked movie in the franchise, according to the survey results. We can calculate the average ranking of each movie by computing the mean value of each ranked film column, and we can visualize the results in a bar chart, as illustrated below."
   ]
  },
  {
   "cell_type": "code",
   "execution_count": 16,
   "metadata": {
    "collapsed": false
   },
   "outputs": [],
   "source": [
    "# compute mean value of each ranked film column\n",
    "rank_means = star_wars[rank_cols].mean()"
   ]
  },
  {
   "cell_type": "code",
   "execution_count": 17,
   "metadata": {
    "collapsed": false
   },
   "outputs": [
    {
     "data": {
      "image/png": "[encoded data removed]",
      "text/plain": [
       "<matplotlib.figure.Figure at 0x7f57c9fb38d0>"
      ]
     },
     "metadata": {},
     "output_type": "display_data"
    }
   ],
   "source": [
    "# import matplotlib\n",
    "%matplotlib inline\n",
    "import matplotlib.pyplot as plt\n",
    "# plot bar chart\n",
    "rank_means.plot.bar()\n",
    "plt.title('Star Wars Episode Rankings')\n",
    "plt.show()"
   ]
  },
  {
   "cell_type": "markdown",
   "metadata": {},
   "source": [
    "The bar chart above shows the average ranking (from 1 to 6, with 1 being the best and 6 being the worst) of each _Star Wars_ Episode in the franchise. The highest ranked movie is Episode V, with an average rating of approximately 2.5, followed by Episodes VI and IV, with average ratings of slightly below and above 3.0, respectively. These three Episodes are the original movies, widely regarded as superior to the newer prequels, and Episode V is critically rated the highest of any film in the franchise. Episodes I, II, and III are ranked fourth, fifth, and sixth, with average ratings of approximately 3.75, 4.0, and 4.25, respectively. These films received mixed reviews by critics and are generally not as well liked as the originals. The rankings gleaned from the survey results are thus consistent with general popular and critical opinion."
   ]
  },
  {
   "cell_type": "markdown",
   "metadata": {},
   "source": [
    "### Studying Episode Viewership\n",
    "\n",
    "Next, we will look at the average viewership of each individual Episode by summing up the number of `True` values in each of the seen film columns. Since Booleans evaluate to integer values, with `True` equal to `1` and `False` equal to `0`, this is equivalent to computing the mean value for each column. Again, we present the results in a bar chart below."
   ]
  },
  {
   "cell_type": "code",
   "execution_count": 18,
   "metadata": {
    "collapsed": true
   },
   "outputs": [],
   "source": [
    "# compute sum of each seen film column\n",
    "seen_sums = star_wars[seen_cols].sum()"
   ]
  },
  {
   "cell_type": "code",
   "execution_count": 19,
   "metadata": {
    "collapsed": false,
    "scrolled": false
   },
   "outputs": [
    {
     "data": {
      "image/png": "[encoded data removed]",
      "text/plain": [
       "<matplotlib.figure.Figure at 0x7f57cb7dacf8>"
      ]
     },
     "metadata": {},
     "output_type": "display_data"
    }
   ],
   "source": [
    "# plot bar chart\n",
    "seen_sums.plot.bar()\n",
    "plt.title('Star Wars Episode Viewership')\n",
    "plt.show()"
   ]
  },
  {
   "cell_type": "markdown",
   "metadata": {},
   "source": [
    "We observe a similar trend in Episode viewership as we did in Episode ranking, with the original movies having more views in general than the newer movies. For the most part, the average ranking of each Episode is correlated with its average viewership, with higher ranked movies being viewed more often."
   ]
  },
  {
   "cell_type": "markdown",
   "metadata": {},
   "source": [
    "### Analyzing Episode Popularity by Subgroup\n",
    "\n",
    "Now let's take a look at the popularity of each movie, based on viewership and ranking, within different segments of the survey population. We can divide the dataset into various subgroups by splitting the data according to distinct values within a column. For example, we can split the data by gender, dividing the dataset into two groups: one containing survey results from males and the other containing survey results from females. We investigate and compare individual movie popularity between subgroups for several different segmenting variables below."
   ]
  },
  {
   "cell_type": "markdown",
   "metadata": {},
   "source": [
    "#### Episode Popularity by Gender\n",
    "\n",
    "We first investigate the popularity of each movie by gender, which is a binary variable (meaning it only has two unique values and segments the population into two distinct groups). Bar charts for the ranking and viewership of each Episode according to men and women, separately, are shown below. "
   ]
  },
  {
   "cell_type": "code",
   "execution_count": 20,
   "metadata": {
    "collapsed": true
   },
   "outputs": [],
   "source": [
    "# split data by gender\n",
    "males = star_wars[star_wars['Gender'] == 'Male']\n",
    "females = star_wars[star_wars['Gender'] == 'Female']"
   ]
  },
  {
   "cell_type": "code",
   "execution_count": 60,
   "metadata": {
    "collapsed": false
   },
   "outputs": [
    {
     "data": {
      "image/png": "[encoded data removed]",
      "text/plain": [
       "<matplotlib.figure.Figure at 0x7f57c5f8be10>"
      ]
     },
     "metadata": {},
     "output_type": "display_data"
    },
    {
     "data": {
      "image/png": "[encoded data removed]",
      "text/plain": [
       "<matplotlib.figure.Figure at 0x7f57c61d5048>"
      ]
     },
     "metadata": {},
     "output_type": "display_data"
    }
   ],
   "source": [
    "# compute mean value of each ranked film column per gender\n",
    "male_rank_means = males[rank_cols].mean()\n",
    "female_rank_means = females[rank_cols].mean()\n",
    "# compute sum of each seen film column per gender\n",
    "male_seen_sums = males[seen_cols].sum()\n",
    "female_seen_sums = females[seen_cols].sum()\n",
    "# combine male + female series into dataframes\n",
    "gender_rank = pd.DataFrame({'Males':male_rank_means, \n",
    "                            'Females':female_rank_means})\n",
    "gender_seen = pd.DataFrame({'Males':male_seen_sums,\n",
    "                            'Females':female_seen_sums})\n",
    "# plot bar charts\n",
    "gender_rank.plot.bar()\n",
    "plt.title('Star Wars Episode Rankings by Gender')\n",
    "plt.legend(fontsize=\"small\")\n",
    "plt.show()\n",
    "gender_seen.plot.bar()\n",
    "plt.title('Star Wars Episode Viewership by Gender')\n",
    "plt.legend(fontsize=\"small\")\n",
    "plt.show()"
   ]
  },
  {
   "cell_type": "markdown",
   "metadata": {},
   "source": [
    "We can see from the bar charts above that more men have seen the Star Wars films than women. However, the popularity of each individual movie is common across both genders: Episode V is the most viewed and highest ranked movie, and Episode III is the least viewed and lowest ranked movie, for both men and women."
   ]
  },
  {
   "cell_type": "markdown",
   "metadata": {},
   "source": [
    "#### Episode Popularity by Age\n",
    "\n",
    "Next, we analyze the popularity of each movie by the respondent's age. The age column can be divided into four separate categories of age ranges: `18-29`, `30-44`, `45-60`, and `> 60`, so we can separately examine the most popular Star Wars movie within each age population."
   ]
  },
  {
   "cell_type": "code",
   "execution_count": 29,
   "metadata": {
    "collapsed": false,
    "scrolled": false
   },
   "outputs": [
    {
     "name": "stdout",
     "output_type": "stream",
     "text": [
      "45-60    291\n",
      "> 60     269\n",
      "30-44    268\n",
      "18-29    218\n",
      "Name: Age, dtype: int64\n"
     ]
    }
   ],
   "source": [
    "# view age groups\n",
    "print(star_wars['Age'].value_counts())"
   ]
  },
  {
   "cell_type": "code",
   "execution_count": 59,
   "metadata": {
    "collapsed": false
   },
   "outputs": [
    {
     "data": {
      "image/png": "[encoded data removed]",
      "text/plain": [
       "<matplotlib.figure.Figure at 0x7f57c7c11278>"
      ]
     },
     "metadata": {},
     "output_type": "display_data"
    },
    {
     "data": {
      "image/png": "[encoded data removed]",
      "text/plain": [
       "<matplotlib.figure.Figure at 0x7f57c7acb320>"
      ]
     },
     "metadata": {},
     "output_type": "display_data"
    }
   ],
   "source": [
    "# split data by age\n",
    "# --> initialize rank-mean and seen-sum dictionaries for different age groups\n",
    "age_rank_dict = {}\n",
    "age_seen_dict = {}\n",
    "# --> loop over unique age values and fill dictionaries\n",
    "for val in star_wars['Age'].value_counts().index:\n",
    "    age = star_wars[star_wars['Age'] == val]\n",
    "    age_rank_dict[val] = age[rank_cols].mean()\n",
    "    age_seen_dict[val] = age[seen_cols].sum()\n",
    "# --> combine age group series into dataframes\n",
    "age_rank = pd.DataFrame(age_rank_dict)\n",
    "age_seen = pd.DataFrame(age_seen_dict)\n",
    "# plot bar charts\n",
    "age_rank.plot.bar()\n",
    "plt.title('Star Wars Episode Rankings by Age')\n",
    "plt.legend(fontsize=\"small\")\n",
    "plt.show()\n",
    "age_seen.plot.bar()\n",
    "plt.title('Star Wars Episode Viewership by Age')\n",
    "plt.legend(fontsize=\"small\")\n",
    "plt.show()"
   ]
  },
  {
   "cell_type": "markdown",
   "metadata": {},
   "source": [
    "We can see from the bar charts above that the Star Wars franchise in general is most popular (in terms of viewership) among adults aged 30 to 60 years old. This is not unexpected, since Episodes 1 through VI came out between 15 and 43 years ago, meaning the population of respondents within this age range likely would have been teenagers when the original movies (Episodes IV - VI) or the newer prequels (Episodes I - III) were first released. Teenagers are among the prime theater-going demographics and were the original target audience of the Star Wars films. Within this group, 45-60 year olds have the highest viewership for each movie except Episodes II and III, for which 30-44 year olds have higher viewership.\n",
    "\n",
    "Additionally, we see no real discrepancy in favorite movie between age groups, with Episode V the highest ranked and most viewed for all ages."
   ]
  },
  {
   "cell_type": "markdown",
   "metadata": {},
   "source": [
    "#### Episode Popularity by Household Income\n",
    "\n",
    "We can also investigate the popularity of each movie according to the respondent's household income, which is divided into five income brackets: \\$0 - \\$24,999, \\$25,000 - \\$49,999, \\$50,000 - \\$99,999, \\$100,000 - \\$149,999, and \\$150,000+."
   ]
  },
  {
   "cell_type": "code",
   "execution_count": 30,
   "metadata": {
    "collapsed": false
   },
   "outputs": [
    {
     "name": "stdout",
     "output_type": "stream",
     "text": [
      "$50,000 - $99,999      298\n",
      "$25,000 - $49,999      186\n",
      "$100,000 - $149,999    141\n",
      "$0 - $24,999           138\n",
      "$150,000+               95\n",
      "Name: Household Income, dtype: int64\n"
     ]
    }
   ],
   "source": [
    "# view income groups\n",
    "print(star_wars['Household Income'].value_counts())"
   ]
  },
  {
   "cell_type": "code",
   "execution_count": 34,
   "metadata": {
    "collapsed": false
   },
   "outputs": [
    {
     "name": "stdout",
     "output_type": "stream",
     "text": [
      "50,000 - 99,999      298\n",
      "25,000 - 49,999      186\n",
      "100,000 - 149,999    141\n",
      "0 - 24,999           138\n",
      "150,000+              95\n",
      "Name: Household Income, dtype: int64\n"
     ]
    }
   ],
   "source": [
    "# remove dollar signs from incomes\n",
    "star_wars['Household Income'] = star_wars['Household Income'].str.replace('$','')\n",
    "# check changes\n",
    "print(star_wars['Household Income'].value_counts())"
   ]
  },
  {
   "cell_type": "code",
   "execution_count": 58,
   "metadata": {
    "collapsed": false
   },
   "outputs": [
    {
     "data": {
      "image/png": "[encoded data removed]",
      "text/plain": [
       "<matplotlib.figure.Figure at 0x7f57c5f14128>"
      ]
     },
     "metadata": {},
     "output_type": "display_data"
    },
    {
     "data": {
      "image/png": "[encoded data removed]",
      "text/plain": [
       "<matplotlib.figure.Figure at 0x7f57c6212cf8>"
      ]
     },
     "metadata": {},
     "output_type": "display_data"
    }
   ],
   "source": [
    "# split data by income\n",
    "# --> initialize rank-mean and seen-sum dictionaries for different income groups\n",
    "income_rank_dict = {}\n",
    "income_seen_dict = {}\n",
    "# --> loop over unique income values and fill dictionaries\n",
    "for val in star_wars['Household Income'].value_counts().index:\n",
    "    income = star_wars[star_wars['Household Income'] == val]\n",
    "    income_rank_dict[val] = income[rank_cols].mean()\n",
    "    income_seen_dict[val] = income[seen_cols].sum()\n",
    "# --> combine income group series into dataframes\n",
    "income_rank = pd.DataFrame(income_rank_dict)\n",
    "income_seen = pd.DataFrame(income_seen_dict)\n",
    "# plot bar charts\n",
    "income_rank.plot.bar()\n",
    "plt.title('Star Wars Episode Rankings by Household Income')\n",
    "plt.legend(fontsize=\"small\")\n",
    "plt.show()\n",
    "income_seen.plot.bar()\n",
    "plt.title('Star Wars Episode Viewership by Household Income')\n",
    "plt.legend(fontsize=\"small\")\n",
    "plt.show()"
   ]
  },
  {
   "cell_type": "markdown",
   "metadata": {},
   "source": [
    "The bar charts above show the ranking and viewership of each Episode per househole income group. The wealthiest respondents have the lowest viewership, and respondents in the \\$50,000 - \\$99,999 income bracket have the highest viewership. There is very little discrepancy between ranking among the different income brackets."
   ]
  },
  {
   "cell_type": "markdown",
   "metadata": {},
   "source": [
    "#### Episode Popularity by Education\n",
    "\n",
    "It may also be interesting to view the breakdown of movie popularity by respondent education level, where respondents are grouped according to their highest degree of education."
   ]
  },
  {
   "cell_type": "code",
   "execution_count": 53,
   "metadata": {
    "collapsed": false
   },
   "outputs": [
    {
     "name": "stdout",
     "output_type": "stream",
     "text": [
      "Some college or Associate degree    328\n",
      "Bachelor degree                     321\n",
      "Graduate degree                     275\n",
      "High school degree                  105\n",
      "Less than high school degree          7\n",
      "Name: Education, dtype: int64\n"
     ]
    }
   ],
   "source": [
    "# view education groups\n",
    "print(star_wars['Education'].value_counts())"
   ]
  },
  {
   "cell_type": "code",
   "execution_count": 57,
   "metadata": {
    "collapsed": false
   },
   "outputs": [
    {
     "data": {
      "image/png": "[encoded data removed]",
      "text/plain": [
       "<matplotlib.figure.Figure at 0x7f57c6022ef0>"
      ]
     },
     "metadata": {},
     "output_type": "display_data"
    },
    {
     "data": {
      "image/png": "[encoded data removed]",
      "text/plain": [
       "<matplotlib.figure.Figure at 0x7f57c5f7ca90>"
      ]
     },
     "metadata": {},
     "output_type": "display_data"
    }
   ],
   "source": [
    "# split data by education\n",
    "# --> initialize rank-mean and seen-sum dictionaries for different education groups\n",
    "edu_rank_dict = {}\n",
    "edu_seen_dict = {}\n",
    "# --> loop over unique education values and fill dictionaries\n",
    "for val in star_wars['Education'].value_counts().index:\n",
    "    edu = star_wars[star_wars['Education'] == val]\n",
    "    edu_rank_dict[val] = edu[rank_cols].mean()\n",
    "    edu_seen_dict[val] = edu[seen_cols].sum()\n",
    "# --> combine education group series into dataframes\n",
    "edu_rank = pd.DataFrame(edu_rank_dict)\n",
    "edu_seen = pd.DataFrame(edu_seen_dict)\n",
    "# plot bar charts\n",
    "edu_rank.plot.bar()\n",
    "plt.title('Star Wars Episode Rankings by Education')\n",
    "plt.legend(fontsize=\"small\")\n",
    "plt.show()\n",
    "edu_seen.plot.bar()\n",
    "plt.title('Star Wars Episode Viewership by Education')\n",
    "plt.legend(fontsize=\"small\")\n",
    "plt.show()"
   ]
  },
  {
   "cell_type": "markdown",
   "metadata": {},
   "source": [
    "Again, we see no disagreement in ranking between education levels, with Episodes V the highest ranked and Episodes I through III the lowest ranked (though respondents with the lowest level of education appear to particularly dislike Episodes I and II over Episode III). \n",
    "\n",
    "The viewership, however, varies greatly between education groups, with respondents holding a high school degree making up only about a quarter of the overall viewership per movie, and respondents with less than a high school degree accounting for only a few viewers. On the other hand, the viewership is nearly evenly spread out between the three higher-level education groups, and the viewership per education leven does not vary greatly between individual movies. It is unclear why people with less education do not watch Star Wars as much as those with more education, but it is an interesting observation."
   ]
  },
  {
   "cell_type": "markdown",
   "metadata": {},
   "source": [
    "# Conclusion\n",
    "In the analysis presented above, we cleaned and analyzed a dataset of survey results from FiveThirtyEight regarding the popularity of the the _Star Wars_ films. We found _Star Wars: Episode V - The Empire Strikes Back_ to be the universal favorite, both in terms of ranking and viewership, overall and across all demographics.\n",
    "\n",
    "Additionally, we observed men between the ages of 30-60 of median income and some college-level education to be the most frequent viewers of the _Star Wars_ franchise."
   ]
  },
  {
   "cell_type": "code",
   "execution_count": null,
   "metadata": {
    "collapsed": true
   },
   "outputs": [],
   "source": []
  }
 ],
 "metadata": {
  "kernelspec": {
   "display_name": "Python 3",
   "language": "python",
   "name": "python3"
  },
  "language_info": {
   "codemirror_mode": {
    "name": "ipython",
    "version": 3
   },
   "file_extension": ".py",
   "mimetype": "text/x-python",
   "name": "python",
   "nbconvert_exporter": "python",
   "pygments_lexer": "ipython3",
   "version": "3.4.3"
  }
 },
 "nbformat": 4,
 "nbformat_minor": 0
}
