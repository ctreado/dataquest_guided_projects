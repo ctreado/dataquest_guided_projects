{
 "cells": [
  {
   "cell_type": "markdown",
   "metadata": {},
   "source": [
    "# Predicting Market Prices of Cars\n",
    "\n",
    "## Introduction\n",
    "\n",
    "In this project, we explore the fundamentals of machine learning using the k-nearest neighbors algorithm. We practice the machine learning workflow by predicting the prices of cars from their attributes with simple univariate and multivariate models.\n",
    "\n",
    "The dataset used comes from the UCI Machine Learning Repository and can be viewed here: https://archive.ics.uci.edu/ml/datasets/automobile. It consists of specifications of the characteristics of over 200 cars, including mileage, weight, dimensions, and price. The website above provides a full data dictionary descibing the information contained in each of the dataset's columns. "
   ]
  },
  {
   "cell_type": "markdown",
   "metadata": {},
   "source": [
    "## Exploring the Dataset\n",
    "\n",
    "We begin by reading in and exploring the dataset to familiarize ourselves with the car attributes we have available to us. We ultimately want to identify a set of features we can use to train an effective machine learning model in order to most accurately predict the market prices of various cars."
   ]
  },
  {
   "cell_type": "code",
   "execution_count": 1,
   "metadata": {
    "collapsed": true
   },
   "outputs": [],
   "source": [
    "# import libraries\n",
    "import pandas as pd\n",
    "import numpy as np\n",
    "\n",
    "pd.options.display.max_columns = 50  # view all columns"
   ]
  },
  {
   "cell_type": "markdown",
   "metadata": {},
   "source": [
    "Since the datset does not contain header labels for the column names, we provide them explicitly below."
   ]
  },
  {
   "cell_type": "code",
   "execution_count": 2,
   "metadata": {
    "collapsed": true
   },
   "outputs": [],
   "source": [
    "# read in dataset\n",
    "# --> set column names first (from docs)\n",
    "car_cols = ['symboling', 'normalized_losses', 'make', 'fuel_type', \n",
    "           'aspiration', 'num_doors', 'body_style', 'drive_wheels',\n",
    "           'engine_location', 'wheel_base', 'length', 'width', \n",
    "            'height', 'curb_weight', 'engine_type', 'num_cylinders',\n",
    "           'engine_size', 'fuel_system', 'bore', 'stroke', \n",
    "           'compression_ratio', 'horsepower', 'peak_rpm', 'city_mpg',\n",
    "           'highway_mpg', 'price']\n",
    "cars = pd.read_csv('imports-85.data', names=car_cols)"
   ]
  },
  {
   "cell_type": "code",
   "execution_count": 3,
   "metadata": {
    "collapsed": false,
    "scrolled": false
   },
   "outputs": [
    {
     "data": {
      "text/html": [
       "<div>\n",
       "<style scoped>\n",
       "    .dataframe tbody tr th:only-of-type {\n",
       "        vertical-align: middle;\n",
       "    }\n",
       "\n",
       "    .dataframe tbody tr th {\n",
       "        vertical-align: top;\n",
       "    }\n",
       "\n",
       "    .dataframe thead th {\n",
       "        text-align: right;\n",
       "    }\n",
       "</style>\n",
       "<table border=\"1\" class=\"dataframe\">\n",
       "  <thead>\n",
       "    <tr style=\"text-align: right;\">\n",
       "      <th></th>\n",
       "      <th>symboling</th>\n",
       "      <th>normalized_losses</th>\n",
       "      <th>make</th>\n",
       "      <th>fuel_type</th>\n",
       "      <th>aspiration</th>\n",
       "      <th>num_doors</th>\n",
       "      <th>body_style</th>\n",
       "      <th>drive_wheels</th>\n",
       "      <th>engine_location</th>\n",
       "      <th>wheel_base</th>\n",
       "      <th>length</th>\n",
       "      <th>width</th>\n",
       "      <th>height</th>\n",
       "      <th>curb_weight</th>\n",
       "      <th>engine_type</th>\n",
       "      <th>num_cylinders</th>\n",
       "      <th>engine_size</th>\n",
       "      <th>fuel_system</th>\n",
       "      <th>bore</th>\n",
       "      <th>stroke</th>\n",
       "      <th>compression_ratio</th>\n",
       "      <th>horsepower</th>\n",
       "      <th>peak_rpm</th>\n",
       "      <th>city_mpg</th>\n",
       "      <th>highway_mpg</th>\n",
       "      <th>price</th>\n",
       "    </tr>\n",
       "  </thead>\n",
       "  <tbody>\n",
       "    <tr>\n",
       "      <th>0</th>\n",
       "      <td>3</td>\n",
       "      <td>?</td>\n",
       "      <td>alfa-romero</td>\n",
       "      <td>gas</td>\n",
       "      <td>std</td>\n",
       "      <td>two</td>\n",
       "      <td>convertible</td>\n",
       "      <td>rwd</td>\n",
       "      <td>front</td>\n",
       "      <td>88.6</td>\n",
       "      <td>168.8</td>\n",
       "      <td>64.1</td>\n",
       "      <td>48.8</td>\n",
       "      <td>2548</td>\n",
       "      <td>dohc</td>\n",
       "      <td>four</td>\n",
       "      <td>130</td>\n",
       "      <td>mpfi</td>\n",
       "      <td>3.47</td>\n",
       "      <td>2.68</td>\n",
       "      <td>9.0</td>\n",
       "      <td>111</td>\n",
       "      <td>5000</td>\n",
       "      <td>21</td>\n",
       "      <td>27</td>\n",
       "      <td>13495</td>\n",
       "    </tr>\n",
       "    <tr>\n",
       "      <th>1</th>\n",
       "      <td>3</td>\n",
       "      <td>?</td>\n",
       "      <td>alfa-romero</td>\n",
       "      <td>gas</td>\n",
       "      <td>std</td>\n",
       "      <td>two</td>\n",
       "      <td>convertible</td>\n",
       "      <td>rwd</td>\n",
       "      <td>front</td>\n",
       "      <td>88.6</td>\n",
       "      <td>168.8</td>\n",
       "      <td>64.1</td>\n",
       "      <td>48.8</td>\n",
       "      <td>2548</td>\n",
       "      <td>dohc</td>\n",
       "      <td>four</td>\n",
       "      <td>130</td>\n",
       "      <td>mpfi</td>\n",
       "      <td>3.47</td>\n",
       "      <td>2.68</td>\n",
       "      <td>9.0</td>\n",
       "      <td>111</td>\n",
       "      <td>5000</td>\n",
       "      <td>21</td>\n",
       "      <td>27</td>\n",
       "      <td>16500</td>\n",
       "    </tr>\n",
       "    <tr>\n",
       "      <th>2</th>\n",
       "      <td>1</td>\n",
       "      <td>?</td>\n",
       "      <td>alfa-romero</td>\n",
       "      <td>gas</td>\n",
       "      <td>std</td>\n",
       "      <td>two</td>\n",
       "      <td>hatchback</td>\n",
       "      <td>rwd</td>\n",
       "      <td>front</td>\n",
       "      <td>94.5</td>\n",
       "      <td>171.2</td>\n",
       "      <td>65.5</td>\n",
       "      <td>52.4</td>\n",
       "      <td>2823</td>\n",
       "      <td>ohcv</td>\n",
       "      <td>six</td>\n",
       "      <td>152</td>\n",
       "      <td>mpfi</td>\n",
       "      <td>2.68</td>\n",
       "      <td>3.47</td>\n",
       "      <td>9.0</td>\n",
       "      <td>154</td>\n",
       "      <td>5000</td>\n",
       "      <td>19</td>\n",
       "      <td>26</td>\n",
       "      <td>16500</td>\n",
       "    </tr>\n",
       "    <tr>\n",
       "      <th>3</th>\n",
       "      <td>2</td>\n",
       "      <td>164</td>\n",
       "      <td>audi</td>\n",
       "      <td>gas</td>\n",
       "      <td>std</td>\n",
       "      <td>four</td>\n",
       "      <td>sedan</td>\n",
       "      <td>fwd</td>\n",
       "      <td>front</td>\n",
       "      <td>99.8</td>\n",
       "      <td>176.6</td>\n",
       "      <td>66.2</td>\n",
       "      <td>54.3</td>\n",
       "      <td>2337</td>\n",
       "      <td>ohc</td>\n",
       "      <td>four</td>\n",
       "      <td>109</td>\n",
       "      <td>mpfi</td>\n",
       "      <td>3.19</td>\n",
       "      <td>3.40</td>\n",
       "      <td>10.0</td>\n",
       "      <td>102</td>\n",
       "      <td>5500</td>\n",
       "      <td>24</td>\n",
       "      <td>30</td>\n",
       "      <td>13950</td>\n",
       "    </tr>\n",
       "    <tr>\n",
       "      <th>4</th>\n",
       "      <td>2</td>\n",
       "      <td>164</td>\n",
       "      <td>audi</td>\n",
       "      <td>gas</td>\n",
       "      <td>std</td>\n",
       "      <td>four</td>\n",
       "      <td>sedan</td>\n",
       "      <td>4wd</td>\n",
       "      <td>front</td>\n",
       "      <td>99.4</td>\n",
       "      <td>176.6</td>\n",
       "      <td>66.4</td>\n",
       "      <td>54.3</td>\n",
       "      <td>2824</td>\n",
       "      <td>ohc</td>\n",
       "      <td>five</td>\n",
       "      <td>136</td>\n",
       "      <td>mpfi</td>\n",
       "      <td>3.19</td>\n",
       "      <td>3.40</td>\n",
       "      <td>8.0</td>\n",
       "      <td>115</td>\n",
       "      <td>5500</td>\n",
       "      <td>18</td>\n",
       "      <td>22</td>\n",
       "      <td>17450</td>\n",
       "    </tr>\n",
       "  </tbody>\n",
       "</table>\n",
       "</div>"
      ],
      "text/plain": [
       "   symboling normalized_losses         make fuel_type aspiration num_doors  \\\n",
       "0          3                 ?  alfa-romero       gas        std       two   \n",
       "1          3                 ?  alfa-romero       gas        std       two   \n",
       "2          1                 ?  alfa-romero       gas        std       two   \n",
       "3          2               164         audi       gas        std      four   \n",
       "4          2               164         audi       gas        std      four   \n",
       "\n",
       "    body_style drive_wheels engine_location  wheel_base  length  width  \\\n",
       "0  convertible          rwd           front        88.6   168.8   64.1   \n",
       "1  convertible          rwd           front        88.6   168.8   64.1   \n",
       "2    hatchback          rwd           front        94.5   171.2   65.5   \n",
       "3        sedan          fwd           front        99.8   176.6   66.2   \n",
       "4        sedan          4wd           front        99.4   176.6   66.4   \n",
       "\n",
       "   height  curb_weight engine_type num_cylinders  engine_size fuel_system  \\\n",
       "0    48.8         2548        dohc          four          130        mpfi   \n",
       "1    48.8         2548        dohc          four          130        mpfi   \n",
       "2    52.4         2823        ohcv           six          152        mpfi   \n",
       "3    54.3         2337         ohc          four          109        mpfi   \n",
       "4    54.3         2824         ohc          five          136        mpfi   \n",
       "\n",
       "   bore stroke  compression_ratio horsepower peak_rpm  city_mpg  highway_mpg  \\\n",
       "0  3.47   2.68                9.0        111     5000        21           27   \n",
       "1  3.47   2.68                9.0        111     5000        21           27   \n",
       "2  2.68   3.47                9.0        154     5000        19           26   \n",
       "3  3.19   3.40               10.0        102     5500        24           30   \n",
       "4  3.19   3.40                8.0        115     5500        18           22   \n",
       "\n",
       "   price  \n",
       "0  13495  \n",
       "1  16500  \n",
       "2  16500  \n",
       "3  13950  \n",
       "4  17450  "
      ]
     },
     "execution_count": 3,
     "metadata": {},
     "output_type": "execute_result"
    }
   ],
   "source": [
    "cars.head()"
   ]
  },
  {
   "cell_type": "markdown",
   "metadata": {},
   "source": [
    "For simplicity, we will want to exclude non-numeric columns from our list of potential model features. This precludes us from having to handle categorical data, which requires encoding. Based on our understanding of the attributes provided, the following columns represent numeric data that may be potentially useful inputs to our model:"
   ]
  },
  {
   "cell_type": "code",
   "execution_count": 4,
   "metadata": {
    "collapsed": true
   },
   "outputs": [],
   "source": [
    "numeric_cols = ['symboling', 'normalized_losses', \n",
    "                'wheel_base', 'length', 'width', 'height',\n",
    "                'curb_weight', 'engine_size', 'bore',\n",
    "                'stroke', 'compression_ratio', 'horsepower',\n",
    "                'peak_rpm', 'city_mpg', 'highway_mpg', 'price']"
   ]
  },
  {
   "cell_type": "markdown",
   "metadata": {},
   "source": [
    "While the price column is listed in the numeric columns above for ease of codind downstream, this column actually represents the target variable we would like to predict, that is the price of the car."
   ]
  },
  {
   "cell_type": "code",
   "execution_count": 5,
   "metadata": {
    "collapsed": true
   },
   "outputs": [],
   "source": [
    "target = 'price'"
   ]
  },
  {
   "cell_type": "markdown",
   "metadata": {},
   "source": [
    "## Cleaning the Data\n",
    "\n",
    "Before we can use any of our data for predictive modeling, we have to remove any missing values the dataset may contain. From the preview of the dataset's first few rows, we can see that question marks are used to represent missing values in at least some of the numeric columns. \n",
    "\n",
    "Because question marks are string values, their presence causes pandas to convert the columns in which they appear to object types, even if they contain numeric data. Therefore, we will need to replace all question marks with NaN values, convert object-type columns containing numeric data to numeric types, and then handle the missing values in each numeric column accordingly. \n",
    "\n",
    "We will then also want to rescale the numeric values to lie within the range (0,1) in order for all of the model features to share a common scale."
   ]
  },
  {
   "cell_type": "markdown",
   "metadata": {},
   "source": [
    "### Replace Question Marks"
   ]
  },
  {
   "cell_type": "code",
   "execution_count": 6,
   "metadata": {
    "collapsed": false
   },
   "outputs": [],
   "source": [
    "# replace all instances of '?' with NaN\n",
    "cars.replace('?', np.nan, inplace=True)"
   ]
  },
  {
   "cell_type": "code",
   "execution_count": 7,
   "metadata": {
    "collapsed": false,
    "scrolled": true
   },
   "outputs": [
    {
     "data": {
      "text/html": [
       "<div>\n",
       "<style scoped>\n",
       "    .dataframe tbody tr th:only-of-type {\n",
       "        vertical-align: middle;\n",
       "    }\n",
       "\n",
       "    .dataframe tbody tr th {\n",
       "        vertical-align: top;\n",
       "    }\n",
       "\n",
       "    .dataframe thead th {\n",
       "        text-align: right;\n",
       "    }\n",
       "</style>\n",
       "<table border=\"1\" class=\"dataframe\">\n",
       "  <thead>\n",
       "    <tr style=\"text-align: right;\">\n",
       "      <th></th>\n",
       "      <th>symboling</th>\n",
       "      <th>normalized_losses</th>\n",
       "      <th>make</th>\n",
       "      <th>fuel_type</th>\n",
       "      <th>aspiration</th>\n",
       "      <th>num_doors</th>\n",
       "      <th>body_style</th>\n",
       "      <th>drive_wheels</th>\n",
       "      <th>engine_location</th>\n",
       "      <th>wheel_base</th>\n",
       "      <th>length</th>\n",
       "      <th>width</th>\n",
       "      <th>height</th>\n",
       "      <th>curb_weight</th>\n",
       "      <th>engine_type</th>\n",
       "      <th>num_cylinders</th>\n",
       "      <th>engine_size</th>\n",
       "      <th>fuel_system</th>\n",
       "      <th>bore</th>\n",
       "      <th>stroke</th>\n",
       "      <th>compression_ratio</th>\n",
       "      <th>horsepower</th>\n",
       "      <th>peak_rpm</th>\n",
       "      <th>city_mpg</th>\n",
       "      <th>highway_mpg</th>\n",
       "      <th>price</th>\n",
       "    </tr>\n",
       "  </thead>\n",
       "  <tbody>\n",
       "    <tr>\n",
       "      <th>0</th>\n",
       "      <td>3</td>\n",
       "      <td>NaN</td>\n",
       "      <td>alfa-romero</td>\n",
       "      <td>gas</td>\n",
       "      <td>std</td>\n",
       "      <td>two</td>\n",
       "      <td>convertible</td>\n",
       "      <td>rwd</td>\n",
       "      <td>front</td>\n",
       "      <td>88.6</td>\n",
       "      <td>168.8</td>\n",
       "      <td>64.1</td>\n",
       "      <td>48.8</td>\n",
       "      <td>2548</td>\n",
       "      <td>dohc</td>\n",
       "      <td>four</td>\n",
       "      <td>130</td>\n",
       "      <td>mpfi</td>\n",
       "      <td>3.47</td>\n",
       "      <td>2.68</td>\n",
       "      <td>9.0</td>\n",
       "      <td>111</td>\n",
       "      <td>5000</td>\n",
       "      <td>21</td>\n",
       "      <td>27</td>\n",
       "      <td>13495</td>\n",
       "    </tr>\n",
       "    <tr>\n",
       "      <th>1</th>\n",
       "      <td>3</td>\n",
       "      <td>NaN</td>\n",
       "      <td>alfa-romero</td>\n",
       "      <td>gas</td>\n",
       "      <td>std</td>\n",
       "      <td>two</td>\n",
       "      <td>convertible</td>\n",
       "      <td>rwd</td>\n",
       "      <td>front</td>\n",
       "      <td>88.6</td>\n",
       "      <td>168.8</td>\n",
       "      <td>64.1</td>\n",
       "      <td>48.8</td>\n",
       "      <td>2548</td>\n",
       "      <td>dohc</td>\n",
       "      <td>four</td>\n",
       "      <td>130</td>\n",
       "      <td>mpfi</td>\n",
       "      <td>3.47</td>\n",
       "      <td>2.68</td>\n",
       "      <td>9.0</td>\n",
       "      <td>111</td>\n",
       "      <td>5000</td>\n",
       "      <td>21</td>\n",
       "      <td>27</td>\n",
       "      <td>16500</td>\n",
       "    </tr>\n",
       "    <tr>\n",
       "      <th>2</th>\n",
       "      <td>1</td>\n",
       "      <td>NaN</td>\n",
       "      <td>alfa-romero</td>\n",
       "      <td>gas</td>\n",
       "      <td>std</td>\n",
       "      <td>two</td>\n",
       "      <td>hatchback</td>\n",
       "      <td>rwd</td>\n",
       "      <td>front</td>\n",
       "      <td>94.5</td>\n",
       "      <td>171.2</td>\n",
       "      <td>65.5</td>\n",
       "      <td>52.4</td>\n",
       "      <td>2823</td>\n",
       "      <td>ohcv</td>\n",
       "      <td>six</td>\n",
       "      <td>152</td>\n",
       "      <td>mpfi</td>\n",
       "      <td>2.68</td>\n",
       "      <td>3.47</td>\n",
       "      <td>9.0</td>\n",
       "      <td>154</td>\n",
       "      <td>5000</td>\n",
       "      <td>19</td>\n",
       "      <td>26</td>\n",
       "      <td>16500</td>\n",
       "    </tr>\n",
       "    <tr>\n",
       "      <th>3</th>\n",
       "      <td>2</td>\n",
       "      <td>164</td>\n",
       "      <td>audi</td>\n",
       "      <td>gas</td>\n",
       "      <td>std</td>\n",
       "      <td>four</td>\n",
       "      <td>sedan</td>\n",
       "      <td>fwd</td>\n",
       "      <td>front</td>\n",
       "      <td>99.8</td>\n",
       "      <td>176.6</td>\n",
       "      <td>66.2</td>\n",
       "      <td>54.3</td>\n",
       "      <td>2337</td>\n",
       "      <td>ohc</td>\n",
       "      <td>four</td>\n",
       "      <td>109</td>\n",
       "      <td>mpfi</td>\n",
       "      <td>3.19</td>\n",
       "      <td>3.40</td>\n",
       "      <td>10.0</td>\n",
       "      <td>102</td>\n",
       "      <td>5500</td>\n",
       "      <td>24</td>\n",
       "      <td>30</td>\n",
       "      <td>13950</td>\n",
       "    </tr>\n",
       "    <tr>\n",
       "      <th>4</th>\n",
       "      <td>2</td>\n",
       "      <td>164</td>\n",
       "      <td>audi</td>\n",
       "      <td>gas</td>\n",
       "      <td>std</td>\n",
       "      <td>four</td>\n",
       "      <td>sedan</td>\n",
       "      <td>4wd</td>\n",
       "      <td>front</td>\n",
       "      <td>99.4</td>\n",
       "      <td>176.6</td>\n",
       "      <td>66.4</td>\n",
       "      <td>54.3</td>\n",
       "      <td>2824</td>\n",
       "      <td>ohc</td>\n",
       "      <td>five</td>\n",
       "      <td>136</td>\n",
       "      <td>mpfi</td>\n",
       "      <td>3.19</td>\n",
       "      <td>3.40</td>\n",
       "      <td>8.0</td>\n",
       "      <td>115</td>\n",
       "      <td>5500</td>\n",
       "      <td>18</td>\n",
       "      <td>22</td>\n",
       "      <td>17450</td>\n",
       "    </tr>\n",
       "  </tbody>\n",
       "</table>\n",
       "</div>"
      ],
      "text/plain": [
       "   symboling normalized_losses         make fuel_type aspiration num_doors  \\\n",
       "0          3               NaN  alfa-romero       gas        std       two   \n",
       "1          3               NaN  alfa-romero       gas        std       two   \n",
       "2          1               NaN  alfa-romero       gas        std       two   \n",
       "3          2               164         audi       gas        std      four   \n",
       "4          2               164         audi       gas        std      four   \n",
       "\n",
       "    body_style drive_wheels engine_location  wheel_base  length  width  \\\n",
       "0  convertible          rwd           front        88.6   168.8   64.1   \n",
       "1  convertible          rwd           front        88.6   168.8   64.1   \n",
       "2    hatchback          rwd           front        94.5   171.2   65.5   \n",
       "3        sedan          fwd           front        99.8   176.6   66.2   \n",
       "4        sedan          4wd           front        99.4   176.6   66.4   \n",
       "\n",
       "   height  curb_weight engine_type num_cylinders  engine_size fuel_system  \\\n",
       "0    48.8         2548        dohc          four          130        mpfi   \n",
       "1    48.8         2548        dohc          four          130        mpfi   \n",
       "2    52.4         2823        ohcv           six          152        mpfi   \n",
       "3    54.3         2337         ohc          four          109        mpfi   \n",
       "4    54.3         2824         ohc          five          136        mpfi   \n",
       "\n",
       "   bore stroke  compression_ratio horsepower peak_rpm  city_mpg  highway_mpg  \\\n",
       "0  3.47   2.68                9.0        111     5000        21           27   \n",
       "1  3.47   2.68                9.0        111     5000        21           27   \n",
       "2  2.68   3.47                9.0        154     5000        19           26   \n",
       "3  3.19   3.40               10.0        102     5500        24           30   \n",
       "4  3.19   3.40                8.0        115     5500        18           22   \n",
       "\n",
       "   price  \n",
       "0  13495  \n",
       "1  16500  \n",
       "2  16500  \n",
       "3  13950  \n",
       "4  17450  "
      ]
     },
     "execution_count": 7,
     "metadata": {},
     "output_type": "execute_result"
    }
   ],
   "source": [
    "# check replacement worked\n",
    "cars.head()"
   ]
  },
  {
   "cell_type": "markdown",
   "metadata": {},
   "source": [
    "### Convert Numeric Columns"
   ]
  },
  {
   "cell_type": "code",
   "execution_count": 8,
   "metadata": {
    "collapsed": false,
    "scrolled": true
   },
   "outputs": [
    {
     "data": {
      "text/plain": [
       "normalized_losses    object\n",
       "make                 object\n",
       "fuel_type            object\n",
       "aspiration           object\n",
       "num_doors            object\n",
       "body_style           object\n",
       "drive_wheels         object\n",
       "engine_location      object\n",
       "engine_type          object\n",
       "num_cylinders        object\n",
       "fuel_system          object\n",
       "bore                 object\n",
       "stroke               object\n",
       "horsepower           object\n",
       "peak_rpm             object\n",
       "price                object\n",
       "dtype: object"
      ]
     },
     "execution_count": 8,
     "metadata": {},
     "output_type": "execute_result"
    }
   ],
   "source": [
    "# check which numeric columns need to be converted\n",
    "cars.dtypes[cars.dtypes == 'object']"
   ]
  },
  {
   "cell_type": "code",
   "execution_count": 9,
   "metadata": {
    "collapsed": false
   },
   "outputs": [],
   "source": [
    "# identify numeric columns that need to be converted\n",
    "convert_cols = [col for col in numeric_cols if \n",
    "                cars[col].dtypes == 'object']\n",
    "# build dictionary to pass to astype function\n",
    "convert_dict = {col: float for col in convert_cols}\n",
    "# convert numeric columns from object to float\n",
    "cars = cars.astype(convert_dict)"
   ]
  },
  {
   "cell_type": "code",
   "execution_count": 10,
   "metadata": {
    "collapsed": false
   },
   "outputs": [
    {
     "data": {
      "text/plain": [
       "symboling              int64\n",
       "normalized_losses    float64\n",
       "make                  object\n",
       "fuel_type             object\n",
       "aspiration            object\n",
       "num_doors             object\n",
       "body_style            object\n",
       "drive_wheels          object\n",
       "engine_location       object\n",
       "wheel_base           float64\n",
       "length               float64\n",
       "width                float64\n",
       "height               float64\n",
       "curb_weight            int64\n",
       "engine_type           object\n",
       "num_cylinders         object\n",
       "engine_size            int64\n",
       "fuel_system           object\n",
       "bore                 float64\n",
       "stroke               float64\n",
       "compression_ratio    float64\n",
       "horsepower           float64\n",
       "peak_rpm             float64\n",
       "city_mpg               int64\n",
       "highway_mpg            int64\n",
       "price                float64\n",
       "dtype: object"
      ]
     },
     "execution_count": 10,
     "metadata": {},
     "output_type": "execute_result"
    }
   ],
   "source": [
    "cars.dtypes"
   ]
  },
  {
   "cell_type": "markdown",
   "metadata": {},
   "source": [
    "### Handle Missing Values"
   ]
  },
  {
   "cell_type": "code",
   "execution_count": 11,
   "metadata": {
    "collapsed": false,
    "scrolled": false
   },
   "outputs": [
    {
     "data": {
      "text/plain": [
       "normalized_losses    20.00000\n",
       "num_doors             0.97561\n",
       "bore                  1.95122\n",
       "stroke                1.95122\n",
       "horsepower            0.97561\n",
       "peak_rpm              0.97561\n",
       "price                 1.95122\n",
       "dtype: float64"
      ]
     },
     "execution_count": 11,
     "metadata": {},
     "output_type": "execute_result"
    }
   ],
   "source": [
    "# count percentage of missing values per column\n",
    "(cars.isnull().sum() / cars.shape[0] * 100)[cars.isnull().sum() > 0]"
   ]
  },
  {
   "cell_type": "markdown",
   "metadata": {},
   "source": [
    "There are a number of ways we can handle missing values in a column: replacing the missing values with some other values, i.e. zero or the mean value of the column, removing the rows where missing values in the column appear, or removing the column entirely.\n",
    "\n",
    "Since 20% of the 'normalized_losses' column data is missing, we will drop this column from the dataset. While this column represents the average insurances loss per car per year, which is likely correlated with the price of the car, there are enough other features for us to consider for our model, and the column contains such a significant amount of missing data, that we can feel comfortable removing this data.\n",
    "\n",
    "We can also drop any remaining object-type columns, since we are only interested in numeric data for this model."
   ]
  },
  {
   "cell_type": "code",
   "execution_count": 12,
   "metadata": {
    "collapsed": false
   },
   "outputs": [],
   "source": [
    "# remove 'normalized_losses' column\n",
    "cars = cars.drop(['normalized_losses'], axis=1)\n",
    "cars = cars.drop(\n",
    "    [col for col in cars.columns if cars[col].dtypes == 'object'], \n",
    "    axis=1)"
   ]
  },
  {
   "cell_type": "markdown",
   "metadata": {},
   "source": [
    "Since the 'price' column represents our target variable, which we are trying to predict, we need it to contain an accurate value in every entry in order to properly train our model. Therefore, we remove any row with a missing price."
   ]
  },
  {
   "cell_type": "code",
   "execution_count": 13,
   "metadata": {
    "collapsed": false
   },
   "outputs": [],
   "source": [
    "# drop rows with missing prices\n",
    "cars = cars.drop(cars[cars['price'].isnull()].index)"
   ]
  },
  {
   "cell_type": "markdown",
   "metadata": {},
   "source": [
    "The remaining columns with missing data only contain null values in 1-2% of their row entries, so it is straightforward to replace these values with their corresponding column means."
   ]
  },
  {
   "cell_type": "code",
   "execution_count": 14,
   "metadata": {
    "collapsed": false
   },
   "outputs": [],
   "source": [
    "null_index = cars.isnull().sum()[cars.isnull().sum() > 0].index\n",
    "repl_nulls = {ix: cars[ix].mean() for ix in null_index}\n",
    "cars = cars.fillna(value=repl_nulls)"
   ]
  },
  {
   "cell_type": "code",
   "execution_count": 15,
   "metadata": {
    "collapsed": false
   },
   "outputs": [
    {
     "data": {
      "text/plain": [
       "Series([], dtype: float64)"
      ]
     },
     "execution_count": 15,
     "metadata": {},
     "output_type": "execute_result"
    }
   ],
   "source": [
    "# check for any remaining missing values\n",
    "(cars.isnull().sum() / cars.shape[0] * 100)[cars.isnull().sum() > 0]"
   ]
  },
  {
   "cell_type": "markdown",
   "metadata": {},
   "source": [
    "### Rescale Numeric Data\n",
    "\n",
    "Finally, we perform min-max normalization of the numeric columns to rescale their values to lie within the range (0,1). We do not scale the target column."
   ]
  },
  {
   "cell_type": "code",
   "execution_count": 16,
   "metadata": {
    "collapsed": true
   },
   "outputs": [],
   "source": [
    "price_col = cars['price']\n",
    "cars = (cars - cars.min()) / (cars.max() - cars.min())\n",
    "cars['price'] = price_col"
   ]
  },
  {
   "cell_type": "code",
   "execution_count": 17,
   "metadata": {
    "collapsed": false
   },
   "outputs": [
    {
     "data": {
      "text/html": [
       "<div>\n",
       "<style scoped>\n",
       "    .dataframe tbody tr th:only-of-type {\n",
       "        vertical-align: middle;\n",
       "    }\n",
       "\n",
       "    .dataframe tbody tr th {\n",
       "        vertical-align: top;\n",
       "    }\n",
       "\n",
       "    .dataframe thead th {\n",
       "        text-align: right;\n",
       "    }\n",
       "</style>\n",
       "<table border=\"1\" class=\"dataframe\">\n",
       "  <thead>\n",
       "    <tr style=\"text-align: right;\">\n",
       "      <th></th>\n",
       "      <th>symboling</th>\n",
       "      <th>wheel_base</th>\n",
       "      <th>length</th>\n",
       "      <th>width</th>\n",
       "      <th>height</th>\n",
       "      <th>curb_weight</th>\n",
       "      <th>engine_size</th>\n",
       "      <th>bore</th>\n",
       "      <th>stroke</th>\n",
       "      <th>compression_ratio</th>\n",
       "      <th>horsepower</th>\n",
       "      <th>peak_rpm</th>\n",
       "      <th>city_mpg</th>\n",
       "      <th>highway_mpg</th>\n",
       "      <th>price</th>\n",
       "    </tr>\n",
       "  </thead>\n",
       "  <tbody>\n",
       "    <tr>\n",
       "      <th>0</th>\n",
       "      <td>1.0</td>\n",
       "      <td>0.058309</td>\n",
       "      <td>0.413433</td>\n",
       "      <td>0.324786</td>\n",
       "      <td>0.083333</td>\n",
       "      <td>0.411171</td>\n",
       "      <td>0.260377</td>\n",
       "      <td>0.664286</td>\n",
       "      <td>0.290476</td>\n",
       "      <td>0.1250</td>\n",
       "      <td>0.294393</td>\n",
       "      <td>0.346939</td>\n",
       "      <td>0.222222</td>\n",
       "      <td>0.289474</td>\n",
       "      <td>13495.0</td>\n",
       "    </tr>\n",
       "    <tr>\n",
       "      <th>1</th>\n",
       "      <td>1.0</td>\n",
       "      <td>0.058309</td>\n",
       "      <td>0.413433</td>\n",
       "      <td>0.324786</td>\n",
       "      <td>0.083333</td>\n",
       "      <td>0.411171</td>\n",
       "      <td>0.260377</td>\n",
       "      <td>0.664286</td>\n",
       "      <td>0.290476</td>\n",
       "      <td>0.1250</td>\n",
       "      <td>0.294393</td>\n",
       "      <td>0.346939</td>\n",
       "      <td>0.222222</td>\n",
       "      <td>0.289474</td>\n",
       "      <td>16500.0</td>\n",
       "    </tr>\n",
       "    <tr>\n",
       "      <th>2</th>\n",
       "      <td>0.6</td>\n",
       "      <td>0.230321</td>\n",
       "      <td>0.449254</td>\n",
       "      <td>0.444444</td>\n",
       "      <td>0.383333</td>\n",
       "      <td>0.517843</td>\n",
       "      <td>0.343396</td>\n",
       "      <td>0.100000</td>\n",
       "      <td>0.666667</td>\n",
       "      <td>0.1250</td>\n",
       "      <td>0.495327</td>\n",
       "      <td>0.346939</td>\n",
       "      <td>0.166667</td>\n",
       "      <td>0.263158</td>\n",
       "      <td>16500.0</td>\n",
       "    </tr>\n",
       "    <tr>\n",
       "      <th>3</th>\n",
       "      <td>0.8</td>\n",
       "      <td>0.384840</td>\n",
       "      <td>0.529851</td>\n",
       "      <td>0.504274</td>\n",
       "      <td>0.541667</td>\n",
       "      <td>0.329325</td>\n",
       "      <td>0.181132</td>\n",
       "      <td>0.464286</td>\n",
       "      <td>0.633333</td>\n",
       "      <td>0.1875</td>\n",
       "      <td>0.252336</td>\n",
       "      <td>0.551020</td>\n",
       "      <td>0.305556</td>\n",
       "      <td>0.368421</td>\n",
       "      <td>13950.0</td>\n",
       "    </tr>\n",
       "    <tr>\n",
       "      <th>4</th>\n",
       "      <td>0.8</td>\n",
       "      <td>0.373178</td>\n",
       "      <td>0.529851</td>\n",
       "      <td>0.521368</td>\n",
       "      <td>0.541667</td>\n",
       "      <td>0.518231</td>\n",
       "      <td>0.283019</td>\n",
       "      <td>0.464286</td>\n",
       "      <td>0.633333</td>\n",
       "      <td>0.0625</td>\n",
       "      <td>0.313084</td>\n",
       "      <td>0.551020</td>\n",
       "      <td>0.138889</td>\n",
       "      <td>0.157895</td>\n",
       "      <td>17450.0</td>\n",
       "    </tr>\n",
       "  </tbody>\n",
       "</table>\n",
       "</div>"
      ],
      "text/plain": [
       "   symboling  wheel_base    length     width    height  curb_weight  \\\n",
       "0        1.0    0.058309  0.413433  0.324786  0.083333     0.411171   \n",
       "1        1.0    0.058309  0.413433  0.324786  0.083333     0.411171   \n",
       "2        0.6    0.230321  0.449254  0.444444  0.383333     0.517843   \n",
       "3        0.8    0.384840  0.529851  0.504274  0.541667     0.329325   \n",
       "4        0.8    0.373178  0.529851  0.521368  0.541667     0.518231   \n",
       "\n",
       "   engine_size      bore    stroke  compression_ratio  horsepower  peak_rpm  \\\n",
       "0     0.260377  0.664286  0.290476             0.1250    0.294393  0.346939   \n",
       "1     0.260377  0.664286  0.290476             0.1250    0.294393  0.346939   \n",
       "2     0.343396  0.100000  0.666667             0.1250    0.495327  0.346939   \n",
       "3     0.181132  0.464286  0.633333             0.1875    0.252336  0.551020   \n",
       "4     0.283019  0.464286  0.633333             0.0625    0.313084  0.551020   \n",
       "\n",
       "   city_mpg  highway_mpg    price  \n",
       "0  0.222222     0.289474  13495.0  \n",
       "1  0.222222     0.289474  16500.0  \n",
       "2  0.166667     0.263158  16500.0  \n",
       "3  0.305556     0.368421  13950.0  \n",
       "4  0.138889     0.157895  17450.0  "
      ]
     },
     "execution_count": 17,
     "metadata": {},
     "output_type": "execute_result"
    }
   ],
   "source": [
    "cars.head()"
   ]
  },
  {
   "cell_type": "markdown",
   "metadata": {},
   "source": [
    "## Testing Univariate K-Nearest Neighbors Models\n",
    "\n",
    "Now that we have cleaned the data, we are ready to begin building our car-price-predicting machine learning model. We start by testing some simple univariate models using the k-nearest neighbors algorithms. We do so in order to build up the structure of our workflow and better understand the features we're working with before moving on to more complex models.\n",
    "\n",
    "Below, we create a function that encapsulates the training and simple validation process, splitting the data into a training set and a test set, fitting a k-nearest neighbors model on the training set, making predictions with the model on the test set, and calculting the root mean squared error of those predictions."
   ]
  },
  {
   "cell_type": "code",
   "execution_count": 22,
   "metadata": {
    "collapsed": true
   },
   "outputs": [],
   "source": [
    "# import machine learning libraries\n",
    "from sklearn.neighbors import KNeighborsRegressor\n",
    "from sklearn.metrics import mean_squared_error\n",
    "\n",
    "def knn_train_test(train_col, target_col, df):\n",
    "    # randomize dataset\n",
    "    np.random.seed(1)\n",
    "    rand_df = df.reindex(np.random.permutation(df.index))\n",
    "    \n",
    "    # split data into training (50%) and testing (50%) sets\n",
    "    train_df = rand_df[:int(rand_df.shape[0] * 0.5)]\n",
    "    test_df = rand_df[int(rand_df.shape[0] * 0.5):]\n",
    "    \n",
    "    # instantiate model\n",
    "    knn = KNeighborsRegressor()\n",
    "    \n",
    "    # fit model to training data\n",
    "    knn.fit(train_df[[train_col]], train_df[target_col])\n",
    "    \n",
    "    # make predictions with model on test data\n",
    "    predictions = knn.predict(test_df[[train_col]])\n",
    "    \n",
    "    # calculate root mean squared error of predictions\n",
    "    rmse = np.sqrt(\n",
    "        mean_squared_error(predictions, test_df[target_col]))\n",
    "    \n",
    "    return rmse"
   ]
  },
  {
   "cell_type": "markdown",
   "metadata": {},
   "source": [
    "For the first iteration of our univariate model test, we use the default k-value for the k-nearest neighbors algorithm and only vary the model's single input feature. Below, we train and test the univariate models using each remaining column in our dataset as the input feature. Recall we have already removed any categorical data and missing values from our dataset."
   ]
  },
  {
   "cell_type": "code",
   "execution_count": 28,
   "metadata": {
    "collapsed": false
   },
   "outputs": [
    {
     "name": "stdout",
     "output_type": "stream",
     "text": [
      "wheel_base           5461.553997873057\n",
      "height               8144.441042663747\n",
      "width                4704.482589704386\n",
      "peak_rpm             7697.4596964334805\n",
      "length               5427.2009608367125\n",
      "highway_mpg          4630.026798588056\n",
      "bore                 6780.627784685976\n",
      "city_mpg             4766.422505090134\n",
      "compression_ratio    6610.812153159129\n",
      "curb_weight          4401.118254793124\n",
      "engine_size          3238.4628296477176\n",
      "symboling            7979.434919842381\n",
      "horsepower           4037.0377131537603\n",
      "stroke               8006.529544647101\n"
     ]
    }
   ],
   "source": [
    "# train and test models with different features\n",
    "rmses_iter_one = {}\n",
    "for col in cars.columns:\n",
    "    if col != 'price':\n",
    "        rmses_iter_one[col] = knn_train_test(col, 'price', cars)\n",
    "for k, v in rmses_iter_one.items():\n",
    "    print('{0:20} {1}'.format(k, v))"
   ]
  },
  {
   "cell_type": "code",
   "execution_count": 24,
   "metadata": {
    "collapsed": false
   },
   "outputs": [
    {
     "name": "stdout",
     "output_type": "stream",
     "text": [
      "engine_size 3238.4628296477176\n"
     ]
    }
   ],
   "source": [
    "# find feature that minimizes rmse (performs the best)\n",
    "min_rmse_iter_one = min(rmses_iter_one, key=rmses_iter_one.get)\n",
    "print(min_rmse_iter_one, rmses_iter_one[min_rmse_iter_one])"
   ]
  },
  {
   "cell_type": "markdown",
   "metadata": {},
   "source": [
    "Using the k-nearest neighbors algorithm with the defaul k-value, our univariate model performed the best, yielding the lowest root mean squared error, with the engine size feature."
   ]
  },
  {
   "cell_type": "markdown",
   "metadata": {},
   "source": [
    "Next, we will vary the k-value used in our univariate model over each input feature to identify the feature, k-value pair for which the model best performs. To do so, we modify the train/test validation function above to accept a parameter for the k-value and then re-calculate the RMSE values for each feature over a range of k-values."
   ]
  },
  {
   "cell_type": "code",
   "execution_count": 83,
   "metadata": {
    "collapsed": true
   },
   "outputs": [],
   "source": [
    "def knn_train_test_k(train_col, target_col, df, k=5):\n",
    "    # randomize dataset\n",
    "    np.random.seed(1)\n",
    "    rand_df = df.reindex(np.random.permutation(df.index))\n",
    "    \n",
    "    # split data into training (50%) and testing (50%) sets\n",
    "    train_df = rand_df[:int(rand_df.shape[0] * 0.5)]\n",
    "    test_df = rand_df[int(rand_df.shape[0] * 0.5):]\n",
    "    \n",
    "    # instantiate model\n",
    "    knn = KNeighborsRegressor(n_neighbors=k)\n",
    "    \n",
    "    # fit model to training data\n",
    "    knn.fit(train_df[[train_col]], train_df[target_col])\n",
    "    \n",
    "    # make predictions with model on test data\n",
    "    predictions = knn.predict(test_df[[train_col]])\n",
    "    \n",
    "    # calculate root mean squared error of predictions\n",
    "    rmse = np.sqrt(\n",
    "        mean_squared_error(predictions, test_df[target_col]))\n",
    "    \n",
    "    return rmse"
   ]
  },
  {
   "cell_type": "code",
   "execution_count": 44,
   "metadata": {
    "collapsed": false
   },
   "outputs": [
    {
     "name": "stdout",
     "output_type": "stream",
     "text": [
      "wheel_base           1 4493.734068810494\n",
      "wheel_base           3 5120.161506064513\n",
      "wheel_base           5 5461.553997873057\n",
      "wheel_base           7 5448.1070513823315\n",
      "wheel_base           9 5738.405685192312\n",
      "height               1 8904.04645636071\n",
      "height               3 8277.609643045525\n",
      "height               5 8144.441042663747\n",
      "height               7 7679.598124393773\n",
      "height               9 7811.03606291223\n",
      "width                1 4559.257297950061\n",
      "width                3 4606.413692169901\n",
      "width                5 4704.482589704386\n",
      "width                7 4571.485046194653\n",
      "width                9 4652.914172067787\n",
      "peak_rpm             1 9511.480067750124\n",
      "peak_rpm             3 8537.550899973421\n",
      "peak_rpm             5 7697.4596964334805\n",
      "peak_rpm             7 7510.294160083481\n",
      "peak_rpm             9 7340.041341263401\n",
      "length               1 4628.45550121557\n",
      "length               3 5129.8358210721635\n",
      "length               5 5427.2009608367125\n",
      "length               7 5313.427720847974\n",
      "length               9 5383.054514833446\n",
      "highway_mpg          1 6025.594966720739\n",
      "highway_mpg          3 4617.305019788554\n",
      "highway_mpg          5 4630.026798588056\n",
      "highway_mpg          7 4796.061440186946\n",
      "highway_mpg          9 5278.358056953987\n",
      "bore                 1 8602.58848450066\n",
      "bore                 3 6984.239489480916\n",
      "bore                 5 6780.627784685976\n",
      "bore                 7 6878.097965921532\n",
      "bore                 9 6866.808502038413\n",
      "city_mpg             1 5901.143574354764\n",
      "city_mpg             3 4646.746408727155\n",
      "city_mpg             5 4766.422505090134\n",
      "city_mpg             7 5232.523034167316\n",
      "city_mpg             9 5465.209492527533\n",
      "compression_ratio    1 8087.205346523092\n",
      "compression_ratio    3 7375.063685578359\n",
      "compression_ratio    5 6610.812153159129\n",
      "compression_ratio    7 6732.801282941515\n",
      "compression_ratio    9 7024.485525463435\n",
      "curb_weight          1 5264.290230758878\n",
      "curb_weight          3 5022.318011757233\n",
      "curb_weight          5 4401.118254793124\n",
      "curb_weight          7 4330.608104418053\n",
      "curb_weight          9 4632.044474454401\n",
      "engine_size          1 3258.4861059962027\n",
      "engine_size          3 2840.562805643501\n",
      "engine_size          5 3238.4628296477176\n",
      "engine_size          7 3563.086774256415\n",
      "engine_size          9 3831.8244149840766\n",
      "symboling            1 8420.026461589143\n",
      "symboling            3 8736.916665985938\n",
      "symboling            5 7979.434919842381\n",
      "symboling            7 7884.532513187155\n",
      "symboling            9 7817.760486088469\n",
      "horsepower           1 4170.054848037801\n",
      "horsepower           3 4020.8492630885394\n",
      "horsepower           5 4037.0377131537603\n",
      "horsepower           7 4353.811860277134\n",
      "horsepower           9 4515.135617419103\n",
      "stroke               1 9116.495955406906\n",
      "stroke               3 7338.68466990294\n",
      "stroke               5 8006.529544647101\n",
      "stroke               7 7803.937796804327\n",
      "stroke               9 7735.554366079291\n"
     ]
    }
   ],
   "source": [
    "# train and test models with different features and k-values\n",
    "k_vals = [1, 3, 5, 7, 9]\n",
    "rmses_iter_k = {}\n",
    "for col in cars.columns:\n",
    "    if col != 'price':\n",
    "        rmses_k = []\n",
    "        for k_val in k_vals:\n",
    "            rmses_k.append(knn_train_test_k(\n",
    "                col, 'price', cars, k_val))\n",
    "        rmses_iter_k[col] = rmses_k\n",
    "\n",
    "rmses_iter_k_1d = {}\n",
    "for k, v in rmses_iter_k.items():\n",
    "    for iv, val in enumerate(v):\n",
    "        #print(k, k_vals[iv], val)\n",
    "        print('{0:20} {1} {2}'.format(k, k_vals[iv], val))\n",
    "        rmses_iter_k_1d[k + '-' + str(k_vals[iv])] = val"
   ]
  },
  {
   "cell_type": "code",
   "execution_count": 46,
   "metadata": {
    "collapsed": false
   },
   "outputs": [
    {
     "name": "stdout",
     "output_type": "stream",
     "text": [
      "engine_size-3 2840.562805643501\n"
     ]
    }
   ],
   "source": [
    "# find feature, k-value pair that minimizes rmse (performs the best)\n",
    "min_rmse_iter_k = min(rmses_iter_k_1d, key=rmses_iter_k_1d.get)\n",
    "print(min_rmse_iter_k, rmses_iter_k_1d[min_rmse_iter_k])"
   ]
  },
  {
   "cell_type": "markdown",
   "metadata": {},
   "source": [
    "The feature, k-value pair that yields the best-performing univariate k-nearest neighbors model, in terms of the lowest RMSE for the car price predictions, is the engine size feature coupled with a k-value of k=3.\n",
    "\n",
    "Below is a scatter plot illustrating the RMSE value of the model predictions for each feature, k-value pair."
   ]
  },
  {
   "cell_type": "code",
   "execution_count": 75,
   "metadata": {
    "collapsed": false
   },
   "outputs": [
    {
     "data": {
      "image/png": "[encoded data removed]",
      "text/plain": [
       "<matplotlib.figure.Figure at 0x7f6e420d8358>"
      ]
     },
     "metadata": {},
     "output_type": "display_data"
    }
   ],
   "source": [
    "# import matplotlib\n",
    "%matplotlib inline\n",
    "import matplotlib.pyplot as plt\n",
    "plt.figure(figsize=(12,8))\n",
    "for k, v in rmses_iter_k.items():\n",
    "    plt.plot(k_vals, v, label=k)\n",
    "plt.xlabel('k-value')\n",
    "plt.ylabel('RMSE ($)')\n",
    "plt.title('model performance per feature, k-value Pair')\n",
    "plt.legend(bbox_to_anchor=(1.25, 0.80))\n",
    "plt.show()"
   ]
  },
  {
   "cell_type": "markdown",
   "metadata": {},
   "source": [
    "## Testing Multivariate K-Nearest Neighbors Models\n",
    "\n",
    "We can improve our car-price-predicting model by increasing the number of input features, thus implementing a multivariate k-nearest neighbors model. Below, we test various multivariate models with a default k-value by passing a list of column names to our above train/test validation function. We first must modify our function slightly to accept a list of multiple column names."
   ]
  },
  {
   "cell_type": "code",
   "execution_count": 88,
   "metadata": {
    "collapsed": true
   },
   "outputs": [],
   "source": [
    "def knn_train_test_k_multi(train_col, target_col, df, k=5):\n",
    "    # randomize dataset\n",
    "    np.random.seed(1)\n",
    "    rand_df = df.reindex(np.random.permutation(df.index))\n",
    "    \n",
    "    # split data into training (50%) and testing (50%) sets\n",
    "    train_df = rand_df[:int(rand_df.shape[0] * 0.5)]\n",
    "    test_df = rand_df[int(rand_df.shape[0] * 0.5):]\n",
    "    \n",
    "    # instantiate model\n",
    "    knn = KNeighborsRegressor(n_neighbors=k)\n",
    "    \n",
    "    # fit model to training data\n",
    "    knn.fit(train_df[train_col], train_df[target_col])\n",
    "    \n",
    "    # make predictions with model on test data\n",
    "    predictions = knn.predict(test_df[train_col])\n",
    "    \n",
    "    # calculate root mean squared error of predictions\n",
    "    rmse = np.sqrt(\n",
    "        mean_squared_error(predictions, test_df[target_col]))\n",
    "    \n",
    "    return rmse"
   ]
  },
  {
   "cell_type": "markdown",
   "metadata": {},
   "source": [
    "Let's now convert our dictionary of feature RMSEs given the default k-value from above to a series and sort it in order of increasing RMSE. This will allow us to immediately identify the top-performing univariate features."
   ]
  },
  {
   "cell_type": "code",
   "execution_count": 81,
   "metadata": {
    "collapsed": false
   },
   "outputs": [
    {
     "name": "stdout",
     "output_type": "stream",
     "text": [
      "engine_size          3238.462830\n",
      "horsepower           4037.037713\n",
      "curb_weight          4401.118255\n",
      "highway_mpg          4630.026799\n",
      "width                4704.482590\n",
      "city_mpg             4766.422505\n",
      "length               5427.200961\n",
      "wheel_base           5461.553998\n",
      "compression_ratio    6610.812153\n",
      "bore                 6780.627785\n",
      "peak_rpm             7697.459696\n",
      "symboling            7979.434920\n",
      "stroke               8006.529545\n",
      "height               8144.441043\n",
      "dtype: float64\n"
     ]
    }
   ],
   "source": [
    "rmses_iter_one_srs = pd.Series(rmses_iter_one)\n",
    "rmses_iter_one_srs.sort_values(inplace=True)\n",
    "print(rmses_iter_one_srs)"
   ]
  },
  {
   "cell_type": "markdown",
   "metadata": {},
   "source": [
    "The top five best predictive features in order of decreasing RMSE are the engine size, horsepower, curb weight, highway milege, and width."
   ]
  },
  {
   "cell_type": "markdown",
   "metadata": {},
   "source": [
    "Let's start by considering a multivariate model using all of the numeric columns (except the target) as features. Then, we will consider multivariate models using the best two, three, four, and five features. The RMSE values for each multivariate model are displayed below."
   ]
  },
  {
   "cell_type": "code",
   "execution_count": 106,
   "metadata": {
    "collapsed": false
   },
   "outputs": [],
   "source": [
    "# pass all columns except target\n",
    "rmses_multi = {}\n",
    "multi_cols = [col for col in cars.columns if col != 'object']\n",
    "rmses_multi[len(multi_cols)] = knn_train_test_k_multi(\n",
    "    multi_cols, 'price', cars)"
   ]
  },
  {
   "cell_type": "code",
   "execution_count": 116,
   "metadata": {
    "collapsed": false
   },
   "outputs": [],
   "source": [
    "# pass best 2, 3, 4, 5 features\n",
    "for i in range(2,6):\n",
    "    multivar_cols = list(rmses_iter_one_srs.index[0:i])\n",
    "    rmses_multi[i] = knn_train_test_k_multi(\n",
    "        multivar_cols, 'price', cars)"
   ]
  },
  {
   "cell_type": "code",
   "execution_count": 114,
   "metadata": {
    "collapsed": false
   },
   "outputs": [
    {
     "name": "stdout",
     "output_type": "stream",
     "text": [
      "(2, 2949.8817277180374)\n",
      "(3, 3435.2601095401815)\n",
      "(4, 3286.5597353252815)\n",
      "(5, 3410.2170133901805)\n",
      "(15, 1427.0212970303621)\n"
     ]
    }
   ],
   "source": [
    "# print RMSE values\n",
    "for item in sorted(rmses_multi.items()):\n",
    "    print(item)"
   ]
  },
  {
   "cell_type": "markdown",
   "metadata": {},
   "source": [
    "The top three multivariate k-nearest neighbors models using the default k-value are those using all features, the top two features, and the top four features. We will now optimize each of these models by varying the hyperparamater (k) value in each from 1 to 25."
   ]
  },
  {
   "cell_type": "code",
   "execution_count": 157,
   "metadata": {
    "collapsed": false
   },
   "outputs": [
    {
     "name": "stdout",
     "output_type": "stream",
     "text": [
      " N  k RMSE \n",
      "\n",
      " 2  1 2783.6204237227344\n",
      " 2  2 2657.7963807419765\n",
      " 2  3 2792.586573031673\n",
      " 2  4 2891.5329686923255\n",
      " 2  5 2949.8817277180374\n",
      " 2  6 3096.402601694776\n",
      " 2  7 3164.681969020496\n",
      " 2  8 3413.228359192009\n",
      " 2  9 3748.6716603306486\n",
      " 2 10 4080.7125057341937\n",
      " 2 11 4215.6372280600335\n",
      " 2 12 4275.421524277872\n",
      " 2 13 4373.901683035496\n",
      " 2 14 4424.285137239815\n",
      " 2 15 4539.505493095937\n",
      " 2 16 4667.307671446768\n",
      " 2 17 4729.605305844226\n",
      " 2 18 4790.556632159094\n",
      " 2 19 4824.3866193292615\n",
      " 2 20 4840.850914693829\n",
      " 2 21 4837.429062000271\n",
      " 2 22 4831.16988267597\n",
      " 2 23 4861.679492959275\n",
      " 2 24 4903.346008862579\n",
      " 2 25 4955.892429427362\n",
      " 4  1 2927.820116343107\n",
      " 4  2 2600.431466008274\n",
      " 4  3 2799.0983199667144\n",
      " 4  4 3074.9999988931822\n",
      " 4  5 3286.5597353252815\n",
      " 4  6 3705.1702717384333\n",
      " 4  7 3822.180444798032\n",
      " 4  8 3986.7014080509525\n",
      " 4  9 4210.340136384571\n",
      " 4 10 4213.315457869819\n",
      " 4 11 4182.323353796191\n",
      " 4 12 4288.696189501458\n",
      " 4 13 4249.894628724804\n",
      " 4 14 4357.287937912011\n",
      " 4 15 4451.408927529352\n",
      " 4 16 4459.2244133241875\n",
      " 4 17 4495.028598279714\n",
      " 4 18 4546.50352887804\n",
      " 4 19 4643.185310790349\n",
      " 4 20 4668.634597012364\n",
      " 4 21 4698.7862455275545\n",
      " 4 22 4700.1491313974975\n",
      " 4 23 4711.210423921079\n",
      " 4 24 4739.97994062864\n",
      " 4 25 4766.177179071813\n",
      "15  1 1050.1875834326167\n",
      "15  2 1163.637319735487\n",
      "15  3 1241.5353951916766\n",
      "15  4 1310.4744820839012\n",
      "15  5 1427.0212970303621\n",
      "15  6 1522.8824876634847\n",
      "15  7 1595.5216259393571\n",
      "15  8 1683.2029171135177\n",
      "15  9 1788.6747156706278\n",
      "15 10 1973.8407366511024\n",
      "15 11 2158.1660330135664\n",
      "15 12 2323.749093474259\n",
      "15 13 2469.072781684197\n",
      "15 14 2609.2110138741573\n",
      "15 15 2726.7297857405024\n",
      "15 16 2843.491906536789\n",
      "15 17 2965.4159088660904\n",
      "15 18 3085.2323938896916\n",
      "15 19 3189.8275592136624\n",
      "15 20 3298.4119963736757\n",
      "15 21 3404.3111324334427\n",
      "15 22 3505.330929894441\n",
      "15 23 3592.501549153935\n",
      "15 24 3687.081078330121\n",
      "15 25 3771.581928046681\n"
     ]
    }
   ],
   "source": [
    "# optimize k-values of top models\n",
    "top_multi_cols = [multi_cols, \n",
    "                  list(rmses_iter_one_srs.index[0:2]),\n",
    "                  list(rmses_iter_one_srs.index[0:4])]\n",
    "multi_k_vals = [i for i in range(1,26)]\n",
    "rmses_multi_k ={}\n",
    "for cols in top_multi_cols:\n",
    "    rmses_k = []\n",
    "    for k_val in multi_k_vals:\n",
    "        rmses_k.append(knn_train_test_k_multi(\n",
    "            cols, 'price', cars, k_val))\n",
    "    rmses_multi_k[len(cols)] = rmses_k\n",
    "    \n",
    "print(' N  k RMSE \\n')\n",
    "for k, v in rmses_multi_k.items():\n",
    "    for iv, val in enumerate(v):\n",
    "        print('{0:2} {1:2} {2}'.format(k, multi_k_vals[iv], val))"
   ]
  },
  {
   "cell_type": "code",
   "execution_count": 156,
   "metadata": {
    "collapsed": false
   },
   "outputs": [
    {
     "data": {
      "image/png": "[encoded data removed]",
      "text/plain": [
       "<matplotlib.figure.Figure at 0x7f6e405eaba8>"
      ]
     },
     "metadata": {},
     "output_type": "display_data"
    }
   ],
   "source": [
    "# import matplotlib\n",
    "%matplotlib inline\n",
    "import matplotlib.pyplot as plt\n",
    "plt.figure(figsize=(12,8))\n",
    "for k, v in rmses_multi_k.items():\n",
    "    plt.plot(multi_k_vals, v, label=(str(k) + ' best features'))\n",
    "plt.xlabel('k-value')\n",
    "plt.ylabel('RMSE ($)')\n",
    "plt.title('model performance per multi-feature, k-value Pair')\n",
    "plt.legend(loc=4)\n",
    "plt.show()"
   ]
  },
  {
   "cell_type": "markdown",
   "metadata": {},
   "source": [
    "The optimal k-value for the 2- and 4-feature models is 2, and the optimal k-value for the 15-feature model is 1. The RMSE values for each model increase with increasing k-value."
   ]
  },
  {
   "cell_type": "markdown",
   "metadata": {},
   "source": [
    "## Conclusion\n",
    "\n",
    "In this project, we experimented with designing a few univariate and multivariate k-nearest neighbors models to predict the prices of cars given a set of attributes. We found the optimal model to be a four-feature multivariate model using the engine size, horsepower, curb weight, and highway mileage attributes and a k-value of 2. This model predicted prices in our test data with an RMSE of \\$2600.\n",
    "\n",
    "While the 15-feature model yields a lower RMSE, we assume such a model would lead to overfitting. More validation tests would need to be performed, however, to be certain."
   ]
  }
 ],
 "metadata": {
  "kernelspec": {
   "display_name": "Python 3",
   "language": "python",
   "name": "python3"
  },
  "language_info": {
   "codemirror_mode": {
    "name": "ipython",
    "version": 3
   },
   "file_extension": ".py",
   "mimetype": "text/x-python",
   "name": "python",
   "nbconvert_exporter": "python",
   "pygments_lexer": "ipython3",
   "version": "3.4.3"
  }
 },
 "nbformat": 4,
 "nbformat_minor": 2
}
