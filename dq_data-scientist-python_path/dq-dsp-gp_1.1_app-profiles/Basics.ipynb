{
 "cells": [
  {
   "cell_type": "markdown",
   "metadata": {},
   "source": [
    "# User Data for Free Apps\n",
    "---\n",
    "This project analyzes user data for Android and iOS mobile apps that are free to download and install.\n",
    "\n",
    "The goal of the project is to analyze data to help developers understand which app types are the most likely to attract more users.\n",
    "- - -"
   ]
  },
  {
   "cell_type": "code",
   "execution_count": 3,
   "metadata": {},
   "outputs": [],
   "source": [
    "from csv import reader\n",
    "ios_data = list(reader(open('AppleStore.csv')))\n",
    "android_data = list(reader(open('googleplaystore.csv')))"
   ]
  },
  {
   "cell_type": "code",
   "execution_count": 6,
   "metadata": {},
   "outputs": [
    {
     "name": "stdout",
     "output_type": "stream",
     "text": [
      "iOS apps:\n",
      "\n",
      "\n",
      "['284882215', 'Facebook', '389879808', 'USD', '0.0', '2974676', '212', '3.5', '3.5', '95.0', '4+', 'Social Networking', '37', '1', '29', '1']\n",
      "\n",
      "\n",
      "['389801252', 'Instagram', '113954816', 'USD', '0.0', '2161558', '1289', '4.5', '4.0', '10.23', '12+', 'Photo & Video', '37', '0', '29', '1']\n",
      "\n",
      "\n",
      "['529479190', 'Clash of Clans', '116476928', 'USD', '0.0', '2130805', '579', '4.5', '4.5', '9.24.12', '9+', 'Games', '38', '5', '18', '1']\n",
      "\n",
      "\n",
      "['420009108', 'Temple Run', '65921024', 'USD', '0.0', '1724546', '3842', '4.5', '4.0', '1.6.2', '9+', 'Games', '40', '5', '1', '1']\n",
      "\n",
      "\n",
      "['284035177', 'Pandora - Music & Radio', '130242560', 'USD', '0.0', '1126879', '3594', '4.0', '4.5', '8.4.1', '12+', 'Music', '37', '4', '1', '1']\n",
      "\n",
      "\n",
      "Number of rows: 7197\n",
      "Number of columns: 16\n",
      "\n",
      "\n",
      "\n",
      "\n",
      "android apps:\n",
      "\n",
      "\n",
      "['Photo Editor & Candy Camera & Grid & ScrapBook', 'ART_AND_DESIGN', '4.1', '159', '19M', '10,000+', 'Free', '0', 'Everyone', 'Art & Design', 'January 7, 2018', '1.0.0', '4.0.3 and up']\n",
      "\n",
      "\n",
      "['Coloring book moana', 'ART_AND_DESIGN', '3.9', '967', '14M', '500,000+', 'Free', '0', 'Everyone', 'Art & Design;Pretend Play', 'January 15, 2018', '2.0.0', '4.0.3 and up']\n",
      "\n",
      "\n",
      "['U Launcher Lite – FREE Live Cool Themes, Hide Apps', 'ART_AND_DESIGN', '4.7', '87510', '8.7M', '5,000,000+', 'Free', '0', 'Everyone', 'Art & Design', 'August 1, 2018', '1.2.4', '4.0.3 and up']\n",
      "\n",
      "\n",
      "['Sketch - Draw & Paint', 'ART_AND_DESIGN', '4.5', '215644', '25M', '50,000,000+', 'Free', '0', 'Teen', 'Art & Design', 'June 8, 2018', 'Varies with device', '4.2 and up']\n",
      "\n",
      "\n",
      "['Pixel Draw - Number Art Coloring Book', 'ART_AND_DESIGN', '4.3', '967', '2.8M', '100,000+', 'Free', '0', 'Everyone', 'Art & Design;Creativity', 'June 20, 2018', '1.1', '4.4 and up']\n",
      "\n",
      "\n",
      "Number of rows: 10841\n",
      "Number of columns: 13\n",
      "\n",
      "\n",
      "\n",
      "\n"
     ]
    }
   ],
   "source": [
    "def explore_data(dataset, start, end, rows_and_columns=False):\n",
    "    dataset_slice = dataset[start:end]\n",
    "    for row in dataset_slice:\n",
    "        print(row)\n",
    "        print('\\n') # adds a new (empty) line aftr each row\n",
    "    if rows_and_columns:\n",
    "        print('Number of rows:', len(dataset))\n",
    "        print('Number of columns:', len(dataset[0]))\n",
    "print('iOS apps:')\n",
    "print('\\n')\n",
    "explore_data(ios_data[1:],0,5,True)\n",
    "print('\\n')\n",
    "print('\\n')\n",
    "print('android apps:')\n",
    "print('\\n')\n",
    "explore_data(android_data[1:],0,5,True)\n",
    "print('\\n')\n",
    "print('\\n')"
   ]
  },
  {
   "cell_type": "code",
   "execution_count": 7,
   "metadata": {},
   "outputs": [
    {
     "name": "stdout",
     "output_type": "stream",
     "text": [
      "iOS info:\n",
      "['id', 'track_name', 'size_bytes', 'currency', 'price', 'rating_count_tot', 'rating_count_ver', 'user_rating', 'user_rating_ver', 'ver', 'cont_rating', 'prime_genre', 'sup_devices.num', 'ipadSc_urls.num', 'lang.num', 'vpp_lic']\n",
      "android info:\n",
      "['App', 'Category', 'Rating', 'Reviews', 'Size', 'Installs', 'Type', 'Price', 'Content Rating', 'Genres', 'Last Updated', 'Current Ver', 'Android Ver']\n"
     ]
    }
   ],
   "source": [
    "print('iOS info:')\n",
    "print(ios_data[0])\n",
    "print('android info:')\n",
    "print(android_data[0])"
   ]
  },
  {
   "cell_type": "code",
   "execution_count": 8,
   "metadata": {},
   "outputs": [
    {
     "name": "stdout",
     "output_type": "stream",
     "text": [
      "13\n"
     ]
    }
   ],
   "source": [
    "print(len(android_data[0]))"
   ]
  },
  {
   "cell_type": "code",
   "execution_count": 10,
   "metadata": {},
   "outputs": [
    {
     "name": "stdout",
     "output_type": "stream",
     "text": [
      "12\n"
     ]
    }
   ],
   "source": [
    "print(len(android_data[10473]))"
   ]
  },
  {
   "cell_type": "code",
   "execution_count": 11,
   "metadata": {},
   "outputs": [],
   "source": [
    "del android_data[10473]"
   ]
  },
  {
   "cell_type": "code",
   "execution_count": 12,
   "metadata": {},
   "outputs": [
    {
     "name": "stdout",
     "output_type": "stream",
     "text": [
      "13\n"
     ]
    }
   ],
   "source": [
    "print(len(android_data[10473]))"
   ]
  },
  {
   "cell_type": "code",
   "execution_count": 14,
   "metadata": {},
   "outputs": [
    {
     "name": "stdout",
     "output_type": "stream",
     "text": [
      "16\n"
     ]
    }
   ],
   "source": [
    "ios_len = len(ios_data[0])\n",
    "print(ios_len)"
   ]
  },
  {
   "cell_type": "code",
   "execution_count": 17,
   "metadata": {},
   "outputs": [],
   "source": [
    "ios_row_ix = 0\n",
    "for ios_row in ios_data[1:]:\n",
    "    if len(ios_row) != ios_len:\n",
    "        print(ios_row_ix, len(ios_row))\n",
    "    ios_row_ix += 1"
   ]
  },
  {
   "cell_type": "markdown",
   "metadata": {},
   "source": [
    "The Google Play store data set has duplicate entries for many apps. For example, the following Android apps show up multiple times in the data set:"
   ]
  },
  {
   "cell_type": "code",
   "execution_count": 22,
   "metadata": {},
   "outputs": [
    {
     "name": "stdout",
     "output_type": "stream",
     "text": [
      "['Quick PDF Scanner + OCR FREE', 'Box', 'Google My Business', 'ZOOM Cloud Meetings', 'join.me - Simple Meetings']\n"
     ]
    }
   ],
   "source": [
    "unique_android_apps = []\n",
    "duplicate_android_apps = []\n",
    "for android_app in android_data[1:]:\n",
    "    name = android_app[0]\n",
    "    if name in unique_android_apps:\n",
    "        duplicate_android_apps.append(name)\n",
    "    else:\n",
    "        unique_android_apps.append(name)\n",
    "    \n",
    "print(duplicate_android_apps[0:5])"
   ]
  },
  {
   "cell_type": "markdown",
   "metadata": {},
   "source": [
    "Overall, the data set contains the following number of duplicates:"
   ]
  },
  {
   "cell_type": "code",
   "execution_count": 24,
   "metadata": {},
   "outputs": [
    {
     "name": "stdout",
     "output_type": "stream",
     "text": [
      "1181\n"
     ]
    }
   ],
   "source": [
    "n_android_duplicates = len(duplicate_android_apps)\n",
    "print(n_android_duplicates)"
   ]
  },
  {
   "cell_type": "markdown",
   "metadata": {},
   "source": [
    "To remove duplicate entries, we will identify the entry with the largest number of review, which should represent the most recent data. This entry will be saved, and all other entries for the same app will be deleted."
   ]
  },
  {
   "cell_type": "code",
   "execution_count": 25,
   "metadata": {
    "scrolled": true
   },
   "outputs": [
    {
     "name": "stdout",
     "output_type": "stream",
     "text": [
      "9659\n"
     ]
    }
   ],
   "source": [
    "reviews_max = {}\n",
    "for android_app in android_data[1:]:\n",
    "    name = android_app[0]\n",
    "    n_reviews = float(android_app[3])\n",
    "    if ( name in reviews_max and reviews_max[name] < n_reviews ) or name not in reviews_max:\n",
    "        reviews_max[name] = n_reviews\n",
    "print(len(reviews_max))"
   ]
  },
  {
   "cell_type": "code",
   "execution_count": 27,
   "metadata": {},
   "outputs": [
    {
     "name": "stdout",
     "output_type": "stream",
     "text": [
      "9659\n"
     ]
    }
   ],
   "source": [
    "android_clean = []\n",
    "already_added = []\n",
    "for android_app in android_data[1:]:\n",
    "    name = android_app[0]\n",
    "    n_reviews = float(android_app[3])\n",
    "    if name in reviews_max:\n",
    "        if n_reviews == reviews_max[name] and name not in already_added:\n",
    "            android_clean.append(android_app)\n",
    "            already_added.append(name)\n",
    "print(len(android_clean))"
   ]
  },
  {
   "cell_type": "markdown",
   "metadata": {},
   "source": [
    "The above code removes duplicate entries for apps that appear more than once, saving only the app entry for which the most number of reviews are reported."
   ]
  },
  {
   "cell_type": "code",
   "execution_count": 30,
   "metadata": {},
   "outputs": [
    {
     "name": "stdout",
     "output_type": "stream",
     "text": [
      "True\n",
      "False\n",
      "True\n",
      "True\n"
     ]
    }
   ],
   "source": [
    "def isEnglish(a_str):\n",
    "    n_nonEnglish = 0\n",
    "    for ichar in a_str:\n",
    "        if ord(ichar) > 127:\n",
    "            n_nonEnglish += 1\n",
    "    if n_nonEnglish > 3:\n",
    "        return False\n",
    "    else:\n",
    "        return True\n",
    "print(isEnglish('Instagram'))\n",
    "print(isEnglish('爱奇艺PPS -《欢乐颂2》电视剧热播'))\n",
    "print(isEnglish('Docs To Go™ Free Office Suite'))\n",
    "print(isEnglish('Instachat 😜'))"
   ]
  },
  {
   "cell_type": "code",
   "execution_count": 32,
   "metadata": {},
   "outputs": [
    {
     "name": "stdout",
     "output_type": "stream",
     "text": [
      "7197\n",
      "9613\n"
     ]
    }
   ],
   "source": [
    "english_ios_data = []\n",
    "english_android_data = []\n",
    "for ios_app in ios_data[1:]:\n",
    "    name = ios_app[0]\n",
    "    if isEnglish(name):\n",
    "        english_ios_data.append(ios_app)\n",
    "for android_app in android_clean[1:]:\n",
    "    name = android_app[0]\n",
    "    if isEnglish(name):\n",
    "        english_android_data.append(android_app)\n",
    "print(len(english_ios_data))\n",
    "print(len(english_android_data))"
   ]
  },
  {
   "cell_type": "code",
   "execution_count": 33,
   "metadata": {},
   "outputs": [
    {
     "name": "stdout",
     "output_type": "stream",
     "text": [
      "7198\n"
     ]
    }
   ],
   "source": [
    "print(len(ios_data))"
   ]
  },
  {
   "cell_type": "code",
   "execution_count": 43,
   "metadata": {},
   "outputs": [
    {
     "name": "stdout",
     "output_type": "stream",
     "text": [
      "4056\n",
      "8863\n"
     ]
    }
   ],
   "source": [
    "free_ios_data = []\n",
    "free_android_data = []\n",
    "for ios_app in english_ios_data:\n",
    "    if float(ios_app[4]) == 0.0:\n",
    "        free_ios_data.append(ios_app)\n",
    "for android_app in english_android_data:\n",
    "    if android_app[7] == '0':\n",
    "        free_android_data.append(android_app)\n",
    "print(len(free_ios_data))\n",
    "print(len(free_android_data))"
   ]
  },
  {
   "cell_type": "markdown",
   "metadata": {},
   "source": [
    "We want to identify apps that are successful in both the App Store and Google Play markets, since maximizing users will help increase ad revenue. To validate an app is successful across both markets, we first test a minimal Android version in Google Play; pending a good user response, we then develop the Android app further; after six months, if the app proves profitable, we develop an iOS version for the App Store."
   ]
  },
  {
   "cell_type": "code",
   "execution_count": 48,
   "metadata": {},
   "outputs": [
    {
     "name": "stdout",
     "output_type": "stream",
     "text": [
      "iOS genres:\n",
      "Games : 55.645956607493034\n",
      "Entertainment : 8.23471400394471\n",
      "Photo & Video : 4.117357001972387\n",
      "Social Networking : 3.5256410256410273\n",
      "Education : 3.2544378698224867\n",
      "Shopping : 2.983234714003946\n",
      "Utilities : 2.6873767258382655\n",
      "Lifestyle : 2.3175542406311647\n",
      "Finance : 2.071005917159764\n",
      "Sports : 1.947731755424064\n",
      "Health & Fitness : 1.873767258382644\n",
      "Music : 1.6518737672583834\n",
      "Book : 1.6272189349112434\n",
      "Productivity : 1.5285996055226831\n",
      "News : 1.429980276134123\n",
      "Travel : 1.3806706114398428\n",
      "Food & Drink : 1.0601577909270221\n",
      "Weather : 0.7642998027613416\n",
      "Reference : 0.493096646942801\n",
      "Navigation : 0.493096646942801\n",
      "Business : 0.493096646942801\n",
      "Catalogs : 0.22189349112426038\n",
      "Medical : 0.19723865877712032\n",
      "None\n",
      "\n",
      "\n",
      "Android genres\n",
      "Tools : 8.45086313889199\n",
      "Entertainment : 6.070179397495204\n",
      "Education : 5.348076272142615\n",
      "Business : 4.592124562789123\n",
      "Productivity : 3.892587160103802\n",
      "Lifestyle : 3.892587160103802\n",
      "Finance : 3.7007785174320205\n",
      "Medical : 3.5315355974275073\n",
      "Sports : 3.463838429425702\n",
      "Personalization : 3.3171612320884574\n",
      "Communication : 3.238181202753018\n",
      "Action : 3.1027868667494074\n",
      "Health & Fitness : 3.080221144082139\n",
      "Photography : 2.9448268080785285\n",
      "News & Magazines : 2.7981496107412838\n",
      "Social : 2.6627552747376733\n",
      "Travel & Local : 2.324269434728647\n",
      "Shopping : 2.2452894053932075\n",
      "Books & Reference : 2.1437436533904997\n",
      "Simulation : 2.042197901387792\n",
      "Dating : 1.8616721200496444\n",
      "Arcade : 1.8503892587160102\n",
      "Video Players & Editors : 1.7714092293805708\n",
      "Casual : 1.7601263680469366\n",
      "Maps & Navigation : 1.3990748053706419\n",
      "Food & Drink : 1.241114746699763\n",
      "Puzzle : 1.1282861333634209\n",
      "Racing : 0.9928917973598104\n",
      "Role Playing : 0.9364774906916393\n",
      "Libraries & Demo : 0.9364774906916393\n",
      "Auto & Vehicles : 0.9251946293580051\n",
      "Strategy : 0.9139117680243709\n",
      "House & Home : 0.8236488773552972\n",
      "Weather : 0.8010831546880288\n",
      "Events : 0.7108202640189552\n",
      "Adventure : 0.6769716800180525\n",
      "Comics : 0.6092745120162473\n",
      "Beauty : 0.5979916506826131\n",
      "Art & Design : 0.5867087893489789\n",
      "Parenting : 0.4964458986799052\n",
      "Card : 0.45131445334536835\n",
      "Casino : 0.42874873067809993\n",
      "Trivia : 0.4174658693444657\n",
      "Educational;Education : 0.3949001466771973\n",
      "Board : 0.3836172853435631\n",
      "Educational : 0.3723344240099289\n",
      "Education;Education : 0.33848584000902626\n",
      "Word : 0.2595058106735868\n",
      "Casual;Pretend Play : 0.23694008800631838\n",
      "Music : 0.20309150400541576\n",
      "Racing;Action & Adventure : 0.16924292000451313\n",
      "Puzzle;Brain Games : 0.16924292000451313\n",
      "Entertainment;Music & Video : 0.16924292000451313\n",
      "Casual;Brain Games : 0.1353943360036105\n",
      "Casual;Action & Adventure : 0.1353943360036105\n",
      "Arcade;Action & Adventure : 0.1241114746699763\n",
      "Action;Action & Adventure : 0.10154575200270788\n",
      "Educational;Pretend Play : 0.09026289066907367\n",
      "Simulation;Action & Adventure : 0.07898002933543946\n",
      "Parenting;Education : 0.07898002933543946\n",
      "Entertainment;Brain Games : 0.07898002933543946\n",
      "Board;Brain Games : 0.07898002933543946\n",
      "Parenting;Music & Video : 0.06769716800180525\n",
      "Educational;Brain Games : 0.06769716800180525\n",
      "Casual;Creativity : 0.06769716800180525\n",
      "Art & Design;Creativity : 0.06769716800180525\n",
      "Education;Pretend Play : 0.056414306668171044\n",
      "Role Playing;Pretend Play : 0.045131445334536835\n",
      "Education;Creativity : 0.045131445334536835\n",
      "Role Playing;Action & Adventure : 0.033848584000902626\n",
      "Puzzle;Action & Adventure : 0.033848584000902626\n",
      "Entertainment;Creativity : 0.033848584000902626\n",
      "Entertainment;Action & Adventure : 0.033848584000902626\n",
      "Educational;Creativity : 0.033848584000902626\n",
      "Educational;Action & Adventure : 0.033848584000902626\n",
      "Education;Music & Video : 0.033848584000902626\n",
      "Education;Brain Games : 0.033848584000902626\n",
      "Education;Action & Adventure : 0.033848584000902626\n",
      "Adventure;Action & Adventure : 0.033848584000902626\n",
      "Video Players & Editors;Music & Video : 0.022565722667268417\n",
      "Sports;Action & Adventure : 0.022565722667268417\n",
      "Simulation;Pretend Play : 0.022565722667268417\n",
      "Puzzle;Creativity : 0.022565722667268417\n",
      "Music;Music & Video : 0.022565722667268417\n",
      "Entertainment;Pretend Play : 0.022565722667268417\n",
      "Casual;Education : 0.022565722667268417\n",
      "Board;Action & Adventure : 0.022565722667268417\n",
      "Video Players & Editors;Creativity : 0.011282861333634209\n",
      "Trivia;Education : 0.011282861333634209\n",
      "Travel & Local;Action & Adventure : 0.011282861333634209\n",
      "Tools;Education : 0.011282861333634209\n",
      "Strategy;Education : 0.011282861333634209\n",
      "Strategy;Creativity : 0.011282861333634209\n",
      "Strategy;Action & Adventure : 0.011282861333634209\n",
      "Simulation;Education : 0.011282861333634209\n",
      "Role Playing;Brain Games : 0.011282861333634209\n",
      "Racing;Pretend Play : 0.011282861333634209\n",
      "Puzzle;Education : 0.011282861333634209\n",
      "Parenting;Brain Games : 0.011282861333634209\n",
      "Music & Audio;Music & Video : 0.011282861333634209\n",
      "Lifestyle;Pretend Play : 0.011282861333634209\n",
      "Lifestyle;Education : 0.011282861333634209\n",
      "Health & Fitness;Education : 0.011282861333634209\n",
      "Health & Fitness;Action & Adventure : 0.011282861333634209\n",
      "Entertainment;Education : 0.011282861333634209\n",
      "Communication;Creativity : 0.011282861333634209\n",
      "Comics;Creativity : 0.011282861333634209\n",
      "Casual;Music & Video : 0.011282861333634209\n",
      "Card;Action & Adventure : 0.011282861333634209\n",
      "Books & Reference;Education : 0.011282861333634209\n",
      "Art & Design;Pretend Play : 0.011282861333634209\n",
      "Art & Design;Action & Adventure : 0.011282861333634209\n",
      "Arcade;Pretend Play : 0.011282861333634209\n",
      "Adventure;Education : 0.011282861333634209\n",
      "None\n",
      "\n",
      "\n",
      "Android categories\n",
      "FAMILY : 18.910075595170078\n",
      "GAME : 9.725826469592555\n",
      "TOOLS : 8.462146000225623\n",
      "BUSINESS : 4.592124562789123\n",
      "LIFESTYLE : 3.903870021437436\n",
      "PRODUCTIVITY : 3.892587160103802\n",
      "FINANCE : 3.7007785174320205\n",
      "MEDICAL : 3.5315355974275073\n",
      "SPORTS : 3.396141261423897\n",
      "PERSONALIZATION : 3.3171612320884574\n",
      "COMMUNICATION : 3.238181202753018\n",
      "HEALTH_AND_FITNESS : 3.080221144082139\n",
      "PHOTOGRAPHY : 2.9448268080785285\n",
      "NEWS_AND_MAGAZINES : 2.7981496107412838\n",
      "SOCIAL : 2.6627552747376733\n",
      "TRAVEL_AND_LOCAL : 2.335552296062281\n",
      "SHOPPING : 2.2452894053932075\n",
      "BOOKS_AND_REFERENCE : 2.1437436533904997\n",
      "DATING : 1.8616721200496444\n",
      "VIDEO_PLAYERS : 1.7939749520478392\n",
      "MAPS_AND_NAVIGATION : 1.3990748053706419\n",
      "FOOD_AND_DRINK : 1.241114746699763\n",
      "EDUCATION : 1.1621347173643235\n",
      "ENTERTAINMENT : 0.9590432133589077\n",
      "LIBRARIES_AND_DEMO : 0.9364774906916393\n",
      "AUTO_AND_VEHICLES : 0.9251946293580051\n",
      "HOUSE_AND_HOME : 0.8236488773552972\n",
      "WEATHER : 0.8010831546880288\n",
      "EVENTS : 0.7108202640189552\n",
      "PARENTING : 0.6544059573507841\n",
      "ART_AND_DESIGN : 0.6318402346835157\n",
      "COMICS : 0.6205573733498815\n",
      "BEAUTY : 0.5979916506826131\n",
      "None\n"
     ]
    }
   ],
   "source": [
    "def freq_table(dataset, index):\n",
    "    table = {}\n",
    "    for row in dataset:\n",
    "        col = row[index]\n",
    "        if col in table:\n",
    "            table[col] += ( 1 / len(dataset) * 100 )\n",
    "        else:\n",
    "            table[col] = ( 1 / len(dataset) * 100 )\n",
    "    return table\n",
    "        \n",
    "def display_table(dataset, index):\n",
    "    table = freq_table(dataset, index)\n",
    "    table_display = []\n",
    "    for key in table:\n",
    "        key_val_as_tuple = (table[key], key)\n",
    "        table_display.append(key_val_as_tuple)\n",
    "        \n",
    "    table_sorted = sorted(table_display, reverse = True)\n",
    "    for entry in table_sorted:\n",
    "        print(entry[1], ':', entry[0])\n",
    "        \n",
    "print('iOS genres:')\n",
    "print(display_table(free_ios_data,11))\n",
    "print('\\n')\n",
    "print('Android genres')\n",
    "print(display_table(free_android_data,9))\n",
    "print('\\n')\n",
    "print('Android categories')\n",
    "print(display_table(free_android_data,1))"
   ]
  },
  {
   "cell_type": "markdown",
   "metadata": {},
   "source": [
    "At 55%, gaming apps are by far the most prevalent among free English iOS apps in the App Store, followed distantly by general entertaintment apps at 8%. Other entertaintment-based apps, like social networking and photo and video apps, are generally more prevalent than apps designed for practical purposes, like shopping and education. In general, for free English iOS apps, the App Store is dominated by apps geared towards entertainment.\n",
    "\n",
    "The most common genres for free English Android apps on Google Play include family apps, games, and tools, I"
   ]
  },
  {
   "cell_type": "code",
   "execution_count": 50,
   "metadata": {},
   "outputs": [
    {
     "name": "stdout",
     "output_type": "stream",
     "text": [
      "Social Networking 53078.195804195806\n",
      "Photo & Video 27249.892215568863\n",
      "Games 18924.68896765618\n",
      "Music 56482.02985074627\n",
      "Reference 67447.9\n",
      "Health & Fitness 19952.315789473683\n",
      "Weather 47220.93548387097\n",
      "Utilities 14010.100917431193\n",
      "Travel 20216.01785714286\n",
      "Shopping 18746.677685950413\n",
      "News 15892.724137931034\n",
      "Navigation 25972.05\n",
      "Lifestyle 8978.308510638299\n",
      "Entertainment 10822.961077844311\n",
      "Food & Drink 20179.093023255813\n",
      "Sports 20128.974683544304\n",
      "Book 8498.333333333334\n",
      "Finance 13522.261904761905\n",
      "Education 6266.333333333333\n",
      "Productivity 19053.887096774193\n",
      "Business 6367.8\n",
      "Catalogs 1779.5555555555557\n",
      "Medical 459.75\n"
     ]
    }
   ],
   "source": [
    "for genre in freq_table(free_ios_data,11):\n",
    "    total = 0\n",
    "    len_genre = 0\n",
    "    for app in free_ios_data:\n",
    "        genre_app = app[11]\n",
    "        if genre_app == genre:\n",
    "            n_ratings = float(app[5])\n",
    "            total += n_ratings\n",
    "            len_genre += 1\n",
    "    avg_n_ratings = total / len_genre\n",
    "    print(genre, avg_n_ratings)"
   ]
  },
  {
   "cell_type": "markdown",
   "metadata": {},
   "source": [
    "Reference, Music, and Social Networking apps are the most popular free English iOS apps, with about double the amount of user ratings over the next leading app types."
   ]
  },
  {
   "cell_type": "code",
   "execution_count": 53,
   "metadata": {},
   "outputs": [
    {
     "name": "stdout",
     "output_type": "stream",
     "text": [
      "COMMUNICATION 38456119.167247385\n",
      "ENTERTAINMENT 11640705.88235294\n",
      "GAME 15588015.603248259\n",
      "SOCIAL 23253652.127118643\n",
      "PHOTOGRAPHY 17840110.40229885\n",
      "TRAVEL_AND_LOCAL 13984077.710144928\n",
      "TOOLS 10801391.298666667\n",
      "PRODUCTIVITY 16787331.344927534\n",
      "VIDEO_PLAYERS 24727872.452830188\n"
     ]
    }
   ],
   "source": [
    "for category in freq_table(free_android_data,1):\n",
    "    total = 0\n",
    "    len_category = 0\n",
    "    for app in free_android_data:\n",
    "        category_app = app[1]\n",
    "        if category_app == category:\n",
    "            n_installs = app[5]\n",
    "            n_installs = n_installs.replace('+','')\n",
    "            n_installs = n_installs.replace(',','')\n",
    "            n_installs = float(n_installs)\n",
    "            total += n_installs\n",
    "            len_category += 1\n",
    "    avg_n_installs = total / len_category\n",
    "    if avg_n_installs > 10000000:\n",
    "        print(category, avg_n_installs)"
   ]
  },
  {
   "cell_type": "markdown",
   "metadata": {},
   "source": [
    "Communication, social, and video player apps are the most installed free English Android apps on Google Play. "
   ]
  }
 ],
 "metadata": {
  "kernelspec": {
   "display_name": "Python 3",
   "language": "python",
   "name": "python3"
  },
  "language_info": {
   "codemirror_mode": {
    "name": "ipython",
    "version": 3
   },
   "file_extension": ".py",
   "mimetype": "text/x-python",
   "name": "python",
   "nbconvert_exporter": "python",
   "pygments_lexer": "ipython3",
   "version": "3.8.2"
  }
 },
 "nbformat": 4,
 "nbformat_minor": 2
}
