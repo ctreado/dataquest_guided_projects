{
 "cells": [
  {
   "cell_type": "markdown",
   "metadata": {},
   "source": [
    "# Predicting House Sale Prices\n",
    "\n",
    "## Introduction\n",
    "\n",
    "In this project, we build and iteratively improve upon a linear regression model to predict the sale prices of homes. We work with a dataset of 2930 residential property sales in Ames, Iowa between 2006 and 2010, with each data point containing information related to the quality and quantity of various physical attributes of the corresponding house. The dataset contains continuous variables related to the dimensions of the property, discrete variables related to the number of rooms and amenities and to dates of building and remodeling, and nominal and ordinal categorical variables identifying and rating various items or types of items within and about the property. A detailed description of the data and why it was collected can be found in this [article](https://www.tandfonline.com/doi/abs/10.1080/10691898.2011.11889627), and a full data dictionary can be found in the supplemental material [here](http://jse.amstat.org/v19n3/decock/DataDocumentation.txt).\n",
    "\n",
    "Below, we build a machine learning pipeline of modular parts to transform and select the model features and to train and test the model(s) we will use to predict the house sale prices. This pipeline automates the workflow, allowing us to quickly iterate over different models as we develop and adjust them. Throughout the project, we refine our pipeline functions as we explore methods to optimize our models. This evolution of the workflow is illustrated explicitly below."
   ]
  },
  {
   "cell_type": "markdown",
   "metadata": {},
   "source": [
    "## Building the Pipeline Skeleton\n",
    "\n",
    "We begin by building a skeleton of our machine learning pipeline, which will take our housing data as input, pass it through a series of functions to transform and select features and train and test the model, and output measures of the model's performance.\n",
    "\n",
    "Before we start putting together the pipeline, let's get set up and take a quick look at our data."
   ]
  },
  {
   "cell_type": "code",
   "execution_count": 52,
   "metadata": {
    "collapsed": true
   },
   "outputs": [],
   "source": [
    "# import libraries\n",
    "import pandas as pd\n",
    "import numpy as np\n",
    "import matplotlib.pyplot as plt\n",
    "%matplotlib inline\n",
    "from sklearn.linear_model import LinearRegression\n",
    "from sklearn.metrics import mean_squared_error\n",
    "from sklearn.model_selection import KFold\n",
    "\n",
    "# read in dataset\n",
    "houses = pd.read_csv('AmesHousing.tsv', sep='\\t')"
   ]
  },
  {
   "cell_type": "code",
   "execution_count": 2,
   "metadata": {
    "collapsed": false,
    "scrolled": true
   },
   "outputs": [
    {
     "data": {
      "text/html": [
       "<div>\n",
       "<style scoped>\n",
       "    .dataframe tbody tr th:only-of-type {\n",
       "        vertical-align: middle;\n",
       "    }\n",
       "\n",
       "    .dataframe tbody tr th {\n",
       "        vertical-align: top;\n",
       "    }\n",
       "\n",
       "    .dataframe thead th {\n",
       "        text-align: right;\n",
       "    }\n",
       "</style>\n",
       "<table border=\"1\" class=\"dataframe\">\n",
       "  <thead>\n",
       "    <tr style=\"text-align: right;\">\n",
       "      <th></th>\n",
       "      <th>Order</th>\n",
       "      <th>PID</th>\n",
       "      <th>MS SubClass</th>\n",
       "      <th>MS Zoning</th>\n",
       "      <th>Lot Frontage</th>\n",
       "      <th>Lot Area</th>\n",
       "      <th>Street</th>\n",
       "      <th>Alley</th>\n",
       "      <th>Lot Shape</th>\n",
       "      <th>Land Contour</th>\n",
       "      <th>Utilities</th>\n",
       "      <th>Lot Config</th>\n",
       "      <th>Land Slope</th>\n",
       "      <th>Neighborhood</th>\n",
       "      <th>Condition 1</th>\n",
       "      <th>Condition 2</th>\n",
       "      <th>Bldg Type</th>\n",
       "      <th>House Style</th>\n",
       "      <th>Overall Qual</th>\n",
       "      <th>Overall Cond</th>\n",
       "      <th>Year Built</th>\n",
       "      <th>Year Remod/Add</th>\n",
       "      <th>Roof Style</th>\n",
       "      <th>Roof Matl</th>\n",
       "      <th>Exterior 1st</th>\n",
       "      <th>Exterior 2nd</th>\n",
       "      <th>Mas Vnr Type</th>\n",
       "      <th>Mas Vnr Area</th>\n",
       "      <th>Exter Qual</th>\n",
       "      <th>Exter Cond</th>\n",
       "      <th>Foundation</th>\n",
       "      <th>Bsmt Qual</th>\n",
       "      <th>Bsmt Cond</th>\n",
       "      <th>Bsmt Exposure</th>\n",
       "      <th>BsmtFin Type 1</th>\n",
       "      <th>BsmtFin SF 1</th>\n",
       "      <th>BsmtFin Type 2</th>\n",
       "      <th>BsmtFin SF 2</th>\n",
       "      <th>Bsmt Unf SF</th>\n",
       "      <th>Total Bsmt SF</th>\n",
       "      <th>Heating</th>\n",
       "      <th>Heating QC</th>\n",
       "      <th>Central Air</th>\n",
       "      <th>Electrical</th>\n",
       "      <th>1st Flr SF</th>\n",
       "      <th>2nd Flr SF</th>\n",
       "      <th>Low Qual Fin SF</th>\n",
       "      <th>Gr Liv Area</th>\n",
       "      <th>Bsmt Full Bath</th>\n",
       "      <th>Bsmt Half Bath</th>\n",
       "      <th>Full Bath</th>\n",
       "      <th>Half Bath</th>\n",
       "      <th>Bedroom AbvGr</th>\n",
       "      <th>Kitchen AbvGr</th>\n",
       "      <th>Kitchen Qual</th>\n",
       "      <th>TotRms AbvGrd</th>\n",
       "      <th>Functional</th>\n",
       "      <th>Fireplaces</th>\n",
       "      <th>Fireplace Qu</th>\n",
       "      <th>Garage Type</th>\n",
       "      <th>Garage Yr Blt</th>\n",
       "      <th>Garage Finish</th>\n",
       "      <th>Garage Cars</th>\n",
       "      <th>Garage Area</th>\n",
       "      <th>Garage Qual</th>\n",
       "      <th>Garage Cond</th>\n",
       "      <th>Paved Drive</th>\n",
       "      <th>Wood Deck SF</th>\n",
       "      <th>Open Porch SF</th>\n",
       "      <th>Enclosed Porch</th>\n",
       "      <th>3Ssn Porch</th>\n",
       "      <th>Screen Porch</th>\n",
       "      <th>Pool Area</th>\n",
       "      <th>Pool QC</th>\n",
       "      <th>Fence</th>\n",
       "      <th>Misc Feature</th>\n",
       "      <th>Misc Val</th>\n",
       "      <th>Mo Sold</th>\n",
       "      <th>Yr Sold</th>\n",
       "      <th>Sale Type</th>\n",
       "      <th>Sale Condition</th>\n",
       "      <th>SalePrice</th>\n",
       "    </tr>\n",
       "  </thead>\n",
       "  <tbody>\n",
       "    <tr>\n",
       "      <th>0</th>\n",
       "      <td>1</td>\n",
       "      <td>526301100</td>\n",
       "      <td>20</td>\n",
       "      <td>RL</td>\n",
       "      <td>141.0</td>\n",
       "      <td>31770</td>\n",
       "      <td>Pave</td>\n",
       "      <td>NaN</td>\n",
       "      <td>IR1</td>\n",
       "      <td>Lvl</td>\n",
       "      <td>AllPub</td>\n",
       "      <td>Corner</td>\n",
       "      <td>Gtl</td>\n",
       "      <td>NAmes</td>\n",
       "      <td>Norm</td>\n",
       "      <td>Norm</td>\n",
       "      <td>1Fam</td>\n",
       "      <td>1Story</td>\n",
       "      <td>6</td>\n",
       "      <td>5</td>\n",
       "      <td>1960</td>\n",
       "      <td>1960</td>\n",
       "      <td>Hip</td>\n",
       "      <td>CompShg</td>\n",
       "      <td>BrkFace</td>\n",
       "      <td>Plywood</td>\n",
       "      <td>Stone</td>\n",
       "      <td>112.0</td>\n",
       "      <td>TA</td>\n",
       "      <td>TA</td>\n",
       "      <td>CBlock</td>\n",
       "      <td>TA</td>\n",
       "      <td>Gd</td>\n",
       "      <td>Gd</td>\n",
       "      <td>BLQ</td>\n",
       "      <td>639.0</td>\n",
       "      <td>Unf</td>\n",
       "      <td>0.0</td>\n",
       "      <td>441.0</td>\n",
       "      <td>1080.0</td>\n",
       "      <td>GasA</td>\n",
       "      <td>Fa</td>\n",
       "      <td>Y</td>\n",
       "      <td>SBrkr</td>\n",
       "      <td>1656</td>\n",
       "      <td>0</td>\n",
       "      <td>0</td>\n",
       "      <td>1656</td>\n",
       "      <td>1.0</td>\n",
       "      <td>0.0</td>\n",
       "      <td>1</td>\n",
       "      <td>0</td>\n",
       "      <td>3</td>\n",
       "      <td>1</td>\n",
       "      <td>TA</td>\n",
       "      <td>7</td>\n",
       "      <td>Typ</td>\n",
       "      <td>2</td>\n",
       "      <td>Gd</td>\n",
       "      <td>Attchd</td>\n",
       "      <td>1960.0</td>\n",
       "      <td>Fin</td>\n",
       "      <td>2.0</td>\n",
       "      <td>528.0</td>\n",
       "      <td>TA</td>\n",
       "      <td>TA</td>\n",
       "      <td>P</td>\n",
       "      <td>210</td>\n",
       "      <td>62</td>\n",
       "      <td>0</td>\n",
       "      <td>0</td>\n",
       "      <td>0</td>\n",
       "      <td>0</td>\n",
       "      <td>NaN</td>\n",
       "      <td>NaN</td>\n",
       "      <td>NaN</td>\n",
       "      <td>0</td>\n",
       "      <td>5</td>\n",
       "      <td>2010</td>\n",
       "      <td>WD</td>\n",
       "      <td>Normal</td>\n",
       "      <td>215000</td>\n",
       "    </tr>\n",
       "    <tr>\n",
       "      <th>1</th>\n",
       "      <td>2</td>\n",
       "      <td>526350040</td>\n",
       "      <td>20</td>\n",
       "      <td>RH</td>\n",
       "      <td>80.0</td>\n",
       "      <td>11622</td>\n",
       "      <td>Pave</td>\n",
       "      <td>NaN</td>\n",
       "      <td>Reg</td>\n",
       "      <td>Lvl</td>\n",
       "      <td>AllPub</td>\n",
       "      <td>Inside</td>\n",
       "      <td>Gtl</td>\n",
       "      <td>NAmes</td>\n",
       "      <td>Feedr</td>\n",
       "      <td>Norm</td>\n",
       "      <td>1Fam</td>\n",
       "      <td>1Story</td>\n",
       "      <td>5</td>\n",
       "      <td>6</td>\n",
       "      <td>1961</td>\n",
       "      <td>1961</td>\n",
       "      <td>Gable</td>\n",
       "      <td>CompShg</td>\n",
       "      <td>VinylSd</td>\n",
       "      <td>VinylSd</td>\n",
       "      <td>None</td>\n",
       "      <td>0.0</td>\n",
       "      <td>TA</td>\n",
       "      <td>TA</td>\n",
       "      <td>CBlock</td>\n",
       "      <td>TA</td>\n",
       "      <td>TA</td>\n",
       "      <td>No</td>\n",
       "      <td>Rec</td>\n",
       "      <td>468.0</td>\n",
       "      <td>LwQ</td>\n",
       "      <td>144.0</td>\n",
       "      <td>270.0</td>\n",
       "      <td>882.0</td>\n",
       "      <td>GasA</td>\n",
       "      <td>TA</td>\n",
       "      <td>Y</td>\n",
       "      <td>SBrkr</td>\n",
       "      <td>896</td>\n",
       "      <td>0</td>\n",
       "      <td>0</td>\n",
       "      <td>896</td>\n",
       "      <td>0.0</td>\n",
       "      <td>0.0</td>\n",
       "      <td>1</td>\n",
       "      <td>0</td>\n",
       "      <td>2</td>\n",
       "      <td>1</td>\n",
       "      <td>TA</td>\n",
       "      <td>5</td>\n",
       "      <td>Typ</td>\n",
       "      <td>0</td>\n",
       "      <td>NaN</td>\n",
       "      <td>Attchd</td>\n",
       "      <td>1961.0</td>\n",
       "      <td>Unf</td>\n",
       "      <td>1.0</td>\n",
       "      <td>730.0</td>\n",
       "      <td>TA</td>\n",
       "      <td>TA</td>\n",
       "      <td>Y</td>\n",
       "      <td>140</td>\n",
       "      <td>0</td>\n",
       "      <td>0</td>\n",
       "      <td>0</td>\n",
       "      <td>120</td>\n",
       "      <td>0</td>\n",
       "      <td>NaN</td>\n",
       "      <td>MnPrv</td>\n",
       "      <td>NaN</td>\n",
       "      <td>0</td>\n",
       "      <td>6</td>\n",
       "      <td>2010</td>\n",
       "      <td>WD</td>\n",
       "      <td>Normal</td>\n",
       "      <td>105000</td>\n",
       "    </tr>\n",
       "    <tr>\n",
       "      <th>2</th>\n",
       "      <td>3</td>\n",
       "      <td>526351010</td>\n",
       "      <td>20</td>\n",
       "      <td>RL</td>\n",
       "      <td>81.0</td>\n",
       "      <td>14267</td>\n",
       "      <td>Pave</td>\n",
       "      <td>NaN</td>\n",
       "      <td>IR1</td>\n",
       "      <td>Lvl</td>\n",
       "      <td>AllPub</td>\n",
       "      <td>Corner</td>\n",
       "      <td>Gtl</td>\n",
       "      <td>NAmes</td>\n",
       "      <td>Norm</td>\n",
       "      <td>Norm</td>\n",
       "      <td>1Fam</td>\n",
       "      <td>1Story</td>\n",
       "      <td>6</td>\n",
       "      <td>6</td>\n",
       "      <td>1958</td>\n",
       "      <td>1958</td>\n",
       "      <td>Hip</td>\n",
       "      <td>CompShg</td>\n",
       "      <td>Wd Sdng</td>\n",
       "      <td>Wd Sdng</td>\n",
       "      <td>BrkFace</td>\n",
       "      <td>108.0</td>\n",
       "      <td>TA</td>\n",
       "      <td>TA</td>\n",
       "      <td>CBlock</td>\n",
       "      <td>TA</td>\n",
       "      <td>TA</td>\n",
       "      <td>No</td>\n",
       "      <td>ALQ</td>\n",
       "      <td>923.0</td>\n",
       "      <td>Unf</td>\n",
       "      <td>0.0</td>\n",
       "      <td>406.0</td>\n",
       "      <td>1329.0</td>\n",
       "      <td>GasA</td>\n",
       "      <td>TA</td>\n",
       "      <td>Y</td>\n",
       "      <td>SBrkr</td>\n",
       "      <td>1329</td>\n",
       "      <td>0</td>\n",
       "      <td>0</td>\n",
       "      <td>1329</td>\n",
       "      <td>0.0</td>\n",
       "      <td>0.0</td>\n",
       "      <td>1</td>\n",
       "      <td>1</td>\n",
       "      <td>3</td>\n",
       "      <td>1</td>\n",
       "      <td>Gd</td>\n",
       "      <td>6</td>\n",
       "      <td>Typ</td>\n",
       "      <td>0</td>\n",
       "      <td>NaN</td>\n",
       "      <td>Attchd</td>\n",
       "      <td>1958.0</td>\n",
       "      <td>Unf</td>\n",
       "      <td>1.0</td>\n",
       "      <td>312.0</td>\n",
       "      <td>TA</td>\n",
       "      <td>TA</td>\n",
       "      <td>Y</td>\n",
       "      <td>393</td>\n",
       "      <td>36</td>\n",
       "      <td>0</td>\n",
       "      <td>0</td>\n",
       "      <td>0</td>\n",
       "      <td>0</td>\n",
       "      <td>NaN</td>\n",
       "      <td>NaN</td>\n",
       "      <td>Gar2</td>\n",
       "      <td>12500</td>\n",
       "      <td>6</td>\n",
       "      <td>2010</td>\n",
       "      <td>WD</td>\n",
       "      <td>Normal</td>\n",
       "      <td>172000</td>\n",
       "    </tr>\n",
       "    <tr>\n",
       "      <th>3</th>\n",
       "      <td>4</td>\n",
       "      <td>526353030</td>\n",
       "      <td>20</td>\n",
       "      <td>RL</td>\n",
       "      <td>93.0</td>\n",
       "      <td>11160</td>\n",
       "      <td>Pave</td>\n",
       "      <td>NaN</td>\n",
       "      <td>Reg</td>\n",
       "      <td>Lvl</td>\n",
       "      <td>AllPub</td>\n",
       "      <td>Corner</td>\n",
       "      <td>Gtl</td>\n",
       "      <td>NAmes</td>\n",
       "      <td>Norm</td>\n",
       "      <td>Norm</td>\n",
       "      <td>1Fam</td>\n",
       "      <td>1Story</td>\n",
       "      <td>7</td>\n",
       "      <td>5</td>\n",
       "      <td>1968</td>\n",
       "      <td>1968</td>\n",
       "      <td>Hip</td>\n",
       "      <td>CompShg</td>\n",
       "      <td>BrkFace</td>\n",
       "      <td>BrkFace</td>\n",
       "      <td>None</td>\n",
       "      <td>0.0</td>\n",
       "      <td>Gd</td>\n",
       "      <td>TA</td>\n",
       "      <td>CBlock</td>\n",
       "      <td>TA</td>\n",
       "      <td>TA</td>\n",
       "      <td>No</td>\n",
       "      <td>ALQ</td>\n",
       "      <td>1065.0</td>\n",
       "      <td>Unf</td>\n",
       "      <td>0.0</td>\n",
       "      <td>1045.0</td>\n",
       "      <td>2110.0</td>\n",
       "      <td>GasA</td>\n",
       "      <td>Ex</td>\n",
       "      <td>Y</td>\n",
       "      <td>SBrkr</td>\n",
       "      <td>2110</td>\n",
       "      <td>0</td>\n",
       "      <td>0</td>\n",
       "      <td>2110</td>\n",
       "      <td>1.0</td>\n",
       "      <td>0.0</td>\n",
       "      <td>2</td>\n",
       "      <td>1</td>\n",
       "      <td>3</td>\n",
       "      <td>1</td>\n",
       "      <td>Ex</td>\n",
       "      <td>8</td>\n",
       "      <td>Typ</td>\n",
       "      <td>2</td>\n",
       "      <td>TA</td>\n",
       "      <td>Attchd</td>\n",
       "      <td>1968.0</td>\n",
       "      <td>Fin</td>\n",
       "      <td>2.0</td>\n",
       "      <td>522.0</td>\n",
       "      <td>TA</td>\n",
       "      <td>TA</td>\n",
       "      <td>Y</td>\n",
       "      <td>0</td>\n",
       "      <td>0</td>\n",
       "      <td>0</td>\n",
       "      <td>0</td>\n",
       "      <td>0</td>\n",
       "      <td>0</td>\n",
       "      <td>NaN</td>\n",
       "      <td>NaN</td>\n",
       "      <td>NaN</td>\n",
       "      <td>0</td>\n",
       "      <td>4</td>\n",
       "      <td>2010</td>\n",
       "      <td>WD</td>\n",
       "      <td>Normal</td>\n",
       "      <td>244000</td>\n",
       "    </tr>\n",
       "    <tr>\n",
       "      <th>4</th>\n",
       "      <td>5</td>\n",
       "      <td>527105010</td>\n",
       "      <td>60</td>\n",
       "      <td>RL</td>\n",
       "      <td>74.0</td>\n",
       "      <td>13830</td>\n",
       "      <td>Pave</td>\n",
       "      <td>NaN</td>\n",
       "      <td>IR1</td>\n",
       "      <td>Lvl</td>\n",
       "      <td>AllPub</td>\n",
       "      <td>Inside</td>\n",
       "      <td>Gtl</td>\n",
       "      <td>Gilbert</td>\n",
       "      <td>Norm</td>\n",
       "      <td>Norm</td>\n",
       "      <td>1Fam</td>\n",
       "      <td>2Story</td>\n",
       "      <td>5</td>\n",
       "      <td>5</td>\n",
       "      <td>1997</td>\n",
       "      <td>1998</td>\n",
       "      <td>Gable</td>\n",
       "      <td>CompShg</td>\n",
       "      <td>VinylSd</td>\n",
       "      <td>VinylSd</td>\n",
       "      <td>None</td>\n",
       "      <td>0.0</td>\n",
       "      <td>TA</td>\n",
       "      <td>TA</td>\n",
       "      <td>PConc</td>\n",
       "      <td>Gd</td>\n",
       "      <td>TA</td>\n",
       "      <td>No</td>\n",
       "      <td>GLQ</td>\n",
       "      <td>791.0</td>\n",
       "      <td>Unf</td>\n",
       "      <td>0.0</td>\n",
       "      <td>137.0</td>\n",
       "      <td>928.0</td>\n",
       "      <td>GasA</td>\n",
       "      <td>Gd</td>\n",
       "      <td>Y</td>\n",
       "      <td>SBrkr</td>\n",
       "      <td>928</td>\n",
       "      <td>701</td>\n",
       "      <td>0</td>\n",
       "      <td>1629</td>\n",
       "      <td>0.0</td>\n",
       "      <td>0.0</td>\n",
       "      <td>2</td>\n",
       "      <td>1</td>\n",
       "      <td>3</td>\n",
       "      <td>1</td>\n",
       "      <td>TA</td>\n",
       "      <td>6</td>\n",
       "      <td>Typ</td>\n",
       "      <td>1</td>\n",
       "      <td>TA</td>\n",
       "      <td>Attchd</td>\n",
       "      <td>1997.0</td>\n",
       "      <td>Fin</td>\n",
       "      <td>2.0</td>\n",
       "      <td>482.0</td>\n",
       "      <td>TA</td>\n",
       "      <td>TA</td>\n",
       "      <td>Y</td>\n",
       "      <td>212</td>\n",
       "      <td>34</td>\n",
       "      <td>0</td>\n",
       "      <td>0</td>\n",
       "      <td>0</td>\n",
       "      <td>0</td>\n",
       "      <td>NaN</td>\n",
       "      <td>MnPrv</td>\n",
       "      <td>NaN</td>\n",
       "      <td>0</td>\n",
       "      <td>3</td>\n",
       "      <td>2010</td>\n",
       "      <td>WD</td>\n",
       "      <td>Normal</td>\n",
       "      <td>189900</td>\n",
       "    </tr>\n",
       "  </tbody>\n",
       "</table>\n",
       "</div>"
      ],
      "text/plain": [
       "   Order        PID  MS SubClass MS Zoning  Lot Frontage  Lot Area Street  \\\n",
       "0      1  526301100           20        RL         141.0     31770   Pave   \n",
       "1      2  526350040           20        RH          80.0     11622   Pave   \n",
       "2      3  526351010           20        RL          81.0     14267   Pave   \n",
       "3      4  526353030           20        RL          93.0     11160   Pave   \n",
       "4      5  527105010           60        RL          74.0     13830   Pave   \n",
       "\n",
       "  Alley Lot Shape Land Contour Utilities Lot Config Land Slope Neighborhood  \\\n",
       "0   NaN       IR1          Lvl    AllPub     Corner        Gtl        NAmes   \n",
       "1   NaN       Reg          Lvl    AllPub     Inside        Gtl        NAmes   \n",
       "2   NaN       IR1          Lvl    AllPub     Corner        Gtl        NAmes   \n",
       "3   NaN       Reg          Lvl    AllPub     Corner        Gtl        NAmes   \n",
       "4   NaN       IR1          Lvl    AllPub     Inside        Gtl      Gilbert   \n",
       "\n",
       "  Condition 1 Condition 2 Bldg Type House Style  Overall Qual  Overall Cond  \\\n",
       "0        Norm        Norm      1Fam      1Story             6             5   \n",
       "1       Feedr        Norm      1Fam      1Story             5             6   \n",
       "2        Norm        Norm      1Fam      1Story             6             6   \n",
       "3        Norm        Norm      1Fam      1Story             7             5   \n",
       "4        Norm        Norm      1Fam      2Story             5             5   \n",
       "\n",
       "   Year Built  Year Remod/Add Roof Style Roof Matl Exterior 1st Exterior 2nd  \\\n",
       "0        1960            1960        Hip   CompShg      BrkFace      Plywood   \n",
       "1        1961            1961      Gable   CompShg      VinylSd      VinylSd   \n",
       "2        1958            1958        Hip   CompShg      Wd Sdng      Wd Sdng   \n",
       "3        1968            1968        Hip   CompShg      BrkFace      BrkFace   \n",
       "4        1997            1998      Gable   CompShg      VinylSd      VinylSd   \n",
       "\n",
       "  Mas Vnr Type  Mas Vnr Area Exter Qual Exter Cond Foundation Bsmt Qual  \\\n",
       "0        Stone         112.0         TA         TA     CBlock        TA   \n",
       "1         None           0.0         TA         TA     CBlock        TA   \n",
       "2      BrkFace         108.0         TA         TA     CBlock        TA   \n",
       "3         None           0.0         Gd         TA     CBlock        TA   \n",
       "4         None           0.0         TA         TA      PConc        Gd   \n",
       "\n",
       "  Bsmt Cond Bsmt Exposure BsmtFin Type 1  BsmtFin SF 1 BsmtFin Type 2  \\\n",
       "0        Gd            Gd            BLQ         639.0            Unf   \n",
       "1        TA            No            Rec         468.0            LwQ   \n",
       "2        TA            No            ALQ         923.0            Unf   \n",
       "3        TA            No            ALQ        1065.0            Unf   \n",
       "4        TA            No            GLQ         791.0            Unf   \n",
       "\n",
       "   BsmtFin SF 2  Bsmt Unf SF  Total Bsmt SF Heating Heating QC Central Air  \\\n",
       "0           0.0        441.0         1080.0    GasA         Fa           Y   \n",
       "1         144.0        270.0          882.0    GasA         TA           Y   \n",
       "2           0.0        406.0         1329.0    GasA         TA           Y   \n",
       "3           0.0       1045.0         2110.0    GasA         Ex           Y   \n",
       "4           0.0        137.0          928.0    GasA         Gd           Y   \n",
       "\n",
       "  Electrical  1st Flr SF  2nd Flr SF  Low Qual Fin SF  Gr Liv Area  \\\n",
       "0      SBrkr        1656           0                0         1656   \n",
       "1      SBrkr         896           0                0          896   \n",
       "2      SBrkr        1329           0                0         1329   \n",
       "3      SBrkr        2110           0                0         2110   \n",
       "4      SBrkr         928         701                0         1629   \n",
       "\n",
       "   Bsmt Full Bath  Bsmt Half Bath  Full Bath  Half Bath  Bedroom AbvGr  \\\n",
       "0             1.0             0.0          1          0              3   \n",
       "1             0.0             0.0          1          0              2   \n",
       "2             0.0             0.0          1          1              3   \n",
       "3             1.0             0.0          2          1              3   \n",
       "4             0.0             0.0          2          1              3   \n",
       "\n",
       "   Kitchen AbvGr Kitchen Qual  TotRms AbvGrd Functional  Fireplaces  \\\n",
       "0              1           TA              7        Typ           2   \n",
       "1              1           TA              5        Typ           0   \n",
       "2              1           Gd              6        Typ           0   \n",
       "3              1           Ex              8        Typ           2   \n",
       "4              1           TA              6        Typ           1   \n",
       "\n",
       "  Fireplace Qu Garage Type  Garage Yr Blt Garage Finish  Garage Cars  \\\n",
       "0           Gd      Attchd         1960.0           Fin          2.0   \n",
       "1          NaN      Attchd         1961.0           Unf          1.0   \n",
       "2          NaN      Attchd         1958.0           Unf          1.0   \n",
       "3           TA      Attchd         1968.0           Fin          2.0   \n",
       "4           TA      Attchd         1997.0           Fin          2.0   \n",
       "\n",
       "   Garage Area Garage Qual Garage Cond Paved Drive  Wood Deck SF  \\\n",
       "0        528.0          TA          TA           P           210   \n",
       "1        730.0          TA          TA           Y           140   \n",
       "2        312.0          TA          TA           Y           393   \n",
       "3        522.0          TA          TA           Y             0   \n",
       "4        482.0          TA          TA           Y           212   \n",
       "\n",
       "   Open Porch SF  Enclosed Porch  3Ssn Porch  Screen Porch  Pool Area Pool QC  \\\n",
       "0             62               0           0             0          0     NaN   \n",
       "1              0               0           0           120          0     NaN   \n",
       "2             36               0           0             0          0     NaN   \n",
       "3              0               0           0             0          0     NaN   \n",
       "4             34               0           0             0          0     NaN   \n",
       "\n",
       "   Fence Misc Feature  Misc Val  Mo Sold  Yr Sold Sale Type Sale Condition  \\\n",
       "0    NaN          NaN         0        5     2010       WD          Normal   \n",
       "1  MnPrv          NaN         0        6     2010       WD          Normal   \n",
       "2    NaN         Gar2     12500        6     2010       WD          Normal   \n",
       "3    NaN          NaN         0        4     2010       WD          Normal   \n",
       "4  MnPrv          NaN         0        3     2010       WD          Normal   \n",
       "\n",
       "   SalePrice  \n",
       "0     215000  \n",
       "1     105000  \n",
       "2     172000  \n",
       "3     244000  \n",
       "4     189900  "
      ]
     },
     "execution_count": 2,
     "metadata": {},
     "output_type": "execute_result"
    }
   ],
   "source": [
    "# explore dataset\n",
    "pd.options.display.max_columns = 99\n",
    "houses.head()"
   ]
  },
  {
   "cell_type": "markdown",
   "metadata": {},
   "source": [
    "Now we can prepare our pipeline skeleton. The pipeline will consist of three functions: `transform_features()`, which will perform feature engineering, `select_features()`, which will perform feature selection, and `train_and_test()`, which will perform model training and testing. \n",
    "\n",
    "For the first iteration of our pipeline, we will keep all three functions as simple as possible: the feature engineering function will return the training data unchanged; the feature selection function will return one feature variable and the target variable from the training data; and the model training and testing function will split the data in half into training and testing sets, fit a simple linear regression model to the training data, test the model on the test set, and return the root-mean-squared-error of the predictive model."
   ]
  },
  {
   "cell_type": "code",
   "execution_count": 3,
   "metadata": {
    "collapsed": true
   },
   "outputs": [],
   "source": [
    "# first iteration of feature engineering function\n",
    "def transform_features(df):\n",
    "    return df\n",
    "\n",
    "# first iteration of feature selection function\n",
    "def select_features(df):\n",
    "    return df[['Gr Liv Area', 'SalePrice']]\n",
    "\n",
    "# first iteration of model training and testing function\n",
    "def train_and_test(df, target):\n",
    "    \"\"\"\n",
    "    Train and test linear regression model on data to \n",
    "    predict given target variable.\n",
    "    \n",
    "    Parameters\n",
    "    ----------\n",
    "    df: DataFrame\n",
    "        Dataset on which to train and test model.\n",
    "    target: str\n",
    "        Column name of target variable.\n",
    "        \n",
    "    Returns\n",
    "    -------\n",
    "    float\n",
    "        RMSE value of test prediction.\n",
    "    \"\"\"\n",
    "    \n",
    "    # split dataset into training and testing data\n",
    "    train = df[:1460]\n",
    "    test = df[1460:]\n",
    "    \n",
    "    # train model using all numerical columns except target\n",
    "    sfdf = select_features(df)\n",
    "    features = [col for col in sfdf.columns if\n",
    "                (pd.api.types.is_numeric_dtype(sfdf[col]) and\n",
    "                 col != target)]\n",
    "    \n",
    "    # instantiate model\n",
    "    lr = LinearRegression()\n",
    "    \n",
    "    # fit model on training data\n",
    "    lr.fit(train[features], train[target])\n",
    "    \n",
    "    # predict test data target\n",
    "    predict = lr.predict(test[features])\n",
    "    \n",
    "    # calculate rmse\n",
    "    rmse = np.sqrt(mean_squared_error(predict, test[target]))\n",
    "    \n",
    "    return rmse"
   ]
  },
  {
   "cell_type": "code",
   "execution_count": 4,
   "metadata": {
    "collapsed": false
   },
   "outputs": [
    {
     "data": {
      "text/plain": [
       "57088.25161263909"
      ]
     },
     "execution_count": 4,
     "metadata": {},
     "output_type": "execute_result"
    }
   ],
   "source": [
    "train_and_test(houses, 'SalePrice')"
   ]
  },
  {
   "cell_type": "markdown",
   "metadata": {},
   "source": [
    "## Feature Engineering\n",
    "\n",
    "We can improve our predictive model by improving the quality of its features. This process of preparing, extracting, and transforming features from the raw data such that they better represent the underlying problem and thus improve predictive model performance is known as *feature engineering*. \n",
    "\n",
    "The `transform_features()` function will perform the feature engineering step of our pipeline by removing columns of no use to the analysis, either due to large percentages of missing values or to data leakage, transforming features into proper formats, i.e. scaling numerical values, converting types, handling missing values, etc., and combing features to create new ones.\n",
    "\n",
    "Below, we explore the data further to investigate how we may best transform it. Then, we update our `transform_features()` function to perform the necessary transformations."
   ]
  },
  {
   "cell_type": "markdown",
   "metadata": {},
   "source": [
    "### Handling Missing Values\n",
    "\n",
    "We begin the process of feature engineering by investigating the missing data in our dataset. Below we list the non-zero percentages of missing values in each column."
   ]
  },
  {
   "cell_type": "code",
   "execution_count": 5,
   "metadata": {
    "collapsed": false
   },
   "outputs": [
    {
     "data": {
      "text/plain": [
       "Lot Frontage      16.72\n",
       "Alley             93.24\n",
       "Mas Vnr Type       0.78\n",
       "Mas Vnr Area       0.78\n",
       "Bsmt Qual          2.73\n",
       "Bsmt Cond          2.73\n",
       "Bsmt Exposure      2.83\n",
       "BsmtFin Type 1     2.73\n",
       "BsmtFin SF 1       0.03\n",
       "BsmtFin Type 2     2.76\n",
       "BsmtFin SF 2       0.03\n",
       "Bsmt Unf SF        0.03\n",
       "Total Bsmt SF      0.03\n",
       "Electrical         0.03\n",
       "Bsmt Full Bath     0.07\n",
       "Bsmt Half Bath     0.07\n",
       "Fireplace Qu      48.53\n",
       "Garage Type        5.36\n",
       "Garage Yr Blt      5.43\n",
       "Garage Finish      5.43\n",
       "Garage Cars        0.03\n",
       "Garage Area        0.03\n",
       "Garage Qual        5.43\n",
       "Garage Cond        5.43\n",
       "Pool QC           99.56\n",
       "Fence             80.48\n",
       "Misc Feature      96.38\n",
       "dtype: float64"
      ]
     },
     "execution_count": 5,
     "metadata": {},
     "output_type": "execute_result"
    }
   ],
   "source": [
    "# copy dataframe for experimentation\n",
    "houses_copy = houses.copy()\n",
    "# view missing values\n",
    "round((houses_copy.isnull().sum() / \n",
    "       houses.shape[0] * 100), 2)[houses.isnull().sum() > 0]"
   ]
  },
  {
   "cell_type": "markdown",
   "metadata": {},
   "source": [
    "Six of the columns ('Lot Frontage', 'Alley', 'Fireplace Qu', 'Pool QC', 'Fence', and 'Misc Feature') are missing significant fractions (nearly 17-100%) of their entries, while the rest of the columns containing null entries are only missing about 5% or fewer values. As a first iteration of our missing data transformation, we drop all columns with 15% or more null entries."
   ]
  },
  {
   "cell_type": "code",
   "execution_count": 6,
   "metadata": {
    "collapsed": false
   },
   "outputs": [],
   "source": [
    "# drop columns with >= 15% missing entries\n",
    "drop_cols = ((houses_copy.isnull().sum() / \n",
    "              houses.shape[0])[houses_copy.isnull().sum() / \n",
    "                               houses.shape[0] > 0.15]).index\n",
    "houses_copy.drop(drop_cols, axis=1, inplace=True)"
   ]
  },
  {
   "cell_type": "markdown",
   "metadata": {},
   "source": [
    "Then, we impute the remaining missing values in each column with the corresponding column' mode, or most popular value."
   ]
  },
  {
   "cell_type": "code",
   "execution_count": 7,
   "metadata": {
    "collapsed": false,
    "scrolled": true
   },
   "outputs": [
    {
     "data": {
      "text/plain": [
       "Mas Vnr Type       23\n",
       "Mas Vnr Area       23\n",
       "Bsmt Qual          80\n",
       "Bsmt Cond          80\n",
       "Bsmt Exposure      83\n",
       "BsmtFin Type 1     80\n",
       "BsmtFin SF 1        1\n",
       "BsmtFin Type 2     81\n",
       "BsmtFin SF 2        1\n",
       "Bsmt Unf SF         1\n",
       "Total Bsmt SF       1\n",
       "Electrical          1\n",
       "Bsmt Full Bath      2\n",
       "Bsmt Half Bath      2\n",
       "Garage Type       157\n",
       "Garage Yr Blt     159\n",
       "Garage Finish     159\n",
       "Garage Cars         1\n",
       "Garage Area         1\n",
       "Garage Qual       159\n",
       "Garage Cond       159\n",
       "dtype: int64"
      ]
     },
     "execution_count": 7,
     "metadata": {},
     "output_type": "execute_result"
    }
   ],
   "source": [
    "houses_copy.isnull().sum()[houses_copy.isnull().sum() > 0]"
   ]
  },
  {
   "cell_type": "code",
   "execution_count": 8,
   "metadata": {
    "collapsed": false
   },
   "outputs": [
    {
     "data": {
      "text/plain": [
       "0    76\n",
       "dtype: int64"
      ]
     },
     "execution_count": 8,
     "metadata": {},
     "output_type": "execute_result"
    }
   ],
   "source": [
    "# impute missing values with modes\n",
    "impute_cols = houses_copy.isnull().sum()[\n",
    "    houses_copy.isnull().sum() > 0].index\n",
    "for col in impute_cols:\n",
    "    houses_copy[col] = houses_copy[col].fillna(\n",
    "        houses_copy[col].mode()[0])\n",
    "# check no longer any missing values\n",
    "houses_copy.isnull().sum().value_counts()"
   ]
  },
  {
   "cell_type": "markdown",
   "metadata": {},
   "source": [
    "### Creating New Features\n",
    "\n",
    "The next step in our feature engineering process is to create new features that better represent the information contained in the dataset in a way that more closely relates to the predictions our models are attempting to make. A full designation of new features requires an in depth examination of the dataset and its documentation. For now, we will start by just introducing a few simple new features: \n",
    "- `Sale Age` = `Yr Sold` - `Year Built` = age of house at sale;\n",
    "- `Remod Age` = `Year Remod/Add` - `Year Built` = age of house at remodel;\n",
    "- `Remod Sale Age` = `Yr Sold` - `Year Remod/Add` = age of remodel at sale;\n",
    "- `Total SF` = `Total Bsmt SF` + `Gr Liv Area` = total square footage."
   ]
  },
  {
   "cell_type": "code",
   "execution_count": 9,
   "metadata": {
    "collapsed": true
   },
   "outputs": [],
   "source": [
    "# age at sale: 'Sale Age' = 'Yr Sold' - 'Year Built'\n",
    "houses_copy['Sale Age'] = houses_copy['Yr Sold'] - houses_copy['Year Built']\n",
    "# age at remodel: 'Remod Age' = 'Year Remod/Add' - 'Year Built'\n",
    "houses_copy['Remod Age'] = houses_copy['Year Remod/Add'] - houses_copy['Year Built']\n",
    "# remodel age at sale: 'Remod Sale Age' = 'Yr Sold' - 'Year Remod/Add'\n",
    "houses_copy['Remod Sale Age'] = houses_copy['Yr Sold'] - houses_copy['Year Remod/Add']\n",
    "# total area: 'Total SF' = 'Total Bsmt SF' + 'Gr Liv Area'\n",
    "houses_copy['Total SF'] = houses_copy['Total Bsmt SF'] + houses_copy['Gr Liv Area']"
   ]
  },
  {
   "cell_type": "markdown",
   "metadata": {},
   "source": [
    "Let's make sure to remove any rows containing negative values in the new columns we created, since these entries would represent nonsensical data (we cannot have negative ages or square footages)."
   ]
  },
  {
   "cell_type": "code",
   "execution_count": 10,
   "metadata": {
    "collapsed": false
   },
   "outputs": [
    {
     "data": {
      "text/plain": [
       "Sale Age          1\n",
       "Remod Age         1\n",
       "Remod Sale Age    3\n",
       "Total SF          0\n",
       "dtype: int64"
      ]
     },
     "execution_count": 10,
     "metadata": {},
     "output_type": "execute_result"
    }
   ],
   "source": [
    "# check for negative values in new columns\n",
    "new_cols = ['Sale Age', 'Remod Age', 'Remod Sale Age', 'Total SF']\n",
    "(houses_copy[new_cols] < 0).sum()"
   ]
  },
  {
   "cell_type": "code",
   "execution_count": 11,
   "metadata": {
    "collapsed": false
   },
   "outputs": [],
   "source": [
    "# get set of row indices to remove\n",
    "drop_rows = []\n",
    "for col in new_cols:\n",
    "    row_indices = list(houses_copy[houses_copy[col] < 0].index)\n",
    "    for irow in row_indices:\n",
    "        drop_rows.append(irow)\n",
    "drop_rows = set(drop_rows)"
   ]
  },
  {
   "cell_type": "code",
   "execution_count": 12,
   "metadata": {
    "collapsed": true
   },
   "outputs": [],
   "source": [
    "# remove rows with negative values in new columns\n",
    "houses_copy = houses_copy.drop(list(drop_rows), axis=0)"
   ]
  },
  {
   "cell_type": "markdown",
   "metadata": {},
   "source": [
    "Finally, we can remove the redundant columns we replaced with our new features: `Year Built` and `Year Remod/Add`. For now, we retain the other three columns used to build our new features (`Yr Sold`, `Total Bsmt SF`, and `Gr Liv Area`), since they may still provide relevant predictive power on their own."
   ]
  },
  {
   "cell_type": "code",
   "execution_count": 13,
   "metadata": {
    "collapsed": true
   },
   "outputs": [],
   "source": [
    "houses_copy.drop(['Year Built', 'Year Remod/Add'], axis=1, inplace=True)"
   ]
  },
  {
   "cell_type": "markdown",
   "metadata": {},
   "source": [
    "### Removing Additional Attributes\n",
    "\n",
    "The last step to engineer our features is to drop additional columns that are either not useful for our machine learning model or that leak data about the final sale price."
   ]
  },
  {
   "cell_type": "code",
   "execution_count": 14,
   "metadata": {
    "collapsed": true
   },
   "outputs": [],
   "source": [
    "# drop columns not useful for ML\n",
    "houses_copy.drop(['PID', 'Order'], axis=1, inplace=True)\n",
    "\n",
    "# drop columns with data leakage\n",
    "houses_copy.drop(['Mo Sold', 'Yr Sold', 'Sale Type', 'Sale Condition'],\n",
    "                 axis=1, inplace=True)"
   ]
  },
  {
   "cell_type": "markdown",
   "metadata": {},
   "source": [
    "### Updating the Pipeline\n",
    "\n",
    "Let's now update the feature transformation function in our pipeline to reflect the determinations made above."
   ]
  },
  {
   "cell_type": "code",
   "execution_count": 15,
   "metadata": {
    "collapsed": false
   },
   "outputs": [],
   "source": [
    "# second iteration of feature engineering function\n",
    "def transform_features(df):\n",
    "    \"\"\"\n",
    "    Transform features (handle missing values, create new\n",
    "    features, drop columns) prior to building model.\n",
    "    \n",
    "    Parameters\n",
    "    ----------\n",
    "    df: DataFrame\n",
    "        Dataset with features to engineer.\n",
    "        \n",
    "    Returns\n",
    "    -------\n",
    "    DataFrame\n",
    "        Dataset with transformed features.\n",
    "    \"\"\"\n",
    "    \n",
    "    # drop columns with >= 15% missing entries\n",
    "    drop_cols = ((df.isnull().sum() / df.shape[0])\n",
    "                 [df.isnull().sum() / df.shape[0] > 0.15]).index\n",
    "    df = df.drop(drop_cols, axis=1)\n",
    "    \n",
    "    # impute missing values with modes\n",
    "    impute_cols = df.isnull().sum()[df.isnull().sum() > 0].index\n",
    "    for col in impute_cols:\n",
    "        df[col] = df[col].fillna(df[col].mode()[0])\n",
    "        \n",
    "    # create new features\n",
    "    df['Sale Age'] = df['Yr Sold'] - df['Year Built']\n",
    "    df['Remod Age'] = df['Year Remod/Add'] - df['Year Built']\n",
    "    df['Remod Sale Age'] = df['Yr Sold'] - df['Year Remod/Add']\n",
    "    df['Total SF'] = df['Total Bsmt SF'] + df['Gr Liv Area']\n",
    "    \n",
    "    # remove rows with negative values in new columns\n",
    "    drop_rows = []\n",
    "    new_cols = ['Sale Age', 'Remod Age', 'Remod Sale Age', 'Total SF']\n",
    "    for col in new_cols:\n",
    "        row_indices = list(df[df[col] < 0].index)\n",
    "        for irow in row_indices:\n",
    "            drop_rows.append(irow)\n",
    "    drop_rows = set(drop_rows)\n",
    "    df = df.drop(list(drop_rows), axis=0)\n",
    "    \n",
    "    # remove unnecessary features\n",
    "    df = df.drop(['Year Built', 'Year Remod/Add', 'PID', \n",
    "                  'Order', 'Mo Sold', 'Yr Sold', \n",
    "                  'Sale Type', 'Sale Condition'], axis=1)\n",
    "    \n",
    "    return df\n",
    "\n",
    "\n",
    "def select_features(df):\n",
    "    return df[['Gr Liv Area', 'SalePrice']]\n",
    "\n",
    "\n",
    "def train_and_test(df, target):\n",
    "    \"\"\"\n",
    "    Train and test linear regression model on data to \n",
    "    predict given target variable.\n",
    "    \n",
    "    Parameters\n",
    "    ----------\n",
    "    df: DataFrame\n",
    "        Dataset on which to train and test model.\n",
    "    target: str\n",
    "        Column name of target variable.\n",
    "        \n",
    "    Returns\n",
    "    -------\n",
    "    float\n",
    "        RMSE value of test prediction.\n",
    "    \"\"\"\n",
    "    \n",
    "    # split dataset into training and testing data\n",
    "    train = df[:1460]\n",
    "    test = df[1460:]\n",
    "    \n",
    "    # train model using all numerical columns except target\n",
    "    sfdf = select_features(df)\n",
    "    features = [col for col in sfdf.columns if\n",
    "                (pd.api.types.is_numeric_dtype(sfdf[col]) and\n",
    "                 col != target)]\n",
    "    \n",
    "    # instantiate model\n",
    "    lr = LinearRegression()\n",
    "    \n",
    "    # fit model on training data\n",
    "    lr.fit(train[features], train[target])\n",
    "    \n",
    "    # predict test data target\n",
    "    predict = lr.predict(test[features])\n",
    "    \n",
    "    # calculate rmse\n",
    "    rmse = np.sqrt(mean_squared_error(predict, test[target]))\n",
    "    \n",
    "    return rmse"
   ]
  },
  {
   "cell_type": "code",
   "execution_count": 16,
   "metadata": {
    "collapsed": false
   },
   "outputs": [
    {
     "data": {
      "text/plain": [
       "55284.62277814025"
      ]
     },
     "execution_count": 16,
     "metadata": {},
     "output_type": "execute_result"
    }
   ],
   "source": [
    "houses_v1 = houses.copy()\n",
    "tf_houses = transform_features(houses_v1)\n",
    "train_and_test(tf_houses, 'SalePrice')"
   ]
  },
  {
   "cell_type": "markdown",
   "metadata": {},
   "source": [
    "## Feature Selection\n",
    "\n",
    "Now that we've performed the necessary feature cleaning and transformations, we can move on to selecting the most appropriate features for use in our model. Feature selection is the process of identifying the best set of features that will optimize the model with minimal complexity. "
   ]
  },
  {
   "cell_type": "markdown",
   "metadata": {},
   "source": [
    "### Numerical Feature Selection"
   ]
  },
  {
   "cell_type": "code",
   "execution_count": 17,
   "metadata": {
    "collapsed": false
   },
   "outputs": [
    {
     "name": "stdout",
     "output_type": "stream",
     "text": [
      "SalePrice          1.000000\n",
      "Total SF           0.808311\n",
      "Overall Qual       0.801212\n",
      "Gr Liv Area        0.717617\n",
      "Garage Cars        0.648351\n",
      "Total Bsmt SF      0.644023\n",
      "Garage Area        0.641414\n",
      "1st Flr SF         0.635183\n",
      "Sale Age           0.558984\n",
      "Full Bath          0.546108\n",
      "Remod Sale Age     0.534972\n",
      "Mas Vnr Area       0.507010\n",
      "TotRms AbvGrd      0.498614\n",
      "Fireplaces         0.474994\n",
      "Garage Yr Blt      0.442196\n",
      "BsmtFin SF 1       0.439365\n",
      "Wood Deck SF       0.328158\n",
      "Open Porch SF      0.316277\n",
      "Half Bath          0.284974\n",
      "Bsmt Full Bath     0.276214\n",
      "2nd Flr SF         0.269707\n",
      "Lot Area           0.267517\n",
      "Remod Age          0.240017\n",
      "Bsmt Unf SF        0.182862\n",
      "Bedroom AbvGr      0.143902\n",
      "Enclosed Porch     0.128656\n",
      "Kitchen AbvGr      0.119743\n",
      "Screen Porch       0.112310\n",
      "Overall Cond       0.101498\n",
      "MS SubClass        0.085056\n",
      "Pool Area          0.068445\n",
      "Low Qual Fin SF    0.037620\n",
      "Bsmt Half Bath     0.035852\n",
      "3Ssn Porch         0.032279\n",
      "Misc Val           0.019264\n",
      "BsmtFin SF 2       0.006156\n",
      "Name: SalePrice, dtype: float64\n"
     ]
    }
   ],
   "source": [
    "# get numeric training data columns\n",
    "numeric_features = [col for col in tf_houses.columns if\n",
    "                    pd.api.types.is_numeric_dtype(tf_houses[col])]\n",
    "\n",
    "# generate correlation matrix\n",
    "corr_mat = abs(tf_houses[numeric_features]\n",
    "               .corr()['SalePrice']).sort_values(ascending=False)\n",
    "print(corr_mat)"
   ]
  },
  {
   "cell_type": "code",
   "execution_count": 18,
   "metadata": {
    "collapsed": false,
    "scrolled": true
   },
   "outputs": [
    {
     "data": {
      "text/plain": [
       "<matplotlib.axes._subplots.AxesSubplot at 0x7f7f2b4ff588>"
      ]
     },
     "execution_count": 18,
     "metadata": {},
     "output_type": "execute_result"
    },
    {
     "data": {
      "image/png": "[encoded data removed]",
      "text/plain": [
       "<matplotlib.figure.Figure at 0x7f7f2b4ecbe0>"
      ]
     },
     "metadata": {},
     "output_type": "display_data"
    }
   ],
   "source": [
    "# generate heatmap\n",
    "import seaborn as sns\n",
    "sns.heatmap(tf_houses[numeric_features].corr())"
   ]
  },
  {
   "cell_type": "markdown",
   "metadata": {},
   "source": [
    "Based on the correlation matrix and heatmap generated above, we see the following features correlate most strongly with the target column, in descending order:\n",
    "1. total square footage (`Total SF`);\n",
    "2. overall quality (`Overall Qual`);\n",
    "3. above ground living area (`Gr Liv Area`);\n",
    "4. garage size, in car capacity (`Garag Cars`);\n",
    "5. total basement square footage (`Total Bsmt SF`);\n",
    "6. garage square footage (`Garage Area`);\n",
    "7. first floor square footage (`1st Flr SF`);\n",
    "8. age of home at time of sale (`Sale Age`);\n",
    "9. number of full baths (`Full Bath`);\n",
    "10. age of remodel at time of sale (`Remod Sale Age`).\n",
    "\n",
    "We'll retain the above top ten correlated numerical features for now and drop the rest."
   ]
  },
  {
   "cell_type": "markdown",
   "metadata": {},
   "source": [
    "### Categorical Feature Selection\n",
    "\n",
    "Next, let's investigate which categorical variables we should consider for our model. When considering which categorical variables to include, we want to choose those with only a few unique values, to avoid large complexity in our model, and with some measure of variance between those values, to provide our model with some variability to capture when learning from our features. \n",
    "\n",
    "Additionally, some of the variables that represent categorical data may still be in numerical form at this point and will therefore need to be converted, i.e. if the numbers represented within do not hold any semantic meaning."
   ]
  },
  {
   "cell_type": "markdown",
   "metadata": {},
   "source": [
    "From the documentation provided with our data set, the following features represent categorical data:\n",
    "- `MS SubClass`: dwelling type;\n",
    "- `MS Zoning`: zoning classification;\n",
    "- `Street`: type of road access;\n",
    "- `Lot Shape`: shape of property;\n",
    "- `Land Contour`: flatness of property;\n",
    "- `Utilities`: type of utilities available;\n",
    "- `Lot Config`: lot configuration;\n",
    "- `Land Slope`: slope of property;\n",
    "- `Neighborhood`: neighborhood in which property lies;\n",
    "- `Condition1`: proximity to various conditions;\n",
    "- `Condition2`: proximity to various conditions (if more than one);\n",
    "- `BldgType`': type of dwelling;\n",
    "- `House Style`': style of dwelling;\n",
    "- `Overall Qual`: rating of overall material and finish;\n",
    "- `Overall Cond`: rating of overall condition;\n",
    "- `Roof Style`: type of roof;\n",
    "- `Roof Matl`: root material;\n",
    "- `Exterior 1st`: exterior covering;\n",
    "- `Exterior 2nd`: exterior covering (if more than one);\n",
    "- `Mas Vnr Type`: masonry veneer type;\n",
    "- `Exter Qual`: evaluation of quality of material on exterior;\n",
    "- `Exter Cond`: evaluation of present condition of material on exterior;\n",
    "- `Foundation`: foundation type;\n",
    "- `Bsmt Qual`: evaluation of quality of basement based on height;\n",
    "- `Bsmt Cond`: evaluation of general condition of basement;\n",
    "- `Bsmt Exposure`: walkout or garden level walls;\n",
    "- `BsmtFin Type 1`: rating of basement finished area;\n",
    "- `BsmtFin Type 2`: rating of basement finished area (if more than one type);\n",
    "- `Heating`: heating type;\n",
    "- `Heating QC`: heating quality and condition;\n",
    "- `Central Air`: central air conditioning;\n",
    "- `Electrical`: electrical system;\n",
    "- `Kitchen Qual`: kitchen quality;\n",
    "- `Functional`: home functionality;\n",
    "- `Garage Type`: garage location;\n",
    "- `Garage Finish`: interior finish of garage;\n",
    "- `Garage Qual`: garage quality;\n",
    "- `Garage Cond`: garage condition;\n",
    "- `Paved Drive`: paved driveway."
   ]
  },
  {
   "cell_type": "markdown",
   "metadata": {},
   "source": [
    "Let's take a look at the unique values within each of the above categorical features."
   ]
  },
  {
   "cell_type": "code",
   "execution_count": 19,
   "metadata": {
    "collapsed": false,
    "scrolled": true
   },
   "outputs": [
    {
     "data": {
      "text/plain": [
       "MS SubClass       16\n",
       "MS Zoning          7\n",
       "Street             2\n",
       "Lot Shape          4\n",
       "Land Contour       4\n",
       "Utilities          3\n",
       "Lot Config         5\n",
       "Land Slope         3\n",
       "Neighborhood      28\n",
       "Condition 1        9\n",
       "Condition 2        8\n",
       "Bldg Type          5\n",
       "House Style        8\n",
       "Overall Qual      10\n",
       "Overall Cond       9\n",
       "Roof Style         6\n",
       "Roof Matl          8\n",
       "Exterior 1st      16\n",
       "Exterior 2nd      17\n",
       "Mas Vnr Type       5\n",
       "Exter Qual         4\n",
       "Exter Cond         5\n",
       "Foundation         6\n",
       "Bsmt Qual          5\n",
       "Bsmt Cond          5\n",
       "Bsmt Exposure      4\n",
       "BsmtFin Type 1     6\n",
       "BsmtFin Type 2     6\n",
       "Heating            6\n",
       "Heating QC         5\n",
       "Central Air        2\n",
       "Electrical         5\n",
       "Kitchen Qual       5\n",
       "Functional         8\n",
       "Garage Type        6\n",
       "Garage Finish      3\n",
       "Garage Qual        5\n",
       "Garage Cond        5\n",
       "Paved Drive        3\n",
       "dtype: int64"
      ]
     },
     "execution_count": 19,
     "metadata": {},
     "output_type": "execute_result"
    }
   ],
   "source": [
    "# view number of unique values in categorical columns\n",
    "cat_cols = ['MS SubClass', 'MS Zoning', 'Street', 'Lot Shape', \n",
    "            'Land Contour', 'Utilities', 'Lot Config', 'Land Slope', \n",
    "            'Neighborhood', 'Condition 1', 'Condition 2', 'Bldg Type',\n",
    "            'House Style', 'Overall Qual', 'Overall Cond', 'Roof Style',\n",
    "            'Roof Matl', 'Exterior 1st', 'Exterior 2nd', 'Mas Vnr Type',\n",
    "            'Exter Qual', 'Exter Cond', 'Foundation', 'Bsmt Qual', \n",
    "            'Bsmt Cond', 'Bsmt Exposure', 'BsmtFin Type 1', 'BsmtFin Type 2',\n",
    "            'Heating', 'Heating QC', 'Central Air', 'Electrical',\n",
    "            'Kitchen Qual', 'Functional', 'Garage Type', 'Garage Finish',\n",
    "            'Garage Qual', 'Garage Cond', 'Paved Drive']\n",
    "tf_houses[cat_cols].nunique()"
   ]
  },
  {
   "cell_type": "markdown",
   "metadata": {},
   "source": [
    "For simplicity, let's exclude all categorical columns with more than ten unique values."
   ]
  },
  {
   "cell_type": "code",
   "execution_count": 20,
   "metadata": {
    "collapsed": false,
    "scrolled": false
   },
   "outputs": [
    {
     "name": "stdout",
     "output_type": "stream",
     "text": [
      "['MS Zoning', 'Street', 'Lot Shape', 'Land Contour', 'Utilities', 'Lot Config', 'Land Slope', 'Condition 1', 'Condition 2', 'Bldg Type', 'House Style', 'Overall Qual', 'Overall Cond', 'Roof Style', 'Roof Matl', 'Mas Vnr Type', 'Exter Qual', 'Exter Cond', 'Foundation', 'Bsmt Qual', 'Bsmt Cond', 'Bsmt Exposure', 'BsmtFin Type 1', 'BsmtFin Type 2', 'Heating', 'Heating QC', 'Central Air', 'Electrical', 'Kitchen Qual', 'Functional', 'Garage Type', 'Garage Finish', 'Garage Qual', 'Garage Cond', 'Paved Drive']\n"
     ]
    }
   ],
   "source": [
    "# keep categorical features with 10 or fewer unique values\n",
    "categorical_features = [col for col in cat_cols if \n",
    "                        tf_houses[col].nunique() <= 10]\n",
    "print(categorical_features)"
   ]
  },
  {
   "cell_type": "markdown",
   "metadata": {},
   "source": [
    "Next, let's remove any categorical columns with low variance, where any individual unique value consitutes 95% or more of the overall entries in the column."
   ]
  },
  {
   "cell_type": "code",
   "execution_count": 21,
   "metadata": {
    "collapsed": false
   },
   "outputs": [
    {
     "name": "stdout",
     "output_type": "stream",
     "text": [
      "['Street', 'Utilities', 'Land Slope', 'Condition 2', 'Roof Matl', 'Heating', 'Garage Cond']\n"
     ]
    }
   ],
   "source": [
    "# find low variance categorical features\n",
    "low_var_cf = []\n",
    "for cf in categorical_features:\n",
    "    if tf_houses[cf].value_counts()[\n",
    "       tf_houses[cf].value_counts() / \n",
    "       tf_houses[cf].size * 100 > 95].any():\n",
    "        low_var_cf.append(cf)\n",
    "print(low_var_cf)"
   ]
  },
  {
   "cell_type": "code",
   "execution_count": 22,
   "metadata": {
    "collapsed": false
   },
   "outputs": [
    {
     "name": "stdout",
     "output_type": "stream",
     "text": [
      "['MS Zoning', 'Lot Shape', 'Land Contour', 'Lot Config', 'Condition 1', 'Bldg Type', 'House Style', 'Overall Qual', 'Overall Cond', 'Roof Style', 'Mas Vnr Type', 'Exter Qual', 'Exter Cond', 'Foundation', 'Bsmt Qual', 'Bsmt Cond', 'Bsmt Exposure', 'BsmtFin Type 1', 'BsmtFin Type 2', 'Heating QC', 'Central Air', 'Electrical', 'Kitchen Qual', 'Functional', 'Garage Type', 'Garage Finish', 'Garage Qual', 'Paved Drive']\n"
     ]
    }
   ],
   "source": [
    "# remove low variance features\n",
    "categorical_features = [cf for cf in categorical_features if \n",
    "                        cf not in low_var_cf]\n",
    "print(categorical_features)"
   ]
  },
  {
   "cell_type": "markdown",
   "metadata": {},
   "source": [
    "Finally, let's convert our categorical columns to the categorical type. From here, we can create dummy variables for each category within each column."
   ]
  },
  {
   "cell_type": "code",
   "execution_count": 23,
   "metadata": {
    "collapsed": false
   },
   "outputs": [],
   "source": [
    "# convert categorical features to category type\n",
    "tf_houses_copy = tf_houses.copy()\n",
    "for cf in categorical_features:\n",
    "    tf_houses_copy[cf] = tf_houses_copy[cf].astype('category')"
   ]
  },
  {
   "cell_type": "code",
   "execution_count": 24,
   "metadata": {
    "collapsed": true
   },
   "outputs": [],
   "source": [
    "# create dummy columns, add to dataframe, and remove old columns\n",
    "for cf in categorical_features:\n",
    "    cf_dummies = pd.get_dummies(tf_houses_copy[cf])\n",
    "    tf_houses_copy = pd.concat([tf_houses_copy, cf_dummies], axis=1)\n",
    "    del tf_houses_copy[cf]"
   ]
  },
  {
   "cell_type": "markdown",
   "metadata": {},
   "source": [
    "### Updating the Pipeline again...\n",
    "\n",
    "Now let's put it all together and update our feature selection function in our pipeline."
   ]
  },
  {
   "cell_type": "code",
   "execution_count": 25,
   "metadata": {
    "collapsed": false
   },
   "outputs": [
    {
     "data": {
      "text/plain": [
       "['SalePrice',\n",
       " 'Total SF',\n",
       " 'Overall Qual',\n",
       " 'Gr Liv Area',\n",
       " 'Garage Cars',\n",
       " 'Total Bsmt SF',\n",
       " 'Garage Area',\n",
       " '1st Flr SF',\n",
       " 'Sale Age',\n",
       " 'Full Bath']"
      ]
     },
     "execution_count": 25,
     "metadata": {},
     "output_type": "execute_result"
    }
   ],
   "source": [
    "nf = [col for col in tf_houses.columns if pd.api.types.is_numeric_dtype(tf_houses[col])]\n",
    "list(abs(tf_houses[nf].corr()['SalePrice']).sort_values(ascending=False)[:10].index)"
   ]
  },
  {
   "cell_type": "code",
   "execution_count": 26,
   "metadata": {
    "collapsed": true
   },
   "outputs": [],
   "source": [
    "# second iteration of feature engineering function\n",
    "def transform_features(df):\n",
    "    \"\"\"\n",
    "    Transform features (handle missing values, create new\n",
    "    features, drop columns) prior to building model.\n",
    "    \n",
    "    Parameters\n",
    "    ----------\n",
    "    df: DataFrame\n",
    "        Dataset with features to engineer.\n",
    "        \n",
    "    Returns\n",
    "    -------\n",
    "    DataFrame\n",
    "        Dataset with transformed features.\n",
    "    \"\"\"\n",
    "    \n",
    "    # drop columns with >= 15% missing entries\n",
    "    drop_cols = ((df.isnull().sum() / df.shape[0])\n",
    "                 [df.isnull().sum() / df.shape[0] > 0.15]).index\n",
    "    df = df.drop(drop_cols, axis=1)\n",
    "    \n",
    "    # impute missing values with modes\n",
    "    impute_cols = df.isnull().sum()[df.isnull().sum() > 0].index\n",
    "    for col in impute_cols:\n",
    "        df[col] = df[col].fillna(df[col].mode()[0])\n",
    "        \n",
    "    # create new features\n",
    "    df['Sale Age'] = df['Yr Sold'] - df['Year Built']\n",
    "    df['Remod Age'] = df['Year Remod/Add'] - df['Year Built']\n",
    "    df['Remod Sale Age'] = df['Yr Sold'] - df['Year Remod/Add']\n",
    "    df['Total SF'] = df['Total Bsmt SF'] + df['Gr Liv Area']\n",
    "    \n",
    "    # remove rows with negative values in new columns\n",
    "    drop_rows = []\n",
    "    new_cols = ['Sale Age', 'Remod Age', 'Remod Sale Age', 'Total SF']\n",
    "    for col in new_cols:\n",
    "        row_indices = list(df[df[col] < 0].index)\n",
    "        for irow in row_indices:\n",
    "            drop_rows.append(irow)\n",
    "    drop_rows = set(drop_rows)\n",
    "    df = df.drop(list(drop_rows), axis=0)\n",
    "    \n",
    "    # remove unnecessary features\n",
    "    df = df.drop(['Year Built', 'Year Remod/Add', 'PID', \n",
    "                  'Order', 'Mo Sold', 'Yr Sold', \n",
    "                  'Sale Type', 'Sale Condition'], axis=1)\n",
    "    \n",
    "    return df\n",
    "\n",
    "\n",
    "def select_features(df):\n",
    "    \"\"\"\n",
    "    Select features for model.\n",
    "    \n",
    "    Parameters\n",
    "    ----------\n",
    "    df: DataFrame\n",
    "        Dataset with features to select.\n",
    "        \n",
    "    Returns\n",
    "    -------\n",
    "    DataFrame\n",
    "        Dataset with selected features.\n",
    "    \"\"\"\n",
    "    \n",
    "    # drop numeric columns outside of top 10 in correlation matrix\n",
    "    selected = []\n",
    "    nf = [col for col in df.columns if \n",
    "          pd.api.types.is_numeric_dtype(df[col])]\n",
    "    selected += list(abs(tf_houses[nf].corr()['SalePrice'])\n",
    "                     .sort_values(ascending=False)[:10].index)\n",
    "    \n",
    "    # drop categorical columns with more than 10 unique values \n",
    "    cf = ['MS SubClass', 'MS Zoning', 'Street', 'Lot Shape',\n",
    "          'Land Contour', 'Utilities', 'Lot Config', 'Land Slope',\n",
    "          'Neighborhood', 'Condition 1', 'Condition 2', 'Bldg Type',\n",
    "          'House Style', 'Roof Style', 'Overall Qual', 'Overall Cond',\n",
    "          'Roof Matl', 'Exterior 1st', 'Exterior 2nd', 'Mas Vnr Type',\n",
    "          'Exter Qual', 'Exter Cond', 'Foundation', 'Bsmt Qual', \n",
    "          'Bsmt Cond', 'Bsmt Exposure', 'BsmtFin Type 1', 'BsmtFin Type 2',\n",
    "          'Heating', 'Heating QC', 'Central Air', 'Electrical',\n",
    "          'Kitchen Qual', 'Functional', 'Garage Type', 'Garage Finish',\n",
    "          'Garage Qual', 'Garage Cond', 'Paved Drive']\n",
    "    cf = [col for col in cf if df[col].nunique() <= 10 and\n",
    "          col not in selected]\n",
    "    \n",
    "    # drop categorical columns with low variance (any unique values that constitute at least 95% of entries)\n",
    "    low_var_cf = []\n",
    "    for col in cf:\n",
    "        if df[col].value_counts()[df[col].value_counts() / \n",
    "                                  df[col].size * 100 > 95].any():\n",
    "            low_var_cf.append(cf)\n",
    "    cf = [col for col in cf if col not in low_var_cf]\n",
    "    selected += cf\n",
    "    selected.append('SalePrice')\n",
    "    \n",
    "    df_copy = df[selected].copy()\n",
    "    \n",
    "    # convert categorical features to category types and dummy code\n",
    "    for col in cf:\n",
    "        df_copy[col] = df_copy[col].astype('category')\n",
    "        cf_dummies = pd.get_dummies(df_copy[col])\n",
    "        df_copy = pd.concat([df_copy, cf_dummies], axis=1)\n",
    "        del df_copy[col]\n",
    "        \n",
    "    # remove categorical features that don't correlate well...\n",
    "    \n",
    "    return df_copy\n",
    "\n",
    "\n",
    "def train_and_test(df, target):\n",
    "    \"\"\"\n",
    "    Train and test linear regression model on data to \n",
    "    predict given target variable.\n",
    "    \n",
    "    Parameters\n",
    "    ----------\n",
    "    df: DataFrame\n",
    "        Dataset on which to train and test model.\n",
    "    target: str\n",
    "        Column name of target variable.\n",
    "        \n",
    "    Returns\n",
    "    -------\n",
    "    float\n",
    "        RMSE value of test prediction.\n",
    "    \"\"\"\n",
    "    \n",
    "    # split dataset into training and testing data\n",
    "    train = df[:1460]\n",
    "    test = df[1460:]\n",
    "    \n",
    "    # train model using all numerical columns except target\n",
    "    features = [col for col in df.columns if\n",
    "                (pd.api.types.is_numeric_dtype(df[col]) and\n",
    "                 col != target)]\n",
    "    \n",
    "    # instantiate model\n",
    "    lr = LinearRegression()\n",
    "    \n",
    "    # fit model on training data\n",
    "    lr.fit(train[features], train[target])\n",
    "    \n",
    "    # predict test data target\n",
    "    predict = lr.predict(test[features])\n",
    "    \n",
    "    # calculate rmse\n",
    "    rmse = np.sqrt(mean_squared_error(predict, test[target]))\n",
    "    \n",
    "    return rmse"
   ]
  },
  {
   "cell_type": "code",
   "execution_count": 27,
   "metadata": {
    "collapsed": false
   },
   "outputs": [
    {
     "data": {
      "text/plain": [
       "1267885976096.3364"
      ]
     },
     "execution_count": 27,
     "metadata": {},
     "output_type": "execute_result"
    }
   ],
   "source": [
    "houses_v2 = houses.copy()\n",
    "tf_houses = transform_features(houses_v2)\n",
    "sf_houses = select_features(tf_houses)\n",
    "train_and_test(sf_houses, 'SalePrice')"
   ]
  },
  {
   "cell_type": "markdown",
   "metadata": {},
   "source": [
    "## Training and Testing"
   ]
  },
  {
   "cell_type": "markdown",
   "metadata": {},
   "source": [
    "Finally, we update the training and testing function to take an input parameter dictating which type of validation to perform."
   ]
  },
  {
   "cell_type": "code",
   "execution_count": 58,
   "metadata": {
    "collapsed": false
   },
   "outputs": [],
   "source": [
    "def train_and_test(df, target, k=0):\n",
    "    \"\"\"\n",
    "    Train and test linear regression model on data to \n",
    "    predict given target variable.\n",
    "    \n",
    "    Parameters\n",
    "    ----------\n",
    "    df: DataFrame\n",
    "        Dataset on which to train and test model.\n",
    "    target: str\n",
    "        Column name of target variable.\n",
    "    k : int\n",
    "        The number of folds for k-fold cross validation.\n",
    "        \n",
    "    Returns\n",
    "    -------\n",
    "    float\n",
    "        RMSE value of test prediction.\n",
    "    \"\"\"\n",
    " \n",
    "    # train model using all numerical columns except target\n",
    "    features = [col for col in df.columns if\n",
    "                (pd.api.types.is_numeric_dtype(df[col]) and  \n",
    "                 col != target)]\n",
    "    # instantiate model\n",
    "    lr = LinearRegression()\n",
    "    \n",
    "    # holdout validation\n",
    "    if k == 0:\n",
    "    \n",
    "        # split dataset into training and testing data\n",
    "        train = df[:1460]\n",
    "        test = df[1460:]\n",
    "    \n",
    "        # fit model on training data\n",
    "        lr.fit(train[features], train[target])\n",
    "    \n",
    "        # predict test data target\n",
    "        predict = lr.predict(test[features])\n",
    "    \n",
    "        # calculate rmse\n",
    "        rmse = np.sqrt(mean_squared_error(predict, test[target]))\n",
    "    \n",
    "    # simple cross validation\n",
    "    elif k == 1:\n",
    "        \n",
    "        # shuffle order\n",
    "        df = df.sample(frac=1)\n",
    "        \n",
    "        # split dataset into folds\n",
    "        fold_one = df[:1460]\n",
    "        fold_two = df[1460:]\n",
    "    \n",
    "        # fit model on fold one and test on fold two\n",
    "        lr.fit(fold_one[features], fold_one[target])\n",
    "        predict_one = lr.predict(fold_two[features])\n",
    "    \n",
    "        # fit model on fold two and test on fold one\n",
    "        lr.fit(fold_two[features], fold_two[target])\n",
    "        predict_two = lr.predict(fold_one[features])\n",
    "        \n",
    "        # computer average rmse\n",
    "        rmse_one = np.sqrt(mean_squared_error(predict_one, \n",
    "                                              fold_two[target]))\n",
    "        rmse_two = np.sqrt(mean_squared_error(predict_two,\n",
    "                                              fold_one[target]))\n",
    "        rmse = np.mean([rmse_one, rmse_two])\n",
    "        \n",
    "    # k-fold cross validation\n",
    "    else:\n",
    "        \n",
    "        # shuffle order (?)\n",
    "        df = df.sample(frac=1)\n",
    "        \n",
    "        # split dataset into k folds\n",
    "        kf = KFold(n_splits=k, shuffle=True)\n",
    "        \n",
    "        # loop over folds\n",
    "        rmse_list = []\n",
    "        for train_index, test_index in kf.split(df):\n",
    "            \n",
    "            # select training and test sets\n",
    "            train = df.iloc[train_index]\n",
    "            test = df.iloc[test_index]\n",
    "            \n",
    "            # fit and test model\n",
    "            lr.fit(train[features], train[target])\n",
    "            predict = lr.predict(test[features])\n",
    "            \n",
    "            # compute rmse\n",
    "            rmse_list.append(np.sqrt(mean_squared_error(predict,\n",
    "                                                        test[target])))\n",
    "        \n",
    "        # calcualte average rmse\n",
    "        rmse = np.mean(rmse_list)         \n",
    "    \n",
    "    return rmse"
   ]
  },
  {
   "cell_type": "code",
   "execution_count": 60,
   "metadata": {
    "collapsed": false
   },
   "outputs": [
    {
     "data": {
      "text/plain": [
       "598505934252.7665"
      ]
     },
     "execution_count": 60,
     "metadata": {},
     "output_type": "execute_result"
    }
   ],
   "source": [
    "train_and_test(sf_houses, 'SalePrice', 5)"
   ]
  }
 ],
 "metadata": {
  "anaconda-cloud": {},
  "kernelspec": {
   "display_name": "Python 3",
   "language": "python",
   "name": "python3"
  },
  "language_info": {
   "codemirror_mode": {
    "name": "ipython",
    "version": 3
   },
   "file_extension": ".py",
   "mimetype": "text/x-python",
   "name": "python",
   "nbconvert_exporter": "python",
   "pygments_lexer": "ipython3",
   "version": "3.4.3"
  }
 },
 "nbformat": 4,
 "nbformat_minor": 2
}
