{
 "cells": [
  {
   "cell_type": "markdown",
   "metadata": {},
   "source": [
    "# Programming a Mobile App for Estimating Lottery Winning Probabilities\n",
    "\n",
    "## Introduction\n",
    "\n",
    "We are working with a medical institute to aid in the development of a mobile app intended to prevent and treat lottery addiction. The app will help lottery addicts better estimate their chances of winning by answering basic probability questions related to the lottery, i.e., \"What is the probability of winning the big prize if we have play n different tickets?\". \n",
    "\n",
    "While the institute's engineers will build the app itself, we are responsible for creating the core logic and calculating the probabilities. For the first version of the app, we focus on the 6/49 lottery, one of the national lottery games in Canada, where six (6) numbers are drawn from a set of forty-nine (49). The app will also enable users to compare their habits to historical data. For this purpose, we use a [lottery dataset](https://www.kaggle.com/datascienceai/lottery-dataset) containing 3,665 drawings of the 6/49 game in Canada between 1982 and 2018."
   ]
  },
  {
   "cell_type": "markdown",
   "metadata": {},
   "source": [
    "## Coding Central Functions\n",
    "\n",
    "Before we begin calculating probabilities and combinatorics, we need to define two critical functions that we will use throughout our work. \n",
    "\n",
    "The `factorial` function calculates factorials using the formula $$n! = n \\times (n-1) \\times (n-2) \\times ... \\times 2 \\times 1,$$\n",
    "\n",
    "and the `combinations` function calculates n choose k, or the number of ways of choosing an unordered subset of k elements from a set of n elements, as $$_nC_k = \\frac{n!}{k!(n-k)!}.$$"
   ]
  },
  {
   "cell_type": "code",
   "execution_count": 65,
   "metadata": {
    "collapsed": true
   },
   "outputs": [],
   "source": [
    "def factorial(n):\n",
    "    \"\"\"Calculate n!.\n",
    "    \n",
    "    Parameters\n",
    "    ----------\n",
    "    n : int\n",
    "        Integer of which to calculate factorial\n",
    "    \n",
    "    Returns\n",
    "    -------\n",
    "    int\n",
    "        Result of n!.\n",
    "    \"\"\"\n",
    "    if n == 1:\n",
    "        return n\n",
    "    else:\n",
    "        return n * factorial(n-1)"
   ]
  },
  {
   "cell_type": "code",
   "execution_count": 66,
   "metadata": {
    "collapsed": true
   },
   "outputs": [],
   "source": [
    "def combinations(n, k):\n",
    "    \"\"\"Calculate number n choose k combinations.\n",
    "    \n",
    "    Parameters\n",
    "    ----------\n",
    "    n : int\n",
    "        Number of elements in set.\n",
    "    k : int\n",
    "        Number of elements in unordered subset.\n",
    "        \n",
    "    Returns\n",
    "    -------\n",
    "    int\n",
    "        Result of n choose k (number of combinations).\n",
    "    \"\"\"\n",
    "    return factorial(n) / (factorial(k) * factorial(n-k))"
   ]
  },
  {
   "cell_type": "markdown",
   "metadata": {},
   "source": [
    "## Calculating the Probability of Winning the Big Prize\n",
    "\n",
    "With the above core functions in place, we can now begin calculating probabilities. For the initial app version, we want to allow users to calculate the probability of winning the prize given their individual tickets. For the 6/49 lottery, this constitutes calculating the probability of six numbers drawn *without replacement* from a set of 49 matching the six numbers on a player's ticket exactly (but in any order). \n",
    "\n",
    "Below, we define a function to calculate the probability of winning the big prize for any given ticket. The function takes a list of six different numbers input by the user and outputs a probability value in a user-friendly way."
   ]
  },
  {
   "cell_type": "code",
   "execution_count": 84,
   "metadata": {
    "collapsed": false
   },
   "outputs": [],
   "source": [
    "def one_ticket_probability(ticket):\n",
    "    \"\"\"\n",
    "    Calculate probability of winning big prize of 6/49 lottery game \n",
    "    for given ticket.\n",
    "    \n",
    "    Parameters\n",
    "    ----------\n",
    "    ticket : list of int\n",
    "        Six unique integers, each ranging from 1 to 49.\n",
    "    \n",
    "    Returns\n",
    "    -------\n",
    "    float\n",
    "        Probability of ticket matching the winning numbers exactly.\n",
    "    \"\"\"\n",
    "    \n",
    "    n_outcomes = combinations(49, 6)\n",
    "    n_successes = 1\n",
    "    p_big_win = n_successes / n_outcomes\n",
    "    \n",
    "    print('The probability of winning the big prize with ticket',\n",
    "          '{} is {:.7f}%.'.format(ticket, p_big_win * 100))\n",
    "    print('This means you have a {} in {:,} chance of winning.'\n",
    "          .format(n_successes, int(n_outcomes)))\n",
    "    \n",
    "    return p_big_win"
   ]
  },
  {
   "cell_type": "code",
   "execution_count": 85,
   "metadata": {
    "collapsed": false,
    "scrolled": true
   },
   "outputs": [
    {
     "name": "stdout",
     "output_type": "stream",
     "text": [
      "The probability of winning the big prize with ticket [1, 2, 3, 4, 5, 6] is 0.0000072%.\n",
      "This means you have a 1 in 13,983,816 chance of winning.\n"
     ]
    }
   ],
   "source": [
    "# test function\n",
    "test_one_ticket_prob = one_ticket_probability([1,2,3,4,5,6])"
   ]
  },
  {
   "cell_type": "markdown",
   "metadata": {},
   "source": [
    "### Comparing Against Historical Lottery Data\n",
    "\n",
    "The app will also contain an option for users to compare their tickets against historical lottery data to determine if they would have ever been winners in the past.\n",
    "\n",
    "#### Exploring the Historical Data\n",
    "\n",
    "We begin programming this task by exploring the historical lottery dataset, which contains 3,665 drawings of the Canadian 6/49 lottery game between the years 1982 and 2018. Each drawing is represented as a single row, with each of the six numbers drawn represented in an individual column."
   ]
  },
  {
   "cell_type": "code",
   "execution_count": 69,
   "metadata": {
    "collapsed": true
   },
   "outputs": [],
   "source": [
    "# import pandas and read in dataset\n",
    "import pandas as pd\n",
    "data_649 = pd.read_csv('649.csv')"
   ]
  },
  {
   "cell_type": "code",
   "execution_count": 70,
   "metadata": {
    "collapsed": false
   },
   "outputs": [
    {
     "data": {
      "text/plain": [
       "(3665, 11)"
      ]
     },
     "execution_count": 70,
     "metadata": {},
     "output_type": "execute_result"
    }
   ],
   "source": [
    "# print number of rows and columns\n",
    "data_649.shape"
   ]
  },
  {
   "cell_type": "code",
   "execution_count": 71,
   "metadata": {
    "collapsed": false
   },
   "outputs": [
    {
     "data": {
      "text/html": [
       "<div>\n",
       "<style scoped>\n",
       "    .dataframe tbody tr th:only-of-type {\n",
       "        vertical-align: middle;\n",
       "    }\n",
       "\n",
       "    .dataframe tbody tr th {\n",
       "        vertical-align: top;\n",
       "    }\n",
       "\n",
       "    .dataframe thead th {\n",
       "        text-align: right;\n",
       "    }\n",
       "</style>\n",
       "<table border=\"1\" class=\"dataframe\">\n",
       "  <thead>\n",
       "    <tr style=\"text-align: right;\">\n",
       "      <th></th>\n",
       "      <th>PRODUCT</th>\n",
       "      <th>DRAW NUMBER</th>\n",
       "      <th>SEQUENCE NUMBER</th>\n",
       "      <th>DRAW DATE</th>\n",
       "      <th>NUMBER DRAWN 1</th>\n",
       "      <th>NUMBER DRAWN 2</th>\n",
       "      <th>NUMBER DRAWN 3</th>\n",
       "      <th>NUMBER DRAWN 4</th>\n",
       "      <th>NUMBER DRAWN 5</th>\n",
       "      <th>NUMBER DRAWN 6</th>\n",
       "      <th>BONUS NUMBER</th>\n",
       "    </tr>\n",
       "  </thead>\n",
       "  <tbody>\n",
       "    <tr>\n",
       "      <th>0</th>\n",
       "      <td>649</td>\n",
       "      <td>1</td>\n",
       "      <td>0</td>\n",
       "      <td>6/12/1982</td>\n",
       "      <td>3</td>\n",
       "      <td>11</td>\n",
       "      <td>12</td>\n",
       "      <td>14</td>\n",
       "      <td>41</td>\n",
       "      <td>43</td>\n",
       "      <td>13</td>\n",
       "    </tr>\n",
       "    <tr>\n",
       "      <th>1</th>\n",
       "      <td>649</td>\n",
       "      <td>2</td>\n",
       "      <td>0</td>\n",
       "      <td>6/19/1982</td>\n",
       "      <td>8</td>\n",
       "      <td>33</td>\n",
       "      <td>36</td>\n",
       "      <td>37</td>\n",
       "      <td>39</td>\n",
       "      <td>41</td>\n",
       "      <td>9</td>\n",
       "    </tr>\n",
       "    <tr>\n",
       "      <th>2</th>\n",
       "      <td>649</td>\n",
       "      <td>3</td>\n",
       "      <td>0</td>\n",
       "      <td>6/26/1982</td>\n",
       "      <td>1</td>\n",
       "      <td>6</td>\n",
       "      <td>23</td>\n",
       "      <td>24</td>\n",
       "      <td>27</td>\n",
       "      <td>39</td>\n",
       "      <td>34</td>\n",
       "    </tr>\n",
       "  </tbody>\n",
       "</table>\n",
       "</div>"
      ],
      "text/plain": [
       "   PRODUCT  DRAW NUMBER  SEQUENCE NUMBER  DRAW DATE  NUMBER DRAWN 1  \\\n",
       "0      649            1                0  6/12/1982               3   \n",
       "1      649            2                0  6/19/1982               8   \n",
       "2      649            3                0  6/26/1982               1   \n",
       "\n",
       "   NUMBER DRAWN 2  NUMBER DRAWN 3  NUMBER DRAWN 4  NUMBER DRAWN 5  \\\n",
       "0              11              12              14              41   \n",
       "1              33              36              37              39   \n",
       "2               6              23              24              27   \n",
       "\n",
       "   NUMBER DRAWN 6  BONUS NUMBER  \n",
       "0              43            13  \n",
       "1              41             9  \n",
       "2              39            34  "
      ]
     },
     "execution_count": 71,
     "metadata": {},
     "output_type": "execute_result"
    }
   ],
   "source": [
    "# print first three rows\n",
    "data_649.head(3)"
   ]
  },
  {
   "cell_type": "code",
   "execution_count": 72,
   "metadata": {
    "collapsed": false
   },
   "outputs": [
    {
     "data": {
      "text/html": [
       "<div>\n",
       "<style scoped>\n",
       "    .dataframe tbody tr th:only-of-type {\n",
       "        vertical-align: middle;\n",
       "    }\n",
       "\n",
       "    .dataframe tbody tr th {\n",
       "        vertical-align: top;\n",
       "    }\n",
       "\n",
       "    .dataframe thead th {\n",
       "        text-align: right;\n",
       "    }\n",
       "</style>\n",
       "<table border=\"1\" class=\"dataframe\">\n",
       "  <thead>\n",
       "    <tr style=\"text-align: right;\">\n",
       "      <th></th>\n",
       "      <th>PRODUCT</th>\n",
       "      <th>DRAW NUMBER</th>\n",
       "      <th>SEQUENCE NUMBER</th>\n",
       "      <th>DRAW DATE</th>\n",
       "      <th>NUMBER DRAWN 1</th>\n",
       "      <th>NUMBER DRAWN 2</th>\n",
       "      <th>NUMBER DRAWN 3</th>\n",
       "      <th>NUMBER DRAWN 4</th>\n",
       "      <th>NUMBER DRAWN 5</th>\n",
       "      <th>NUMBER DRAWN 6</th>\n",
       "      <th>BONUS NUMBER</th>\n",
       "    </tr>\n",
       "  </thead>\n",
       "  <tbody>\n",
       "    <tr>\n",
       "      <th>3662</th>\n",
       "      <td>649</td>\n",
       "      <td>3589</td>\n",
       "      <td>0</td>\n",
       "      <td>6/13/2018</td>\n",
       "      <td>6</td>\n",
       "      <td>22</td>\n",
       "      <td>24</td>\n",
       "      <td>31</td>\n",
       "      <td>32</td>\n",
       "      <td>34</td>\n",
       "      <td>16</td>\n",
       "    </tr>\n",
       "    <tr>\n",
       "      <th>3663</th>\n",
       "      <td>649</td>\n",
       "      <td>3590</td>\n",
       "      <td>0</td>\n",
       "      <td>6/16/2018</td>\n",
       "      <td>2</td>\n",
       "      <td>15</td>\n",
       "      <td>21</td>\n",
       "      <td>31</td>\n",
       "      <td>38</td>\n",
       "      <td>49</td>\n",
       "      <td>8</td>\n",
       "    </tr>\n",
       "    <tr>\n",
       "      <th>3664</th>\n",
       "      <td>649</td>\n",
       "      <td>3591</td>\n",
       "      <td>0</td>\n",
       "      <td>6/20/2018</td>\n",
       "      <td>14</td>\n",
       "      <td>24</td>\n",
       "      <td>31</td>\n",
       "      <td>35</td>\n",
       "      <td>37</td>\n",
       "      <td>48</td>\n",
       "      <td>17</td>\n",
       "    </tr>\n",
       "  </tbody>\n",
       "</table>\n",
       "</div>"
      ],
      "text/plain": [
       "      PRODUCT  DRAW NUMBER  SEQUENCE NUMBER  DRAW DATE  NUMBER DRAWN 1  \\\n",
       "3662      649         3589                0  6/13/2018               6   \n",
       "3663      649         3590                0  6/16/2018               2   \n",
       "3664      649         3591                0  6/20/2018              14   \n",
       "\n",
       "      NUMBER DRAWN 2  NUMBER DRAWN 3  NUMBER DRAWN 4  NUMBER DRAWN 5  \\\n",
       "3662              22              24              31              32   \n",
       "3663              15              21              31              38   \n",
       "3664              24              31              35              37   \n",
       "\n",
       "      NUMBER DRAWN 6  BONUS NUMBER  \n",
       "3662              34            16  \n",
       "3663              49             8  \n",
       "3664              48            17  "
      ]
     },
     "execution_count": 72,
     "metadata": {},
     "output_type": "execute_result"
    }
   ],
   "source": [
    "# print last three rows\n",
    "data_649.tail(3)"
   ]
  },
  {
   "cell_type": "markdown",
   "metadata": {},
   "source": [
    "#### Determining Past Winners\n",
    "\n",
    "Using this historical data, we can now write a function to enable users to compare their tickets against past 6/49 lottery drawings to determine if their numbers would have ever been winners before. This function takes a list of six different numbers, representing the user's ticket, and outputs the number of times the ticket was a big prize winner in the past, as well as the probability of the ticket being a big prize winner in the future.\n",
    "\n",
    "We first extract all the sets of winning numbers from the dataframe. Then we pass these along with the user's ticket to the historical comparison function."
   ]
  },
  {
   "cell_type": "code",
   "execution_count": 73,
   "metadata": {
    "collapsed": true
   },
   "outputs": [],
   "source": [
    "def extract_numbers(drawing):\n",
    "    \"\"\"\n",
    "    Return set of winning numbers from drawn number columns in df row.\n",
    "    \n",
    "    Parameters\n",
    "    ----------\n",
    "    drawing : pandas.Series\n",
    "        Row of dataframe, representing individual lottery drawing.\n",
    "    \n",
    "    Returns\n",
    "    -------\n",
    "    set of int\n",
    "        Six winning numbers.\n",
    "    \"\"\"\n",
    "    \n",
    "    return set(drawing[4:10].values)"
   ]
  },
  {
   "cell_type": "code",
   "execution_count": 74,
   "metadata": {
    "collapsed": false
   },
   "outputs": [
    {
     "data": {
      "text/plain": [
       "0    {3, 41, 11, 12, 43, 14}\n",
       "1    {33, 36, 37, 39, 8, 41}\n",
       "2     {1, 6, 39, 23, 24, 27}\n",
       "3     {3, 9, 10, 43, 13, 20}\n",
       "4    {34, 5, 14, 47, 21, 31}\n",
       "dtype: object"
      ]
     },
     "execution_count": 74,
     "metadata": {},
     "output_type": "execute_result"
    }
   ],
   "source": [
    "# extract all sets of winning numbers\n",
    "winners = data_649.apply(extract_numbers, axis=1)\n",
    "winners.head()"
   ]
  },
  {
   "cell_type": "code",
   "execution_count": 89,
   "metadata": {
    "collapsed": true
   },
   "outputs": [],
   "source": [
    "def check_historical_occurence(ticket, winners):\n",
    "    \"\"\"\n",
    "    Determine the number of times ticket has won in past lotteries.\n",
    "    \n",
    "    Parameters\n",
    "    ----------\n",
    "    ticket : list of int\n",
    "        Six unique integers, each ranging from 1 to 49.\n",
    "    winners : pandas.Series\n",
    "        Series of sets of six winning numbers.\n",
    "    \n",
    "    Returns\n",
    "    -------\n",
    "    int\n",
    "        Number of times ticket has won in the past.\n",
    "    \"\"\"\n",
    "    \n",
    "    ticket = set(ticket)\n",
    "    n_wins = (winners == ticket).sum()\n",
    "    \n",
    "    print('This ticket has won the big prize {} time(s) in the past.'\n",
    "          .format(n_wins))\n",
    "    \n",
    "    future_prob = one_ticket_probability(ticket)\n",
    "    \n",
    "    return n_wins"
   ]
  },
  {
   "cell_type": "code",
   "execution_count": 90,
   "metadata": {
    "collapsed": false
   },
   "outputs": [
    {
     "name": "stdout",
     "output_type": "stream",
     "text": [
      "This ticket has won the big prize 1 time(s) in the past.\n",
      "The probability of winning the big prize with ticket {32, 34, 6, 22, 24, 31} is 0.0000072%.\n",
      "This means you have a 1 in 13,983,816 chance of winning.\n"
     ]
    },
    {
     "data": {
      "text/plain": [
       "1"
      ]
     },
     "execution_count": 90,
     "metadata": {},
     "output_type": "execute_result"
    }
   ],
   "source": [
    "check_historical_occurence([6, 22, 24, 31, 32, 34], winners)"
   ]
  },
  {
   "cell_type": "markdown",
   "metadata": {},
   "source": [
    "### Calculating Probabilities for Multiple Tickets\n",
    "\n",
    "The app we're developing is geared towards lottery addicts. Most people who play the lottery often play multiple tickets per drawing, hoping to increase their odds of winning. We want to add a function to the app that will enable users to realize their chances of winning for any number of different tickets played at a time. This function takes an integer between 1 and 13,983,816 (the maximum number of unique tickets), indicating the number of tickets the user is playing at once, and returns the probability of the user winning the big prize with the given number of tickets. The specific numbers on the tickets are not relevant."
   ]
  },
  {
   "cell_type": "code",
   "execution_count": 106,
   "metadata": {
    "collapsed": true
   },
   "outputs": [],
   "source": [
    "def multi_ticket_probability(n):\n",
    "    \"\"\"\n",
    "    Calculate probability of winning big prize of 6/49 lottery game \n",
    "    for given number of tickets.\n",
    "    \n",
    "    Parameters\n",
    "    ----------\n",
    "    n : int\n",
    "        Number of lottery tickets being played.\n",
    "    \n",
    "    Returns\n",
    "    -------\n",
    "    float\n",
    "        Probability of one of tickets being a winner.\n",
    "    \"\"\"\n",
    "    \n",
    "    n_outcomes = combinations(49, 6)\n",
    "    n_successes = n\n",
    "    p_big_win = n_successes / n_outcomes\n",
    "    \n",
    "    print('The probability of winning the big prize with',\n",
    "          '{} ticket(s) is {:.7f}%.'.format(n, p_big_win * 100))\n",
    "    print('This means you have a {} in {:,} chance of winning.'\n",
    "          .format(1, int(n_outcomes / n_successes)))\n",
    "    \n",
    "    return p_big_win"
   ]
  },
  {
   "cell_type": "code",
   "execution_count": 107,
   "metadata": {
    "collapsed": false
   },
   "outputs": [
    {
     "name": "stdout",
     "output_type": "stream",
     "text": [
      "The probability of winning the big prize with 1 ticket(s) is 0.0000072%.\n",
      "This means you have a 1 in 13,983,816 chance of winning.\n",
      "The probability of winning the big prize with 10 ticket(s) is 0.0000715%.\n",
      "This means you have a 1 in 1,398,381 chance of winning.\n",
      "The probability of winning the big prize with 100 ticket(s) is 0.0007151%.\n",
      "This means you have a 1 in 139,838 chance of winning.\n",
      "The probability of winning the big prize with 10000 ticket(s) is 0.0715112%.\n",
      "This means you have a 1 in 1,398 chance of winning.\n",
      "The probability of winning the big prize with 1000000 ticket(s) is 7.1511238%.\n",
      "This means you have a 1 in 13 chance of winning.\n",
      "The probability of winning the big prize with 6991908 ticket(s) is 50.0000000%.\n",
      "This means you have a 1 in 2 chance of winning.\n",
      "The probability of winning the big prize with 13983816 ticket(s) is 100.0000000%.\n",
      "This means you have a 1 in 1 chance of winning.\n"
     ]
    }
   ],
   "source": [
    "n_tickets = [1, 10, 100, 10000, 1000000, 6991908, 13983816]\n",
    "for n_tix in n_tickets:\n",
    "    n_tix_prob = multi_ticket_probability(n_tix)"
   ]
  },
  {
   "cell_type": "markdown",
   "metadata": {},
   "source": [
    "## Calculating the Probability of Smaller Winnings\n",
    "\n",
    "The final app functionality we want to include is to allower users to calculate the probabilities of having some but not all of the winning numbers. Most 6/49 lotteries offer smaller prizes for having tickets with two, three, four, or five of the winning numbers, so it's likely our users will be interested in their chances of these smaller winnings.\n",
    "\n",
    "Below, we define a function to calculate the probabilities of winning each of the smaller prizes, with between two and five winning numbers, for a given ticket. The function takes an integer representing the number of potential winning numbers and returns the probability of having that many winning numbers."
   ]
  },
  {
   "cell_type": "code",
   "execution_count": 121,
   "metadata": {
    "collapsed": true
   },
   "outputs": [],
   "source": [
    "def probability_less_6(n):\n",
    "    \"\"\"\n",
    "    Calculate probability of having n winning numbers of 6/49\n",
    "    lottery game, where n is between 2 and 5.\n",
    "    \n",
    "    Parameters\n",
    "    ----------\n",
    "    n : int\n",
    "        Number of potential winning numbers.\n",
    "        \n",
    "    Returns\n",
    "    -------\n",
    "    float\n",
    "        Probability of having n winning numbers.\n",
    "    \"\"\"\n",
    "    \n",
    "    n_successes = combinations(6, n) * combinations(43, 6-n)\n",
    "    n_outcomes = combinations(49, 6)\n",
    "    p = n_successes / n_outcomes\n",
    "    \n",
    "    print('The probability of having {} winning numbers is {:.7f}%.'\n",
    "          .format(n, p * 100))\n",
    "    print('This means you have a {} in {:,} chance of winning.'\n",
    "          .format(1, int(n_outcomes / n_successes)))"
   ]
  },
  {
   "cell_type": "code",
   "execution_count": 123,
   "metadata": {
    "collapsed": false
   },
   "outputs": [
    {
     "name": "stdout",
     "output_type": "stream",
     "text": [
      "The probability of having 2 winning numbers is 13.2378029%.\n",
      "This means you have a 1 in 7 chance of winning.\n",
      "The probability of having 3 winning numbers is 1.7650404%.\n",
      "This means you have a 1 in 56 chance of winning.\n",
      "The probability of having 4 winning numbers is 0.0968620%.\n",
      "This means you have a 1 in 1,032 chance of winning.\n",
      "The probability of having 5 winning numbers is 0.0018450%.\n",
      "This means you have a 1 in 54,200 chance of winning.\n"
     ]
    }
   ],
   "source": [
    "for i in [2, 3, 4, 5]:\n",
    "    probability_less_6(i)"
   ]
  },
  {
   "cell_type": "markdown",
   "metadata": {},
   "source": [
    "## Conclusion\n",
    "\n",
    "We have now successfully created the logic behind the first version of our lottery probability app. There are many future improvements we could make in the second version, such as presenting probabilities in more understandable ways by comparing them to real world events and calculating the probabilities of having *at least*, instead of exactly, some multitude of winning numbers. We leave these steps for the future."
   ]
  },
  {
   "cell_type": "code",
   "execution_count": null,
   "metadata": {
    "collapsed": true
   },
   "outputs": [],
   "source": []
  }
 ],
 "metadata": {
  "kernelspec": {
   "display_name": "Python 3",
   "language": "python",
   "name": "python3"
  },
  "language_info": {
   "codemirror_mode": {
    "name": "ipython",
    "version": 3
   },
   "file_extension": ".py",
   "mimetype": "text/x-python",
   "name": "python",
   "nbconvert_exporter": "python",
   "pygments_lexer": "ipython3",
   "version": "3.4.3"
  }
 },
 "nbformat": 4,
 "nbformat_minor": 2
}
